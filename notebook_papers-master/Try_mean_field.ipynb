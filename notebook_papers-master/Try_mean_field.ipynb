{
 "cells": [
  {
   "cell_type": "code",
   "execution_count": 30,
   "id": "bc49ad68",
   "metadata": {},
   "outputs": [
    {
     "name": "stdout",
     "output_type": "stream",
     "text": [
      "-------> Tested under the following settings:\n",
      "SciPy version : 1.9.1\n",
      "NumPy version : 1.21.6\n",
      "Matplotlib version : 3.5.2\n",
      "Brian2 version : 2.5.1\n"
     ]
    }
   ],
   "source": [
    "print('-------> Tested under the following settings:')\n",
    "import scipy\n",
    "print('SciPy version :', scipy.__version__)\n",
    "import numpy\n",
    "print('NumPy version :', numpy.__version__)\n",
    "import matplotlib\n",
    "print('Matplotlib version :', matplotlib.__version__)\n",
    "import brian2\n",
    "print('Brian2 version :', brian2.__version__)"
   ]
  },
  {
   "cell_type": "code",
   "execution_count": 31,
   "id": "b4026e1e",
   "metadata": {},
   "outputs": [],
   "source": [
    "TF1 = np.load(\"data/RS-cell_CONFIG1_fit.npy\")"
   ]
  },
  {
   "cell_type": "code",
   "execution_count": 23,
   "id": "97c5905a",
   "metadata": {},
   "outputs": [
    {
     "data": {
      "text/plain": [
       "array([-5.28798271e-02,  6.33942992e-03, -6.24385158e-04,  4.53864113e-04,\n",
       "       -5.35849598e-04,  5.28552674e-04, -4.12368909e-03, -2.95888703e-04,\n",
       "       -5.89744464e-05,  2.15746551e-04,  1.87178819e-03])"
      ]
     },
     "execution_count": 23,
     "metadata": {},
     "output_type": "execute_result"
    }
   ],
   "source": [
    "TF1\n"
   ]
  },
  {
   "cell_type": "code",
   "execution_count": 32,
   "id": "c35e1e36",
   "metadata": {},
   "outputs": [],
   "source": [
    "# displaying figures inline:\n",
    "%matplotlib inline "
   ]
  },
  {
   "cell_type": "code",
   "execution_count": 33,
   "id": "9d367f77",
   "metadata": {},
   "outputs": [
    {
     "name": "stdout",
     "output_type": "stream",
     "text": [
      "cell parameters --NOT-- in SI units\n",
      "{'name': 'RS-cell', 'N': 1, 'Gl': 10.0, 'Cm': 200.0, 'Trefrac': 5.0, 'El': -65.0, 'Vthre': -50.0, 'Vreset': -65.0, 'delta_v': 2.0, 'a': 4.0, 'b': 20.0, 'tauw': 500.0}\n"
     ]
    }
   ],
   "source": [
    "# the parameters are written within a library of neuron parameters\n",
    "from modeling_mesoscopic_dynamics.single_cell_models.cell_library import get_neuron_params\n",
    "RS_params = get_neuron_params('RS-cell', name='RS-cell', SI_units=False)\n",
    "print(RS_params)"
   ]
  },
  {
   "cell_type": "code",
   "execution_count": 34,
   "id": "025aba3c",
   "metadata": {},
   "outputs": [
    {
     "name": "stdout",
     "output_type": "stream",
     "text": [
      "cell parameters --NOT-- in SI units\n",
      "{'name': 'FS-cell', 'N': 1, 'Gl': 10.0, 'Cm': 200.0, 'Trefrac': 5.0, 'El': -65.0, 'Vthre': -50.0, 'Vreset': -65.0, 'delta_v': 0.5, 'a': 0.0, 'b': 0.0, 'tauw': 1000000000.0}\n"
     ]
    }
   ],
   "source": [
    "# the parameters are written within a library of neuron parameters\n",
    "from modeling_mesoscopic_dynamics.single_cell_models.cell_library import get_neuron_params\n",
    "FS_params = get_neuron_params('FS-cell', name='FS-cell', SI_units=False)\n",
    "print(FS_params)"
   ]
  },
  {
   "cell_type": "code",
   "execution_count": 5,
   "id": "f89d2720",
   "metadata": {},
   "outputs": [
    {
     "name": "stdout",
     "output_type": "stream",
     "text": [
      "synaptic network parameters --NOT-- in SI units\n",
      "[[{'p_conn': 0.05, 'Q': 1.0, 'Tsyn': 5.0, 'Erev': 0.0, 'name': 'ee', 'Ntot': 10000, 'gei': 0.2, 'ext_drive': 4.0, 'afferent_exc_fraction': 1.0}\n",
      "  {'p_conn': 0.05, 'Q': 1.0, 'Tsyn': 5.0, 'Erev': 0.0, 'name': 'ei'}]\n",
      " [{'p_conn': 0.05, 'Q': 5.0, 'Tsyn': 5.0, 'Erev': -80.0, 'name': 'ie'}\n",
      "  {'p_conn': 0.05, 'Q': 5.0, 'Tsyn': 5.0, 'Erev': -80.0, 'name': 'ii'}]]\n"
     ]
    }
   ],
   "source": [
    "# Note that we also used the network parameters because it requires the synaptic properties (number of synapses)\n",
    "# they are stored in the following module\n",
    "from modeling_mesoscopic_dynamics.synapses_and_connectivity.syn_and_connec_library import get_connectivity_and_synapses_matrix\n",
    "print(get_connectivity_and_synapses_matrix('CONFIG1'))"
   ]
  },
  {
   "cell_type": "code",
   "execution_count": 35,
   "id": "f050b288",
   "metadata": {},
   "outputs": [
    {
     "ename": "ModuleNotFoundError",
     "evalue": "No module named 'mean_field'",
     "output_type": "error",
     "traceback": [
      "\u001b[0;31m---------------------------------------------------------------------------\u001b[0m",
      "\u001b[0;31mModuleNotFoundError\u001b[0m                       Traceback (most recent call last)",
      "\u001b[0;32m/tmp/ipykernel_15844/3532360248.py\u001b[0m in \u001b[0;36m<module>\u001b[0;34m\u001b[0m\n\u001b[0;32m----> 1\u001b[0;31m \u001b[0;32mfrom\u001b[0m \u001b[0mmean_field\u001b[0m\u001b[0;34m.\u001b[0m\u001b[0meuler_method\u001b[0m \u001b[0;32mimport\u001b[0m \u001b[0mrun_mean_field_extended\u001b[0m\u001b[0;34m\u001b[0m\u001b[0;34m\u001b[0m\u001b[0m\n\u001b[0m",
      "\u001b[0;31mModuleNotFoundError\u001b[0m: No module named 'mean_field'"
     ]
    }
   ],
   "source": [
    "from mean_field.euler_method import run_mean_field_extended"
   ]
  },
  {
   "cell_type": "code",
   "execution_count": 36,
   "id": "639b60dc",
   "metadata": {},
   "outputs": [],
   "source": [
    "import argparse\n",
    "# First a nice documentation \n",
    "parser=argparse.ArgumentParser(description=\n",
    " \"\"\" \n",
    " ----------------------------------------------------------------------\n",
    " Run the a network simulation using brian2\n",
    "\n",
    " Choose CELLULAR and NTWK PARAMETERS from the available libraries\n",
    " see  ../synapses_and_connectivity.syn_and_connec_library.py for the CELLS\n",
    " see ../synapses_and_connectivity.syn_and_connec_library.py for the NTWK\n",
    "\n",
    " Then construct the input as \"NRN_exc--NRN_inh--NTWK\"\n",
    " example: \"LIF--LIF--Vogels-Abbott\"\n",
    " ----------------------------------------------------------------------\n",
    " \"\"\"\n",
    ",formatter_class=argparse.RawTextHelpFormatter)\n",
    "\n",
    "parser.add_argument(\"--CONFIG\",help=\"Cell and Network configuration !\", default='RS-cell--FS-cell--CONFIG1')\n",
    "parser.add_argument(\"--afferent_exc_fraction\",help=\"stimulation amplitude in Hz\", type=float, default=0.)\n",
    "parser.add_argument(\"--amp\",help=\"stimulation amplitude in Hz\", type=float, default=2.)\n",
    "parser.add_argument(\"--t0\",help=\"stimulation middle point in ms\", type=float, default=800.)\n",
    "parser.add_argument(\"--T1\",help=\"stimulation rise time in ms\", type=float, default=60.)\n",
    "parser.add_argument(\"--T2\",help=\"stimulation rise time in ms\", type=float, default=100.)\n",
    "parser.add_argument(\"--DT\",help=\"time steps in ms\", type=float, default=0.1)\n",
    "parser.add_argument(\"--tstop\",help=\"time of simulation in ms\", type=float, default=1200.)\n",
    "parser.add_argument(\"--kick_duration\",help=\" stimulation duration (ms) for the initial kick\",\\\n",
    "                    type=float, default=20.)\n",
    "parser.add_argument(\"--SEED\",help=\"SEED for the simulation\", type=int, default=5)\n",
    "parser.add_argument(\"-f\", \"--file\",help=\"filename for saving\",\\\n",
    "                    default='data/waveform_input_example.npy')\n",
    "parser.add_argument(\"--n_rec\",help=\"number of recorded neurons\", type=int, default=3)\n",
    "parser.add_argument('-S', \"--sim\",action='store_true') # FOR SIMULATION\n",
    "\n",
    "args = parser.parse_args()"
   ]
  },
  {
   "cell_type": "code",
   "execution_count": 37,
   "id": "13810e3c",
   "metadata": {},
   "outputs": [],
   "source": [
    "from modeling_mesoscopic_dynamics.mean_field.euler_method import *"
   ]
  },
  {
   "cell_type": "code",
   "execution_count": 38,
   "id": "360d0b69",
   "metadata": {},
   "outputs": [
    {
     "data": {
      "text/plain": [
       "'/home/maria/.local/share/jupyter/runtime/kernel-d631eed5-402e-402b-9740-36de37af4d70.json'"
      ]
     },
     "execution_count": 38,
     "metadata": {},
     "output_type": "execute_result"
    }
   ],
   "source": [
    "args.file"
   ]
  },
  {
   "cell_type": "code",
   "execution_count": 39,
   "id": "5ddfe3ea",
   "metadata": {
    "scrolled": true
   },
   "outputs": [
    {
     "ename": "OSError",
     "evalue": "Failed to interpret file '/home/maria/.local/share/jupyter/runtime/kernel-d631eed5-402e-402b-9740-36de37af4d70.json' as a pickle",
     "output_type": "error",
     "traceback": [
      "\u001b[0;31m---------------------------------------------------------------------------\u001b[0m",
      "\u001b[0;31mUnpicklingError\u001b[0m                           Traceback (most recent call last)",
      "\u001b[0;32m/DATA/Maria/anaconda3/lib/python3.9/site-packages/numpy/lib/npyio.py\u001b[0m in \u001b[0;36mload\u001b[0;34m(file, mmap_mode, allow_pickle, fix_imports, encoding)\u001b[0m\n\u001b[1;32m    447\u001b[0m             \u001b[0;32mtry\u001b[0m\u001b[0;34m:\u001b[0m\u001b[0;34m\u001b[0m\u001b[0;34m\u001b[0m\u001b[0m\n\u001b[0;32m--> 448\u001b[0;31m                 \u001b[0;32mreturn\u001b[0m \u001b[0mpickle\u001b[0m\u001b[0;34m.\u001b[0m\u001b[0mload\u001b[0m\u001b[0;34m(\u001b[0m\u001b[0mfid\u001b[0m\u001b[0;34m,\u001b[0m \u001b[0;34m**\u001b[0m\u001b[0mpickle_kwargs\u001b[0m\u001b[0;34m)\u001b[0m\u001b[0;34m\u001b[0m\u001b[0;34m\u001b[0m\u001b[0m\n\u001b[0m\u001b[1;32m    449\u001b[0m             \u001b[0;32mexcept\u001b[0m \u001b[0mException\u001b[0m \u001b[0;32mas\u001b[0m \u001b[0me\u001b[0m\u001b[0;34m:\u001b[0m\u001b[0;34m\u001b[0m\u001b[0;34m\u001b[0m\u001b[0m\n",
      "\u001b[0;31mUnpicklingError\u001b[0m: invalid load key, '{'.",
      "\nThe above exception was the direct cause of the following exception:\n",
      "\u001b[0;31mOSError\u001b[0m                                   Traceback (most recent call last)",
      "\u001b[0;32m/tmp/ipykernel_15844/2694414435.py\u001b[0m in \u001b[0;36m<module>\u001b[0;34m\u001b[0m\n\u001b[1;32m      5\u001b[0m \u001b[0mtime_array\u001b[0m\u001b[0;34m,\u001b[0m \u001b[0mrate_array\u001b[0m\u001b[0;34m,\u001b[0m \u001b[0mrate_exc\u001b[0m\u001b[0;34m,\u001b[0m \u001b[0mrate_inh\u001b[0m\u001b[0;34m,\u001b[0m\u001b[0;31m\\\u001b[0m\u001b[0;34m\u001b[0m\u001b[0;34m\u001b[0m\u001b[0m\n\u001b[1;32m      6\u001b[0m         \u001b[0mRaster_exc\u001b[0m\u001b[0;34m,\u001b[0m \u001b[0mRaster_inh\u001b[0m\u001b[0;34m,\u001b[0m\u001b[0;31m\\\u001b[0m\u001b[0;34m\u001b[0m\u001b[0;34m\u001b[0m\u001b[0m\n\u001b[0;32m----> 7\u001b[0;31m         \u001b[0mVm_exc\u001b[0m\u001b[0;34m,\u001b[0m \u001b[0mVm_inh\u001b[0m\u001b[0;34m,\u001b[0m \u001b[0mGe_exc\u001b[0m\u001b[0;34m,\u001b[0m \u001b[0mGe_inh\u001b[0m\u001b[0;34m,\u001b[0m \u001b[0mGi_exc\u001b[0m\u001b[0;34m,\u001b[0m \u001b[0mGi_inh\u001b[0m \u001b[0;34m=\u001b[0m \u001b[0mnp\u001b[0m\u001b[0;34m.\u001b[0m\u001b[0mload\u001b[0m\u001b[0;34m(\u001b[0m\u001b[0margs\u001b[0m\u001b[0;34m.\u001b[0m\u001b[0mfile\u001b[0m\u001b[0;34m,\u001b[0m \u001b[0mallow_pickle\u001b[0m\u001b[0;34m=\u001b[0m\u001b[0;32mTrue\u001b[0m\u001b[0;34m)\u001b[0m\u001b[0;34m\u001b[0m\u001b[0;34m\u001b[0m\u001b[0m\n\u001b[0m\u001b[1;32m      8\u001b[0m \u001b[0;34m\u001b[0m\u001b[0m\n\u001b[1;32m      9\u001b[0m \u001b[0;32mif\u001b[0m \u001b[0mzoom_conditions\u001b[0m \u001b[0;32mis\u001b[0m \u001b[0;32mnot\u001b[0m \u001b[0;32mNone\u001b[0m\u001b[0;34m:\u001b[0m\u001b[0;34m\u001b[0m\u001b[0;34m\u001b[0m\u001b[0m\n",
      "\u001b[0;32m/DATA/Maria/anaconda3/lib/python3.9/site-packages/numpy/lib/npyio.py\u001b[0m in \u001b[0;36mload\u001b[0;34m(file, mmap_mode, allow_pickle, fix_imports, encoding)\u001b[0m\n\u001b[1;32m    448\u001b[0m                 \u001b[0;32mreturn\u001b[0m \u001b[0mpickle\u001b[0m\u001b[0;34m.\u001b[0m\u001b[0mload\u001b[0m\u001b[0;34m(\u001b[0m\u001b[0mfid\u001b[0m\u001b[0;34m,\u001b[0m \u001b[0;34m**\u001b[0m\u001b[0mpickle_kwargs\u001b[0m\u001b[0;34m)\u001b[0m\u001b[0;34m\u001b[0m\u001b[0;34m\u001b[0m\u001b[0m\n\u001b[1;32m    449\u001b[0m             \u001b[0;32mexcept\u001b[0m \u001b[0mException\u001b[0m \u001b[0;32mas\u001b[0m \u001b[0me\u001b[0m\u001b[0;34m:\u001b[0m\u001b[0;34m\u001b[0m\u001b[0;34m\u001b[0m\u001b[0m\n\u001b[0;32m--> 450\u001b[0;31m                 raise IOError(\n\u001b[0m\u001b[1;32m    451\u001b[0m                     \"Failed to interpret file %s as a pickle\" % repr(file)) from e\n\u001b[1;32m    452\u001b[0m \u001b[0;34m\u001b[0m\u001b[0m\n",
      "\u001b[0;31mOSError\u001b[0m: Failed to interpret file '/home/maria/.local/share/jupyter/runtime/kernel-d631eed5-402e-402b-9740-36de37af4d70.json' as a pickle"
     ]
    }
   ],
   "source": [
    "zoom_conditions=[args.t0-5*args.T1, args.tstop]\n",
    "raster_number=400\n",
    "\n",
    "\n",
    "time_array, rate_array, rate_exc, rate_inh,\\\n",
    "        Raster_exc, Raster_inh,\\\n",
    "        Vm_exc, Vm_inh, Ge_exc, Ge_inh, Gi_exc, Gi_inh = np.load(args.file, allow_pickle=True)\n",
    "\n",
    "if zoom_conditions is not None:\n",
    "    z = zoom_conditions\n",
    "else:\n",
    "    z = [time_array[0],time_array[-1]]\n",
    "cond_t = (time_array>z[0]) & (time_array<z[1])\n",
    "\n",
    "###### =========================================== ######\n",
    "############# adding the theoretical eval ###############\n",
    "###### =========================================== ######\n",
    "\n",
    "t0 = args.t0-4*args.T1\n",
    "def rate_func(t):\n",
    "    return double_gaussian(t, 1e-3*args.t0, 1e-3*args.T1, 1e-3*args.T2, args.amp)\n",
    "\n",
    "t, fe, fi, sfe, sfei, sfi = run_mean_field_extended(args.CONFIG.split('--')[0],\\\n",
    "                               args.CONFIG.split('--')[1],args.CONFIG.split('--')[2],\\\n",
    "                               rate_func,dt=5e-4,\n",
    "                               tstop=args.tstop*1e-3)\n"
   ]
  },
  {
   "cell_type": "code",
   "execution_count": 1,
   "id": "3e734866",
   "metadata": {},
   "outputs": [],
   "source": [
    "def heaviside(x):\n",
    "    return 0.5*(1+np.sign(x))\n",
    "def double_gaussian(t, t0, T1, T2, amplitude):\n",
    "    return amplitude*(\\\n",
    "                      np.exp(-(t-t0)**2/2./T1**2)*heaviside(-(t-t0))+\\\n",
    "                      np.exp(-(t-t0)**2/2./T2**2)*heaviside(t-t0))\n"
   ]
  },
  {
   "cell_type": "code",
   "execution_count": 16,
   "id": "106ab464",
   "metadata": {
    "scrolled": true
   },
   "outputs": [
    {
     "data": {
      "image/png": "[encoded data removed]",
      "text/plain": [
       "<Figure size 750x350 with 1 Axes>"
      ]
     },
     "metadata": {},
     "output_type": "display_data"
    }
   ],
   "source": [
    "import numpy as np\n",
    "from matplotlib import pyplot as plt\n",
    "\n",
    "plt.rcParams[\"figure.figsize\"] = [7.50, 3.50]\n",
    "plt.rcParams[\"figure.autolayout\"] = True\n",
    "\n",
    "\n",
    "x = np.linspace(-10, 10, 100)\n",
    "\n",
    "plt.plot(x, double_gaussian(x, 3, 5, 2, 3), color='red')\n",
    "\n",
    "plt.show()"
   ]
  },
  {
   "cell_type": "code",
   "execution_count": 1,
   "id": "1202b6f4",
   "metadata": {},
   "outputs": [],
   "source": [
    "def heaviside(x):\n",
    "    return 0.5 * (1 + np.sign(x))\n",
    "   \n",
    "   \n",
    "def input_rate(t, t1_exc, tau1_exc, tau2_exc, ampl_exc, plateau):\n",
    "    # t1_exc=10. # time of the maximum of external stimulation\n",
    "    # tau1_exc=20. # first time constant of perturbation = rising time\n",
    "    # tau2_exc=50. # decaying time\n",
    "    # ampl_exc=20. # amplitude of excitation\n",
    "    inp = ampl_exc * (np.exp(-(t - t1_exc) ** 2 / (2. * tau1_exc ** 2)) * heaviside(-(t - t1_exc)) + \\\n",
    "        heaviside(-(t - (t1_exc+plateau))) * heaviside(t - (t1_exc))+ \\\n",
    "        np.exp(-(t - (t1_exc+plateau)) ** 2 / (2. * tau2_exc ** 2)) * heaviside(t - (t1_exc+plateau)))\n",
    "    return inp\n"
   ]
  },
  {
   "cell_type": "code",
   "execution_count": 3,
   "id": "4dfd216f",
   "metadata": {},
   "outputs": [],
   "source": [
    "import numpy as np"
   ]
  },
  {
   "cell_type": "code",
   "execution_count": 6,
   "id": "27316dfd",
   "metadata": {},
   "outputs": [],
   "source": [
    "import matplotlib.pyplot as plt"
   ]
  },
  {
   "cell_type": "code",
   "execution_count": 44,
   "id": "9d1e5d50",
   "metadata": {},
   "outputs": [],
   "source": [
    "tau_is = np.arange(5.0, 11.0, 0.5)*1.e-3"
   ]
  },
  {
   "cell_type": "code",
   "execution_count": 45,
   "id": "2493c845",
   "metadata": {},
   "outputs": [
    {
     "data": {
      "text/plain": [
       "array([0.005 , 0.0055, 0.006 , 0.0065, 0.007 , 0.0075, 0.008 , 0.0085,\n",
       "       0.009 , 0.0095, 0.01  , 0.0105])"
      ]
     },
     "execution_count": 45,
     "metadata": {},
     "output_type": "execute_result"
    }
   ],
   "source": [
    "tau_is"
   ]
  },
  {
   "cell_type": "code",
   "execution_count": 30,
   "id": "ee389750",
   "metadata": {},
   "outputs": [],
   "source": [
    "AmpStim=3\n",
    "plat = 4000\n",
    "\n",
    "t2 = np.arange(0, 4000, 0.1)\n",
    "test_input = []\n",
    "\n",
    "TauP=100\n",
    "for ji in t2:\n",
    "    test_input.append(0.+input_rate(ji, 200., TauP, TauP, AmpStim, plat))"
   ]
  },
  {
   "cell_type": "code",
   "execution_count": 35,
   "id": "c6a1b4fe",
   "metadata": {},
   "outputs": [
    {
     "data": {
      "text/plain": [
       "(40000,)"
      ]
     },
     "execution_count": 35,
     "metadata": {},
     "output_type": "execute_result"
    }
   ],
   "source": [
    "np.shape(test_input)"
   ]
  },
  {
   "cell_type": "code",
   "execution_count": 8,
   "id": "a1a110a5",
   "metadata": {},
   "outputs": [],
   "source": [
    "x = np.linspace(0,10,40)"
   ]
  },
  {
   "cell_type": "code",
   "execution_count": 9,
   "id": "35c79ada",
   "metadata": {},
   "outputs": [
    {
     "data": {
      "text/plain": [
       "(40,)"
      ]
     },
     "execution_count": 9,
     "metadata": {},
     "output_type": "execute_result"
    }
   ],
   "source": [
    "np.shape(x)"
   ]
  },
  {
   "cell_type": "code",
   "execution_count": 32,
   "id": "04fb29db",
   "metadata": {},
   "outputs": [
    {
     "data": {
      "text/plain": [
       "0.56"
      ]
     },
     "execution_count": 32,
     "metadata": {},
     "output_type": "execute_result"
    }
   ],
   "source": [
    "0.07*2.4/0.3"
   ]
  },
  {
   "cell_type": "code",
   "execution_count": 34,
   "id": "2f3390db",
   "metadata": {},
   "outputs": [
    {
     "data": {
      "text/plain": [
       "array([5. , 5.5, 6. , 6.5, 7. , 7.5, 8. , 8.5, 9. , 9.5])"
      ]
     },
     "execution_count": 34,
     "metadata": {},
     "output_type": "execute_result"
    }
   ],
   "source": [
    "np.arange(5.0, 11.0, 0.5)\n"
   ]
  },
  {
   "cell_type": "code",
   "execution_count": 31,
   "id": "f32a8724",
   "metadata": {
    "scrolled": true
   },
   "outputs": [
    {
     "data": {
      "text/plain": [
       "[<matplotlib.lines.Line2D at 0x7fb913fd6880>]"
      ]
     },
     "execution_count": 31,
     "metadata": {},
     "output_type": "execute_result"
    },
    {
     "data": {
      "image/png": "[encoded data removed]",
      "text/plain": [
       "<Figure size 640x480 with 1 Axes>"
      ]
     },
     "metadata": {},
     "output_type": "display_data"
    }
   ],
   "source": [
    "plt.plot(t2, test_input)"
   ]
  },
  {
   "cell_type": "code",
   "execution_count": 42,
   "id": "a25f6d06",
   "metadata": {},
   "outputs": [],
   "source": [
    "tfinal=4\n",
    "tsteps = int(tfinal/0.0001)\n",
    "t = np.linspace(0, tfinal, int(tfinal/0.0001))"
   ]
  },
  {
   "cell_type": "code",
   "execution_count": 43,
   "id": "e7adb937",
   "metadata": {},
   "outputs": [
    {
     "data": {
      "text/plain": [
       "(40000,)"
      ]
     },
     "execution_count": 43,
     "metadata": {},
     "output_type": "execute_result"
    }
   ],
   "source": [
    "np.shape(t)"
   ]
  },
  {
   "cell_type": "code",
   "execution_count": 19,
   "id": "bb967611",
   "metadata": {},
   "outputs": [
    {
     "data": {
      "text/plain": [
       "Text(0.5, 0, 'time (s)')"
      ]
     },
     "execution_count": 19,
     "metadata": {},
     "output_type": "execute_result"
    },
    {
     "data": {
      "image/png": "[encoded data removed]",
      "text/plain": [
       "<Figure size 750x350 with 1 Axes>"
      ]
     },
     "metadata": {},
     "output_type": "display_data"
    }
   ],
   "source": [
    "def homogeneous_poisson(rate, tmax, bin_size):\n",
    "    nbins = np.floor(tmax/bin_size).astype(int)\n",
    "    prob_of_spike = rate * bin_size\n",
    "    spikes = np.random.rand(nbins) < prob_of_spike\n",
    "    return spikes * 1\n",
    "\n",
    "rate=0.315\n",
    "tmax=10\n",
    "lambd = rate*tmax\n",
    "\n",
    "spikes_poisson = homogeneous_poisson(rate, tmax, bin_size)\n",
    "time = np.arange(len(spikes_poisson)) * bin_size\n",
    "plt.plot(time, spikes_poisson)\n",
    "plt.xlabel('time (s)')"
   ]
  },
  {
   "cell_type": "code",
   "execution_count": 28,
   "id": "4fc1d5ae",
   "metadata": {},
   "outputs": [
    {
     "data": {
      "text/plain": [
       "Text(0.5, 0, 'samples')"
      ]
     },
     "execution_count": 28,
     "metadata": {},
     "output_type": "execute_result"
    },
    {
     "data": {
      "image/png": "[encoded data removed]",
      "text/plain": [
       "<Figure size 750x350 with 1 Axes>"
      ]
     },
     "metadata": {},
     "output_type": "display_data"
    }
   ],
   "source": [
    "from scipy import stats\n",
    "rate=0.315\n",
    "tmax=10\n",
    "lam = rate*tmax\n",
    "n_spikes = stats.poisson.rvs(lam, size=8000)\n",
    "     \n",
    "plt.plot(n_spikes);\n",
    "plt.ylabel('spike count')\n",
    "plt.xlabel('samples')"
   ]
  },
  {
   "cell_type": "code",
   "execution_count": 40,
   "id": "ca7a4270",
   "metadata": {
    "scrolled": true
   },
   "outputs": [
    {
     "name": "stdout",
     "output_type": "stream",
     "text": [
      "synaptic network parameters in SI units\n",
      "synaptic network parameters in SI units\n",
      "cell parameters in SI units\n",
      "cell parameters in SI units\n",
      "first order prediction:  [2.45017153 9.62921254]\n",
      "synaptic network parameters in SI units\n",
      "cell parameters in SI units\n",
      "cell parameters in SI units\n",
      "Make sure that those two values are similar !!\n",
      "[2.45361078 9.65336353 0.09430499 0.1149737  0.24831809]\n",
      "[2.45361078 9.65336353 0.09430499 0.1149737  0.24831809]\n",
      "[2.45361078 9.65336353 0.09430499 0.1149737  0.24831809]\n",
      "first order prediction:  0.24831808571523223\n",
      "synaptic network parameters in SI units\n",
      "cell parameters in SI units\n",
      "cell parameters in SI units\n"
     ]
    }
   ],
   "source": [
    "from network_simulations.waveform_input import gaussian_func, double_gaussian\n",
    "t0 = args.t0-4*args.T1\n",
    "def rate_func(t):\n",
    "    return double_gaussian(t, 1e-3*args.t0, 1e-3*args.T1, 1e-3*args.T2, args.amp)\n",
    "\n",
    "t, fe, fi, sfe, sfei, sfi = run_mean_field_extended(args.CONFIG.split('--')[0],\\\n",
    "                               args.CONFIG.split('--')[1],args.CONFIG.split('--')[2],\\\n",
    "                               rate_func,dt=5e-4,\n",
    "                               tstop=args.tstop*1e-3)"
   ]
  },
  {
   "cell_type": "code",
   "execution_count": null,
   "id": "a742acc7",
   "metadata": {},
   "outputs": [],
   "source": [
    "t0 = 800\n",
    "T1 = 60\n",
    "T2 = 100\n",
    "amp = 2"
   ]
  },
  {
   "cell_type": "code",
   "execution_count": 49,
   "id": "493b28f8",
   "metadata": {},
   "outputs": [
    {
     "data": {
      "text/plain": [
       "1.1995"
      ]
     },
     "execution_count": 49,
     "metadata": {},
     "output_type": "execute_result"
    }
   ],
   "source": [
    "t[-1]"
   ]
  },
  {
   "cell_type": "code",
   "execution_count": 17,
   "id": "6876d2d9",
   "metadata": {},
   "outputs": [
    {
     "ename": "NameError",
     "evalue": "name 'set_plot' is not defined",
     "output_type": "error",
     "traceback": [
      "\u001b[0;31m---------------------------------------------------------------------------\u001b[0m",
      "\u001b[0;31mNameError\u001b[0m                                 Traceback (most recent call last)",
      "\u001b[0;32m/tmp/ipykernel_12959/330528488.py\u001b[0m in \u001b[0;36m<module>\u001b[0;34m\u001b[0m\n\u001b[1;32m     31\u001b[0m \u001b[0;31m# AX.legend(prop={'size':'xx-small'})\u001b[0m\u001b[0;34m\u001b[0m\u001b[0;34m\u001b[0m\u001b[0m\n\u001b[1;32m     32\u001b[0m \u001b[0;34m\u001b[0m\u001b[0m\n\u001b[0;32m---> 33\u001b[0;31m \u001b[0mset_plot\u001b[0m\u001b[0;34m(\u001b[0m\u001b[0mAX\u001b[0m\u001b[0;34m,\u001b[0m \u001b[0;34m[\u001b[0m\u001b[0;34m'left'\u001b[0m\u001b[0;34m]\u001b[0m\u001b[0;34m,\u001b[0m \u001b[0mylabel\u001b[0m\u001b[0;34m=\u001b[0m\u001b[0;34m'$\\\\nu$ (Hz)'\u001b[0m\u001b[0;34m,\u001b[0m \u001b[0mxticks\u001b[0m\u001b[0;34m=\u001b[0m\u001b[0;34m[\u001b[0m\u001b[0;34m]\u001b[0m\u001b[0;34m,\u001b[0m \u001b[0mnum_yticks\u001b[0m\u001b[0;34m=\u001b[0m\u001b[0;36m3\u001b[0m\u001b[0;34m)\u001b[0m\u001b[0;34m\u001b[0m\u001b[0;34m\u001b[0m\u001b[0m\n\u001b[0m\u001b[1;32m     34\u001b[0m \u001b[0;34m\u001b[0m\u001b[0m\n\u001b[1;32m     35\u001b[0m \u001b[0mplt\u001b[0m\u001b[0;34m.\u001b[0m\u001b[0mshow\u001b[0m\u001b[0;34m(\u001b[0m\u001b[0;34m)\u001b[0m\u001b[0;34m\u001b[0m\u001b[0;34m\u001b[0m\u001b[0m\n",
      "\u001b[0;31mNameError\u001b[0m: name 'set_plot' is not defined"
     ]
    },
    {
     "data": {
      "image/png": "[encoded data removed]",
      "text/plain": [
       "<Figure size 500x300 with 1 Axes>"
      ]
     },
     "metadata": {},
     "output_type": "display_data"
    }
   ],
   "source": [
    "import matplotlib.pylab as plt\n",
    "fig, AX = plt.subplots(figsize=(5,3))\n",
    "\"\"\"# we bin the population rate\n",
    "rate_exc = bin_array(rate_exc[cond_t], BIN, time_array[cond_t])\n",
    "rate_inh = bin_array(rate_inh[cond_t], BIN, time_array[cond_t])\n",
    "rate_array = bin_array(rate_array[cond_t], BIN, time_array[cond_t])\n",
    "time_array = bin_array(time_array[cond_t], BIN, time_array[cond_t])\n",
    "\n",
    "#here is the FR from the network sims\n",
    "AX.plot(time_array, rate_exc, 'g-', lw=2, label='$\\\\nu_e(t)$')\n",
    "AX.plot(time_array, rate_inh, 'r-', lw=2, label='$\\\\nu_i(t)$')\n",
    "\n",
    "#I don't know what is this\n",
    "AX.plot(time_array, .8*rate_exc+.2*rate_inh, 'k-', lw=2, label='$\\\\nu(t)$')\n",
    "\n",
    "#This is the drive\n",
    "AX.plot(1e3*t[1e3*t>t0], rate_func(t[1e3*t>t0]), 'k:',\\\n",
    "        lw=2, label='$\\\\nu_e^{aff}(t)$ \\n $\\\\nu_e^{drive}$')\"\"\"\n",
    "\n",
    "#The mean field predictions for exc\n",
    "AX.plot(1e3*t[1e3*t>t0], fe[1e3*t>t0], 'g-', label='mean field \\n pred.')\n",
    "AX.fill_between(1e3*t[1e3*t>t0], fe[1e3*t>t0]-sfe[1e3*t>t0], fe[1e3*t>t0]+sfe[1e3*t>t0],\\\n",
    "                    color='g', alpha=.3, label='mean field \\n pred.')\n",
    "\n",
    "#The mean field predictions for inh\n",
    "AX.plot(1e3*t[1e3*t>t0], fi[1e3*t>t0], 'r-', label='num. sim.')\n",
    "AX.fill_between(1e3*t[1e3*t>t0], fi[1e3*t>t0]-sfi[1e3*t>t0], fi[1e3*t>t0]+sfi[1e3*t>t0],\\\n",
    "                    color='r', alpha=.3)\n",
    "# AX.plot(1e3*t[1e3*t>t0], .8*fe[1e3*t>t0]+.2*fi[1e3*t>t0], 'k-', label='..')\n",
    "\n",
    "# AX.legend(prop={'size':'xx-small'})\n",
    "\n",
    "set_plot(AX, ['left'], ylabel='$\\\\nu$ (Hz)', xticks=[], num_yticks=3)\n",
    "\n",
    "plt.show()"
   ]
  }
 ],
 "metadata": {
  "kernelspec": {
   "display_name": "Python 3 (ipykernel)",
   "language": "python",
   "name": "python3"
  },
  "language_info": {
   "codemirror_mode": {
    "name": "ipython",
    "version": 3
   },
   "file_extension": ".py",
   "mimetype": "text/x-python",
   "name": "python",
   "nbconvert_exporter": "python",
   "pygments_lexer": "ipython3",
   "version": "3.9.13"
  }
 },
 "nbformat": 4,
 "nbformat_minor": 5
}
