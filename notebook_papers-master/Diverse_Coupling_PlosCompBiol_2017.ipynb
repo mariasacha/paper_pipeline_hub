{
 "cells": [
  {
   "cell_type": "markdown",
   "metadata": {
    "ein.tags": [
     "worksheet-0"
    ],
    "slideshow": {
     "slide_type": "-"
    }
   },
   "source": [
    "# Obtaining an estimate for the membrane potential fluctuations for a denritic model following Rall's branching rule stimulated by with excitatory and inhibitory shotnoise input\n",
    "\n",
    "#### General strategy: we solve this problem for the ball and stick model and we apply the electrotonic length rescaling (see details in the paper)\n",
    "\n",
    "## Dendritic compartment as an extended cable\n",
    "\n",
    " The cable equation (after radial symmetry) describes the evolution of the membrane potential in the cable-like dendritic compartment :\n",
    "\n",
    "\\begin{equation}\n",
    "\\frac{1}{r_i} \\frac{\\partial^2 v}{\\partial x^2} = i_m(v, x, t) = c_m \\frac{\\partial v}{\\partial t} + \\frac{v-E_L}{r_m} - i_{syn}(v,x,t)\n",
    "\\end{equation}\n",
    "\\label{eq:cable-equation}\n",
    "\n",
    "\n",
    "Synaptic currents made of excitatory and inhibitory shotnoise convoluted with an exponential time course ($g_e$ and $g_i$, linear densities of conductances):\n",
    "\n",
    "\\begin{equation}\n",
    "\\left\\{\n",
    "\\begin{split}\n",
    "i_{syn}(v,x,t) & = g_e(x,t)(E_e-v)+g_i(x,t)(E_i-v) \\\\\n",
    "g_e(x,t) & = \\sum_{\\{x_e\\}} \\delta(x-x_e) \\, \\sum_{\\{t_e(x_e)\\}} Q_e \\, e^{-\\frac{-(t-t_e)}{\\tau_e}} \\, \\mathcal{H}(t-t_e) \\\\\n",
    "g_i(x,t) & = \\sum_{\\{x_i\\}} \\delta(x-x_i) \\sum_{\\{t_i(x_i)\\}} Q_i \\, e^{-\\frac{-(t-t_i)}{\\tau_i}} \\, \\mathcal{H}(t-t_i)\n",
    "\\end{split}\n",
    "\\right.\n",
    "\\end{equation}\n",
    "\\label{eq:balanced-conductance-shotnoise-for-cable}\n",
    "\n",
    "where $\\{x_e\\}$ ($\\{x_i\\}$) is the set of excitatory (inhibitory) synaptic locations along the cable. At each of this synaptic location $x_e$ ($x_i$), is associated a set of Poisson distributed excitatory (inhibitory) synaptic events $\\{t_e(x)\\}$ ($\\{t_i(x)\\}$) generated from the frequency $\\nu_e$ ($\\nu_i$).\n",
    "\n",
    " We hypothesize that the synaptic locations are generated from homogeneous linear densities $D_e$ and $D_i$ (the excitatory and inhibiory linear densities of synapses respectively).\n",
    " \n",
    " \n",
    "## Somatic compartment as a lumped RC circuit\n",
    "\n",
    "At x= 0, we have a lumped impedance compartment, who has RC circuit properties and also receives synaptic inhibition, the somatic membrane potential therefore follows :\n",
    "\n",
    "\\begin{equation}\n",
    "\\begin{split}\n",
    "& C_M \\frac{dV}{dt} + \\frac{V-E_L}{R_M} + G_I(t) \\, (V-E_i)  + I(t) = 0 \\\\\n",
    "& G_i(t) = \\sum_{N_i} \\sum{\\{t_i\\}} Q_i \\, e^{-\\frac{-(t-t_i)}{\\tau_i}} \\, \\mathcal{H}(t-t_i)\n",
    "\\end{split}\n",
    "\\end{equation}\n",
    "\n",
    "where $I(t)$ is the time dependent input current from the soma into the dendrite. $R_M$ and $C_M$ are the RC properties of the lumped compartment. (capital letters indicates the somatic properties). $N_i$ is the number of somatic synapses and each of them generates a Poisson spike train $\\{t_i\\}$ of inhibitory synaptic events.\n",
    "\n",
    "\n",
    "This equation with the membrane potential continuity will determine the boundary condition at the soma (x=0). We identify $V(t)=v(0,t)$, then $I(t)$ is the current input into the dendritic tree at $x=0$ so it verifies:\n",
    "\n",
    "$$\n",
    "\\frac{\\partial v}{\\partial x}_{x=0} = - r_i \\, I(t)\n",
    "$$\n",
    "\n",
    "So:\n",
    "\\begin{equation}\n",
    "\\frac{\\partial v(x,t)}{\\partial x}|_{x=0} = r_i \\, \n",
    "\\Big( C_M \\frac{\\partial v(0,t) }{\\partial t} + \\frac{v(0,t)-E_L}{R_m} + G_I(t) \\, ( v(0,t)-E_i) \\Big)\n",
    "\\end{equation}\n",
    "\\label{eq:cable-lumped-soma-end}\n",
    "\n",
    " \n",
    "\n",
    "## Sealed end at the end of the dendritic compartment\n",
    "\n",
    "The intracellular current should vanish because of the infinite resistance at x=L, so:\n",
    "\n",
    "\\begin{equation}\n",
    "\\frac{\\partial v}{\\partial x}_{x=L} = 0\n",
    "\\end{equation}\n",
    "\\label{eq:cable-sealed-end}\n",
    "\n",
    "\n",
    "\n",
    "## Final equation\n",
    "\n",
    "The final system that we study therefore reads :\n",
    "\n",
    "\\begin{equation}\n",
    "\\left\\{\n",
    "\\begin{split}\n",
    "\\frac{1}{r_i} \\frac{\\partial^2 v}{\\partial x^2} & = c_m \\frac{\\partial v}{\\partial t} + \\frac{v-E_L}{r_m} - i_{syn}(v,x,t) \\\\\n",
    "i_{syn}(v,x,t) & = g_e(x,t)(E_e-v)+g_i(x,t)(E_i-v) \\\\\n",
    "g_e(x,t) & = \\sum_{\\{x_e\\}} \\delta(x-x_e) \\, \\sum_{\\{t_e(x_e)\\}} Q_e \\, e^{-\\frac{-(t-t_e)}{\\tau_e}} \\, \\mathcal{H}(t-t_e) \\\\\n",
    "g_i(x,t) & = \\sum_{\\{x_i\\}} \\delta(x-x_i) \\sum_{\\{t_i(x_i)\\}} Q_i \\, e^{-\\frac{-(t-t_i)}{\\tau_i}} \\, \\mathcal{H}(t-t_i)\\\\\n",
    "\\frac{\\partial v}{\\partial x}_{x=L} & = 0 \\\\\n",
    "\\frac{\\partial v(x,t)}{\\partial x}|_{x=0} & = \\frac{C_M \\, r_i}{\\tau_M} \n",
    "\\Big( \\tau_M \\frac{\\partial v(0,t) }{\\partial t} + v(0,t) - V_0  \\Big)\n",
    "\\end{split}\n",
    "\\right.\n",
    "\\end{equation}\n",
    "\\label{eq:ball-and-stick-with-balanced-input}\n",
    "\n",
    "The dynamics of this system will be simulated numerically (using the NEURON simulator) and we will devellop analytical approximations to obtain the mean statistical quantities describing its behavior."
   ]
  },
  {
   "cell_type": "markdown",
   "metadata": {
    "ein.tags": [
     "worksheet-0"
    ],
    "slideshow": {
     "slide_type": "-"
    }
   },
   "source": [
    "## Mean membrane potential $\\mu_v(x)$\n",
    "\n",
    "We look here for the space-dependent mean of the membrane potential fluctuations as a function of the input properties. A priori, this is a non-trivial problem because of the non-linear relationship between input (conductances) and output (membrane potential).\n",
    "\n",
    "A way to obtain an estimate for this quantity is to take the stationary response to the mean conductance input. This strategy was proposed in the case of a single-compartment model in [Kuhn et al. 2004], we generalize it here for the case of an extended cable structure (the Ball and Stick model).\n",
    "\n",
    "We therefore isolate the mean linear densities of conductances $g_e^0$ and $g_i^0$ (the excitatory and inhibitory one respectively). Given the input \\ref{eq:balanced-conductance-shotnoise-for-cable}, we have:\n",
    "\n",
    "\\begin{equation}\n",
    "\\begin{split}\n",
    "g_e^0 & = D_e \\, Q_e \\, \\nu_e \\, \\tau_e \\\\\n",
    "g_i^0 & = D_i \\, Q_i \\, \\nu_i \\, \\tau_i\n",
    "\\end{split}\n",
    "\\end{equation}\n",
    "\n",
    " Now, we discard the temporal dynamics and look for the stationary solution $\\mu_v(x)$ given those constant conductances input. Then the system \\ref{eq:ball-and-stick-with-balanced-input} reduces to:\n",
    "\n",
    "\n",
    "\\begin{equation}\n",
    "\\left\\{\n",
    "\\begin{split}\n",
    "\\frac{1}{r_i} \\frac{\\partial^2 \\mu_v}{\\partial x^2} & =  \\frac{\\mu_v(x)-E_L}{r_m} - g_e^0 \\, \\big(E_e- \\mu_v(x) \\big)- g_i^0 \\, (E_i - \\mu_v(x) \\big) \\\\\n",
    "\\frac{\\partial \\mu_v}{\\partial x}_{L} & = 0 \\\\\n",
    "\\frac{\\partial \\mu_v}{\\partial x}|_{0} & = r_i \\,  \n",
    "\\Big( \\frac{\\mu_v(0)-E_L}{R_m} + G_i^0 \\, (\\mu_v(0)-E_i) \\Big)\n",
    "\\end{split}\n",
    "\\right.\n",
    "\\end{equation}\n",
    "\\label{eq:ball-and-stick-muV-eq}\n",
    "\n",
    "We introduce\n",
    "\n",
    "\\begin{equation}\n",
    "\\begin{split}\n",
    "\\lambda & = \\frac{r_m}{r_i} \\, (1+r_m \\, g_e^0 + r_m \\, g_i^0)^{-1} \\\\\n",
    "v_0 & = \\frac{E_L + r_m \\, g_e^0 \\, E_e + r_m \\, g_i^0 \\, E_i}{1+r_m \\, g_e^0 + r_m \\, g_i^0} \\\\\n",
    "V_0 & = \\frac{E_L + R_m \\, G_i^0 \\, E_i}{1 + R_m \\, G_I} \\\\\n",
    "\\tau_S & = \\frac{R_m \\, C_m}{1+ R_m \\, G_i^0} \\\\\n",
    "\\gamma & = \\frac{C_m \\, r_i \\, \\lambda}{\\tau_S}\n",
    "\\end{split}\n",
    "\\end{equation}\n",
    "\\label{eq:ball-and-stick-constants}\n",
    "\n",
    "To obtain :\n",
    "\n",
    "\\begin{equation}\n",
    "\\left\\{\n",
    "\\begin{split}\n",
    "(\\lambda)^2 \\frac{\\partial^2 \\mu_v}{\\partial x^2} & =  \\mu_v(x) - v_0 \\\\\n",
    "\\frac{\\partial \\mu_v}{\\partial x}_{L} & = 0 \\\\\n",
    "\\frac{\\partial \\mu_v}{\\partial x}|_{0} & = \\frac{\\gamma}{\\lambda} \\, \\big( \\mu_v(0)-V_0  \\big)\n",
    "\\end{split}\n",
    "\\right.\n",
    "\\end{equation}\n",
    "\\label{eq:ball-and-stick-muV-eq-rescaled}\n",
    "\n",
    "This is a second order linear differential equation, the solution is of the form : $v_0 + A \\, e^{\\frac{x}{\\lambda}}+ B \\, e^{-\\frac{x}{\\lambda}} $.\n",
    " With the previous boundary conditions, this gives :\n",
    " \n",
    "\\begin{equation}\n",
    "\\mu_v(x) = v_0 + \\frac{\\gamma \\, (V_0 - v_0)}{\\sinh(\\frac{L}{\\lambda})+\\gamma \\, \\cosh(\\frac{L}{\\lambda})}\n",
    "\\cosh(\\frac{x-L}{\\lambda})\n",
    "\\end{equation}\n",
    "\\label{eq:ball-and-stick-muV-solution}\n",
    "\n"
   ]
  },
  {
   "cell_type": "markdown",
   "metadata": {
    "ein.tags": [
     "worksheet-0"
    ],
    "slideshow": {
     "slide_type": "-"
    }
   },
   "source": [
    "## Equation for the variations around this mean response $d v(x,t)=v(x,t)-\\mu_v(x)$\n",
    "\n",
    "We write $v(x,t) = \\mu_v(x) + \\delta v(x,t)$, what is the equation verified by $\\delta v(x,t)$  as reponse to a synaptic input $i_{syn}(x,t) = \\langle i_{syn}(v) \\rangle + \\delta i_{syn}(x,t)$ ?\n",
    "\n",
    "\\begin{equation}\n",
    "\\left\\{\n",
    "\\begin{split}\n",
    "& \\lambda^2 \\frac{\\partial^2 \\delta v}{\\partial x^2} = \\tau_m \\, \\frac{\\partial \\delta v}{\\partial t} + \\delta v - r \\, \\delta i_{syn}(x,t) \\\\\n",
    "& \\frac{\\partial \\delta v(x,t)}{\\partial x}_{x=0} = \\frac{\\gamma}{\\lambda} \n",
    "\\Big( \\tau_M \\frac{\\partial \\delta v(0,t) }{\\partial t} +\\delta v(0,t) \\Big) \\\\\n",
    "& \\frac{\\partial \\delta v(x,t)}{\\partial x}_{x=L} = 0\\\\\n",
    "\\end{split}\n",
    "\\right.\n",
    "\\end{equation}\n",
    "\n",
    "where $r = \\frac{r_m}{1+r_m \\, g_e^0+r_m \\, g_i^0}$ and $\\tau_m = \\frac{r_m \\, cm}{1+r_m \\, g_e^0+r_m \\, g_i^0}$\n",
    "\n",
    "Within those hypothesis, the input sum linearly, we will be able to write the solution as a convolution of the response to all synaptic locations. To this purpose we need the response to a current density of the form $I\\, \\delta(x-X)$ ($I$ is a real current, [I]=[A]), the equation for this solution $ \\delta v(x,X,t)$ :\n",
    "\n",
    "\\begin{equation}\n",
    "\\left\\{\n",
    "\\begin{split}\n",
    "& \\lambda^2 \\frac{\\partial^2 \\delta v}{\\partial x^2} = \\tau_m \\frac{\\partial \\delta v}{\\partial t} + \\delta v \n",
    "- r \\, I \\, \\delta(x-X) \\\\\n",
    "& \\frac{\\partial \\delta v(x,t)}{\\partial x}_{x=0} = \\frac{\\gamma}{\\lambda} \n",
    "\\Big( \\tau_S \\frac{\\partial \\delta v(0,t) }{\\partial t} +\\delta v(0,t) \\Big) \\\\\n",
    "& \\frac{\\partial \\delta v(x,t)}{\\partial x}_{x=L} = 0\\\\\n",
    "\\end{split}\n",
    "\\right.\n",
    "\\end{equation}\n",
    "\n",
    "Note that $\\delta(X-x)$ is the Dirac distribution (in $m^{-1}$).\n",
    "\n",
    "\n",
    " We Fourier transform this equation:\n",
    " \n",
    "\\begin{equation}\n",
    "\\left\\{\n",
    "\\begin{split}\n",
    "& \\lambda^2 \\frac{\\partial^2 \\delta \\hat{v}}{\\partial x^2} = (1+2 i \\pi \\, f \\tau_m)  \\delta \\hat{v} - r \\, I \\, \\delta(x-X) \\\\\n",
    "& \\frac{\\partial \\delta \\hat{v}}{\\partial x}_{x=0} = \\frac{\\gamma \\, (1+2 i \\pi f \\, \\tau_S) }{\\lambda} \n",
    " \\delta \\hat{v}(0,f)  \\\\\n",
    "& \\frac{\\partial \\delta \\hat{v}}{\\partial x}_{x=L} = 0\\\\\n",
    "\\end{split}\n",
    "\\right.\n",
    "\\end{equation}\n",
    "\n",
    "Let's write $ \\lambda_f = \\frac{\\lambda}{\\sqrt{1+2 i \\pi \\, f \\tau_m}}$, $r_f = \\frac{r}{1+2 i \\pi f \\, \\tau_m}$ and $\\gamma_f = \\lambda_f  \\frac{\\gamma \\, (1+2 i \\pi f \\, \\tau_S)}{\\lambda} = \\frac{\\lambda \\, C_m \\, r_i \\, (1+2 i \\pi f \\, \\tau_S) }{\\tau_S \\, \\sqrt{1+2 i \\pi \\, f \\tau_m}}$\n",
    "\n",
    "\\begin{equation}\n",
    "\\left\\{\n",
    "\\begin{split}\n",
    "& \\lambda_f^2 \\frac{\\partial^2 \\delta \\hat{v}}{\\partial x^2} =  \\delta \\hat{v} - r_f \\, I \\, \\delta(x-X) \\\\\n",
    "& \\frac{\\partial \\delta \\hat{v}(x,f)}{\\partial x}_{x=0} = \\frac{\\gamma_f}{\\lambda_f} \\, \\delta \\hat{v}(0,f)  \\\\\n",
    "& \\frac{\\partial \\delta \\hat{v}(x,f)}{\\partial x}_{x=L} = 0\\\\\n",
    "\\end{split}\n",
    "\\right.\n",
    "\\end{equation}"
   ]
  },
  {
   "cell_type": "code",
   "execution_count": 1,
   "metadata": {
    "autoscroll": "json-false",
    "collapsed": false,
    "ein.tags": [
     "worksheet-0"
    ],
    "slideshow": {
     "slide_type": "-"
    }
   },
   "outputs": [],
   "source": [
    "# Let's solve this with sympy\n",
    "\n",
    "\"\"\"\n",
    "We have an input at x=X, else we ahve the standard cable equation\n",
    "we split the domain [0,L] into two domains [0,X] and [X,L], in each of the domain we have\n",
    "the homogenous equation (so solution in terms of exp or hypoerbolic functions).\n",
    "With the boudary conditions, this gives :\n",
    "v(x<X) = A*(cosh(x/lbd)+gamma*sinh(x/lbd))\n",
    "v(X<x) = B*cosh((x-L)/lbd)\n",
    "+ at X:\n",
    "- jump of the derivative of -rf*I/lbd**2\n",
    "- continuity of the potential\n",
    "\"\"\"\n",
    "\n",
    "pretty_print = False # switch it, True for nice render and False -> for easy export to code (numpy)\n",
    "\n",
    "from sympy import Matrix, solve_linear_system_LU, symbols, exp, cosh, sinh, init_printing, pprint, simplify, latex\n",
    "from sympy.abc import a,b\n",
    "if pretty_print:\n",
    "    # --- for pretty print\n",
    "    init_printing()\n",
    "    L, lbdf, gf, X, tau, cm, I = symbols('L, lambda_f, gamma_f, X, r_f')\n",
    "else:\n",
    "    # --- for implementation into numpy (to use copy paste with the variables in your code)\n",
    "    L, lbdf, gf, X, rf = symbols('L, lbdf, gf, X, rf')\n",
    "\n",
    "M = Matrix((\\\n",
    "            ((cosh(X/lbdf)+gf*sinh(X/lbdf)), -cosh((X-L)/lbdf), 0),\n",
    "            (-(sinh(X/lbdf)+gf*cosh(X/lbdf)), sinh((X-L)/lbdf),-rf/lbdf)))\n",
    "\n",
    "sol = solve_linear_system_LU(M, [a, b])"
   ]
  },
  {
   "cell_type": "code",
   "execution_count": 2,
   "metadata": {
    "autoscroll": "json-false",
    "collapsed": false,
    "ein.tags": [
     "worksheet-0"
    ],
    "slideshow": {
     "slide_type": "-"
    }
   },
   "outputs": [
    {
     "data": {
      "text/plain": [
       "rf*cosh((L - X)/lbdf)/(lbdf*(gf*cosh(L/lbdf) + sinh(L/lbdf)))"
      ]
     },
     "execution_count": 2,
     "metadata": {},
     "output_type": "execute_result"
    }
   ],
   "source": [
    "# A = \n",
    "simplify(sol[a])"
   ]
  },
  {
   "cell_type": "code",
   "execution_count": 3,
   "metadata": {
    "autoscroll": "json-false",
    "collapsed": false,
    "ein.tags": [
     "worksheet-0"
    ],
    "slideshow": {
     "slide_type": "-"
    }
   },
   "outputs": [
    {
     "data": {
      "text/plain": [
       "rf*(gf*sinh(X/lbdf) + cosh(X/lbdf))/(lbdf*(gf*cosh(L/lbdf) + sinh(L/lbdf)))"
      ]
     },
     "execution_count": 3,
     "metadata": {},
     "output_type": "execute_result"
    }
   ],
   "source": [
    "# B =\n",
    "simplify(sol[b])"
   ]
  },
  {
   "cell_type": "markdown",
   "metadata": {
    "ein.tags": [
     "worksheet-0"
    ],
    "slideshow": {
     "slide_type": "-"
    }
   },
   "source": [
    "## Solution\n",
    "\n",
    "Then :\n",
    "\n",
    "\\begin{equation}\n",
    " \\delta v(x, X, f) =\n",
    "\\left\\{\n",
    "\\begin{split}\n",
    "& \\frac{ I \\, r_f \\, \\big(\\cosh(\\frac{x}{\\lambda_f}) + \\gamma_f \\sinh(\\frac{x}{\\lambda_f}) \\big) \\, \\cosh(\\frac{X-L}{\\lambda_f})}{ \\lambda_f \\big(\\sinh(\\frac{L}{\\lambda_f}) + \\gamma_f \\cosh(\\frac{L}{\\lambda_f}) \\big)}   \\quad \n",
    "if :  x \\leq X \\\\\n",
    "& \\frac{I \\, r_f \\, \\cosh(\\frac{x-L}{\\lambda_f}) \\, \\big(\\cosh(\\frac{X}{\\lambda_f}) + \\gamma_f \\sinh(\\frac{X}{\\lambda_f}) \\big)}{ \\lambda_f \\big(\\sinh(\\frac{L}{\\lambda_f}) + \\gamma_f \\cosh(\\frac{L}{\\lambda_f}) \\big)} \\quad \n",
    "if :  x > X \n",
    "\\end{split}\n",
    "\\right.\n",
    "\\end{equation}\n",
    "\n"
   ]
  },
  {
   "cell_type": "code",
   "execution_count": 5,
   "metadata": {
    "autoscroll": "json-false",
    "collapsed": false,
    "ein.tags": [
     "worksheet-0"
    ],
    "slideshow": {
     "slide_type": "-"
    }
   },
   "outputs": [
    {
     "name": "stdout",
     "output_type": "stream",
     "text": [
      "dv_xX = lambda x,X: (rf*(gf*np.sinh(x/lbdf) + np.cosh(x/lbdf))*np.cosh((L - X)/lbdf)/(lbdf*(gf*np.cosh(L/lbdf) + np.sinh(L/lbdf))))\n",
      "dv_Xx = lambda x,X: (rf*(gf*np.sinh(X/lbdf) + np.cosh(X/lbdf))*np.cosh((L - x)/lbdf)/(lbdf*(gf*np.cosh(L/lbdf) + np.sinh(L/lbdf))))\n"
     ]
    }
   ],
   "source": [
    "# generate functions from this\n",
    "A = simplify(sol[a])\n",
    "B = simplify(sol[b])\n",
    "x, X = symbols('x, X')\n",
    "\n",
    "from sympy.utilities.lambdify import lambdastr\n",
    "print('dv_xX = '+lambdastr((x,X), simplify(A*(cosh(x/lbdf)+gf*sinh(x/lbdf)))).replace('sinh', 'np.sinh').replace('cosh', 'np.cosh'))\n",
    "print('dv_Xx = '+lambdastr((x,X), simplify(B*cosh((x-L)/lbdf))).replace('sinh', 'np.sinh').replace('cosh', 'np.cosh'))"
   ]
  },
  {
   "cell_type": "markdown",
   "metadata": {
    "ein.tags": [
     "worksheet-0"
    ],
    "slideshow": {
     "slide_type": "-"
    }
   },
   "source": [
    "# Cable equation with assymetric proximal and distal synaptic input\n",
    "\n",
    "We still have the cable equation for the dendritic part :\n",
    "\n",
    "$$\n",
    "\\frac{1}{r_i} \\frac{\\partial^2 v}{\\partial x^2} = i_m(v, x, t) = c_m \\frac{\\partial v}{\\partial t} + \\frac{v-E_L}{r_m} - i_{syn}(v,x,t)\n",
    "$$\n",
    "\n",
    "Synaptic currents made of excitatory and inhibitory shotnoise convoluted with an exponential time course ($g_e$ and $g_i$, linear densities of conductances):\n",
    "\n",
    "$$\n",
    "\\left\\{\n",
    "\\begin{split}\n",
    "i_{syn}(v,x,t) & = g_e(x,t)(E_e-v)+g_i(x,t)(E_i-v) \\\\\n",
    "g_e(x,t) & = \\sum_{\\{x_e\\}} \\delta(x-x_e) \\, \\sum_{\\{t_e(x_e)\\}} Q_e \\, e^{-\\frac{-(t-t_e)}{\\tau_e}} \\, \\mathcal{H}(t-t_e) \\\\\n",
    "g_i(x,t) & = \\sum_{\\{x_i\\}} \\delta(x-x_i) \\sum_{\\{t_i(x_i)\\}} Q_i \\, e^{-\\frac{-(t-t_i)}{\\tau_i}} \\, \\mathcal{H}(t-t_i)\\\\\n",
    "\\end{split}\n",
    "\\right.\n",
    "$$\n",
    "\n",
    "where *now* the set of synaptic events $\\{t_e(x)\\}$ and $\\{t_i(x)\\}$ are generated as random poisson input of space dependent generating frequencies: $\\nu_e(x)$ and $\\nu_i(x)$.\n",
    "\n",
    "For simplicity, we consider a step function for the assymetric input.\n",
    "\n",
    "We consider two domains : a proximal domain with the upper index $p$ and a distal domain with the upper index $d$. Then the space dependent shotnoise frequencies read :\n",
    "\n",
    "$$\n",
    "\\left\\{\n",
    "\\begin{split}\n",
    "\\nu_e(x,t) = \\nu_e^P + (\\nu_e^d - \\nu_e^p) \\mathcal{H}(x-L_p) \\\\\n",
    "\\nu_i(x,t) = \\nu_i^P + (\\nu_i^d - \\nu_i^p) \\mathcal{H}(x-L_p)\n",
    "\\end{split}\n",
    "\\right.\n",
    "$$\n"
   ]
  },
  {
   "cell_type": "markdown",
   "metadata": {
    "ein.tags": [
     "worksheet-0"
    ],
    "slideshow": {
     "slide_type": "-"
    }
   },
   "source": [
    "### Strategy to solve the problem\n",
    "\n",
    "We will split the cable into two domains $[0,L_P]$ and $[L_p,L]$, in each of the domain, we can apply the previous strategy because the mean conductance is constant and at the junction between the two cables, we have two condtions, the continuity of the membrane potential : \n",
    "$$\n",
    "v(x \\rightarrow L_p^-)=v(x \\rightarrow L_p^+)\n",
    "$$\n",
    "and the conservation of the current\n",
    "$$\n",
    "\\frac{1}{r_i} \\frac{\\partial v^p}{\\partial x}_{x \\rightarrow L_p^-} = \n",
    "\\frac{1}{r_i} \\frac{\\partial v^d}{\\partial x}_{x \\rightarrow L_p^+} \n",
    "$$\n",
    "\n",
    "where the notation : $x \\rightarrow y^-$ and $x \\rightarrow y^+$ account for the limit toward $y$ coming from lower or higher values respecively."
   ]
  },
  {
   "cell_type": "markdown",
   "metadata": {
    "ein.tags": [
     "worksheet-0"
    ],
    "slideshow": {
     "slide_type": "-"
    }
   },
   "source": [
    "## mean membrane potential $\\mu_v(x)$\n",
    "\n",
    "\n",
    "$$\n",
    "\\left\\{\n",
    "\\begin{split}\n",
    "\\frac{1}{r_i} \\frac{\\partial^2 \\mu_v}{\\partial x^2} &= \\frac{\\mu_v(x)-E_L}{r_m} - \n",
    "g_{e0}^p \\, (\\mu_v(x) - E_e) - g_{0i}^p \\, (\\mu_v(x) - E_i) \\quad \\forall x \\in [0,L_p] \\\\\n",
    "\\frac{1}{r_i} \\frac{\\partial^2 \\mu_v}{\\partial x^2} &=  \\frac{\\mu_v(x)-E_L}{r_m} - \n",
    "g_{e0}^d \\, (\\mu_v(x) - E_e) - g_{0i}^d \\, (\\mu_v(x) - E_i)  \\quad \\forall x \\in [L_p,L]  \\\\\n",
    "\\frac{\\partial \\mu_v}{\\partial x}_{L} & = 0 \\\\\n",
    "\\frac{\\partial \\mu_v(x,t)}{\\partial x}_{x=0} & = R_M \\, r_i\n",
    "\\Big( \\mu_v(0) - V_0  \\Big) \\\\\n",
    "\\mu_v(x \\rightarrow L_p^-) & = \\mu_v(x \\rightarrow L_p^+) \\\\\n",
    "\\frac{\\partial \\mu_v}{\\partial x}_{x \\rightarrow L_p^-} & = \\frac{\\partial \\mu_v}{\\partial x}_{x \\rightarrow L_p^+} \n",
    "\\end{split}\n",
    "\\right.\n",
    "$$\n",
    "\n",
    "where the upper indexes $p$ and $d$ index the proximal and distal part respectively\n",
    "\n",
    "We introduce \n",
    "\n",
    "- $\\lambda^p= \\sqrt{\\frac{r_m}{r_i (1 + r_m g_{e0}^p + r_m g_{i0}^p)}}$, $v_0^p = \\frac{E_L + r_m g_{e0}^p E_e + r_m g_{i0}^p E_i}{ 1 + r_m g_{e0}^p + r_m g_{i0}^p }$  and $\\gamma^p = \\frac{C_m \\, r_i \\lambda^p}{\\tau_S}$\n",
    "\n",
    "- $\\lambda^d= \\sqrt{\\frac{r_m}{r_i (1 + r_m g_{e0}^d + r_m g_{i0}^d)}}$ and $v_0^d = \\frac{E_L + r_m g_{e0}^d E_e + r_m g_{i0}^d E_i}{ 1 + r_m g_{e0}^d + r_m g_{i0}^d }$ \n",
    "\n",
    "$$\n",
    "\\left\\{\n",
    "\\begin{split}\n",
    "(\\lambda^p)^2 \\frac{\\partial^2 \\mu_v}{\\partial x^2} &= \\mu_v(x)-v_0^p \\quad \\forall x \\in [0,L_p] \\\\\n",
    "(\\lambda^d)^2 \\frac{\\partial^2 \\mu_v}{\\partial x^2} &= \\mu_v(x)-v_0^d \\quad \\forall x \\in [L_p,L]  \\\\\n",
    "\\frac{\\partial \\mu_v}{\\partial x}_{L} & = 0 \\\\\n",
    "\\frac{\\partial \\mu_v(x,t)}{\\partial x}|_{x=0} & = \\frac{\\gamma^p}{\\lambda^p}\n",
    "\\Big( \\mu_v(0) - V_0  \\Big) \\\\\n",
    "\\mu_v(x \\rightarrow L_p^-) & = \\mu_v(x \\rightarrow L_p^+) \\\\\n",
    "\\frac{\\partial \\mu_v}{\\partial x}_{x \\rightarrow L_p^-} & = \\frac{\\partial \\mu_v}{\\partial x}_{x \\rightarrow L_p^+} \n",
    "\\end{split}\n",
    "\\right.\n",
    "$$\n"
   ]
  },
  {
   "cell_type": "code",
   "execution_count": 6,
   "metadata": {
    "autoscroll": "json-false",
    "collapsed": false,
    "ein.tags": [
     "worksheet-0"
    ],
    "slideshow": {
     "slide_type": "-"
    }
   },
   "outputs": [],
   "source": [
    "# Let's solve this with sympy\n",
    "\n",
    "\"\"\"\n",
    "we split the domain [0,L] into two domains [0,Lp] and [Lp,L], in each of the domain we have\n",
    "the standard cable equation (so solution in terms of constants + hyperbolic functions).\n",
    "With the boudary conditions, this gives :\n",
    "v(x<Lp) = v0P+A*(cosh(x/lbdP)+gP*(v0P-V0+A)*sinh(x/lbdP))\n",
    "v(Lp<x) = v0D+B*cosh((x-L)/lbdD)\n",
    "+ at Lp:\n",
    "- continuity of the potential\n",
    "- continuity of the derivative\n",
    "\"\"\"\n",
    "\n",
    "pretty_print = False # switch it, True for nice render and False -> for easy export to code (numpy)\n",
    "\n",
    "from sympy import Matrix, solve_linear_system_LU, symbols, exp, cosh, sinh, init_printing, pprint,\\\n",
    "    simplify, latex\n",
    "from sympy.abc import a,b\n",
    "if pretty_print:\n",
    "    # --- for pretty print\n",
    "    init_printing()\n",
    "    Lp, L, lbdD, lbdP, gP, v0D, v0P, V0 = symbols('L_p L lambda^D lambda^P gamma^P v_0^p v_0^d V0')\n",
    "else:\n",
    "    # --- for implementation into numpy (to use copy paste with the variables in your code)\n",
    "    Lp, L, lbdD, lbdP, gP, v0D, v0P, V0 = symbols('Lp L lbdD lbdP gP v0D v0P V0')\n",
    "\n",
    "M = Matrix((\\\n",
    "            ((cosh(Lp/lbdP)+gP*sinh(Lp/lbdP)), -cosh((Lp-L)/lbdD), v0D-v0P-gP*(v0P-V0)*sinh(Lp/lbdP)),\n",
    "            ((sinh(Lp/lbdP)+gP*cosh(Lp/lbdP))/lbdP, -sinh((Lp-L)/lbdD)/lbdD, -gP*(v0P-V0)*cosh(Lp/lbdP)/lbdP)\n",
    "           ))\n",
    "\n",
    "sol = solve_linear_system_LU(M, [a, b])"
   ]
  },
  {
   "cell_type": "code",
   "execution_count": 7,
   "metadata": {
    "autoscroll": "json-false",
    "collapsed": false,
    "ein.tags": [
     "worksheet-0"
    ],
    "slideshow": {
     "slide_type": "-"
    }
   },
   "outputs": [
    {
     "data": {
      "text/plain": [
       "(V0*gP*lbdD*cosh(Lp/lbdP)*cosh((L - Lp)/lbdD) + V0*gP*lbdP*sinh(Lp/lbdP)*sinh((L - Lp)/lbdD) - gP*lbdD*v0P*cosh(Lp/lbdP)*cosh((L - Lp)/lbdD) - gP*lbdP*v0P*sinh(Lp/lbdP)*sinh((L - Lp)/lbdD) + lbdP*v0D*sinh((L - Lp)/lbdD) - lbdP*v0P*sinh((L - Lp)/lbdD))/(gP*lbdD*cosh(Lp/lbdP)*cosh((L - Lp)/lbdD) + gP*lbdP*sinh(Lp/lbdP)*sinh((L - Lp)/lbdD) + lbdD*sinh(Lp/lbdP)*cosh((L - Lp)/lbdD) + lbdP*sinh((L - Lp)/lbdD)*cosh(Lp/lbdP))"
      ]
     },
     "execution_count": 7,
     "metadata": {},
     "output_type": "execute_result"
    }
   ],
   "source": [
    "# A = \n",
    "simplify(sol[a])"
   ]
  },
  {
   "cell_type": "code",
   "execution_count": 8,
   "metadata": {
    "autoscroll": "json-false",
    "collapsed": false,
    "ein.tags": [
     "worksheet-0"
    ],
    "slideshow": {
     "slide_type": "-"
    }
   },
   "outputs": [
    {
     "data": {
      "text/plain": [
       "lbdD*(gP*(V0 - v0P)*(gP*sinh(Lp/lbdP) + cosh(Lp/lbdP))*cosh(Lp/lbdP) - (gP*cosh(Lp/lbdP) + sinh(Lp/lbdP))*(gP*(V0 - v0P)*sinh(Lp/lbdP) + v0D - v0P))/(lbdD*(gP*cosh(Lp/lbdP) + sinh(Lp/lbdP))*cosh((L - Lp)/lbdD) + lbdP*(gP*sinh(Lp/lbdP) + cosh(Lp/lbdP))*sinh((L - Lp)/lbdD))"
      ]
     },
     "execution_count": 8,
     "metadata": {},
     "output_type": "execute_result"
    }
   ],
   "source": [
    "# B = \n",
    "simplify(sol[b])"
   ]
  },
  {
   "cell_type": "markdown",
   "metadata": {
    "ein.tags": [
     "worksheet-0"
    ],
    "slideshow": {
     "slide_type": "-"
    }
   },
   "source": [
    "## solution\n",
    "\n",
    "\n",
    "\\begin{equation}\n",
    "\\mu_v(x) =\n",
    "\\left\\{\n",
    "\\begin{split}\n",
    "v_0^P + A \\, \\cosh(\\frac{x}{\\lambda^p}) + \\gamma^p \\, (v_0^p - V_0 + A ) \\, \\sinh(\\frac{x}{\\lambda^p}) \\quad  & \\forall x \\in [0,L_p[ \\\\\n",
    "v_0^D + B \\, \\cosh(\\frac{x-L}{\\lambda^p}) \\quad & \\forall x \\in [L_p,L] \\\\\n",
    "\\end{split}\n",
    "\\right.\n",
    "\\end{equation}\n",
    "\n",
    "with :\n",
    "\n",
    "\\begin{equation}\n",
    "\\begin{split}\n",
    "A & = \\frac{V_{0} \\gamma^{P} \\lambda^{D} \\cosh{\\left (\\frac{L_{p}}{\\lambda^{P}} \\right )} \\cosh{\\left (\\frac{1}{\\lambda^{D}} \\left(L - L_{p}\\right) \\right )} + V_{0} \\gamma^{P} \\lambda^{P} \\sinh{\\left (\\frac{L_{p}}{\\lambda^{P}} \\right )} \\sinh{\\left (\\frac{1}{\\lambda^{D}} \\left(L - L_{p}\\right) \\right )} - \\gamma^{P} \\lambda^{D} v^{d}_{0} \\cosh{\\left (\\frac{L_{p}}{\\lambda^{P}} \\right )} \\cosh{\\left (\\frac{1}{\\lambda^{D}} \\left(L - L_{p}\\right) \\right )} - \\gamma^{P} \\lambda^{P} v^{d}_{0} \\sinh{\\left (\\frac{L_{p}}{\\lambda^{P}} \\right )} \\sinh{\\left (\\frac{1}{\\lambda^{D}} \\left(L - L_{p}\\right) \\right )} - \\lambda^{P} v^{d}_{0} \\sinh{\\left (\\frac{1}{\\lambda^{D}} \\left(L - L_{p}\\right) \\right )} + \\lambda^{P} v^{p}_{0} \\sinh{\\left (\\frac{1}{\\lambda^{D}} \\left(L - L_{p}\\right) \\right )}}{\\gamma^{P} \\lambda^{D} \\cosh{\\left (\\frac{L_{p}}{\\lambda^{P}} \\right )} \\cosh{\\left (\\frac{1}{\\lambda^{D}} \\left(L - L_{p}\\right) \\right )} + \\gamma^{P} \\lambda^{P} \\sinh{\\left (\\frac{L_{p}}{\\lambda^{P}} \\right )} \\sinh{\\left (\\frac{1}{\\lambda^{D}} \\left(L - L_{p}\\right) \\right )} + \\lambda^{D} \\sinh{\\left (\\frac{L_{p}}{\\lambda^{P}} \\right )} \\cosh{\\left (\\frac{1}{\\lambda^{D}} \\left(L - L_{p}\\right) \\right )} + \\lambda^{P} \\sinh{\\left (\\frac{1}{\\lambda^{D}} \\left(L - L_{p}\\right) \\right )} \\cosh{\\left (\\frac{L_{p}}{\\lambda^{P}} \\right )}} \\\\\n",
    "B & = \\frac{\\lambda^{D} \\left(\\gamma^{P} \\left(V_{0} - v^{d}_{0}\\right) \\left(\\gamma^{P} \\sinh{\\left (\\frac{L_{p}}{\\lambda^{P}} \\right )} + \\cosh{\\left (\\frac{L_{p}}{\\lambda^{P}} \\right )}\\right) \\cosh{\\left (\\frac{L_{p}}{\\lambda^{P}} \\right )} - \\left(\\gamma^{P} \\cosh{\\left (\\frac{L_{p}}{\\lambda^{P}} \\right )} + \\sinh{\\left (\\frac{L_{p}}{\\lambda^{P}} \\right )}\\right) \\left(\\gamma^{P} \\left(V_{0} - v^{d}_{0}\\right) \\sinh{\\left (\\frac{L_{p}}{\\lambda^{P}} \\right )} - v^{d}_{0} + v^{p}_{0}\\right)\\right)}{\\lambda^{D} \\left(\\gamma^{P} \\cosh{\\left (\\frac{L_{p}}{\\lambda^{P}} \\right )} + \\sinh{\\left (\\frac{L_{p}}{\\lambda^{P}} \\right )}\\right) \\cosh{\\left (\\frac{1}{\\lambda^{D}} \\left(L - L_{p}\\right) \\right )} + \\lambda^{P} \\left(\\gamma^{P} \\sinh{\\left (\\frac{L_{p}}{\\lambda^{P}} \\right )} + \\cosh{\\left (\\frac{L_{p}}{\\lambda^{P}} \\right )}\\right) \\sinh{\\left (\\frac{1}{\\lambda^{D}} \\left(L - L_{p}\\right) \\right )}} \\\\\n",
    "\\end{split}\n",
    "\\end{equation}"
   ]
  },
  {
   "cell_type": "code",
   "execution_count": 9,
   "metadata": {
    "autoscroll": "json-false",
    "collapsed": false,
    "ein.tags": [
     "worksheet-0"
    ],
    "slideshow": {
     "slide_type": "-"
    }
   },
   "outputs": [
    {
     "name": "stdout",
     "output_type": "stream",
     "text": [
      "muVP = lambda x,Lp,L,lbdD,lbdP,gP,v0D,v0P,V0: ((V0*gP*lbdD*np.cosh((L - Lp)/lbdD)*np.cosh((Lp - x)/lbdP) + V0*gP*lbdP*np.sinh((L - Lp)/lbdD)*np.sinh((Lp - x)/lbdP) + gP*lbdD*v0P*np.cosh(Lp/lbdP)*np.cosh((L - Lp)/lbdD) - gP*lbdD*v0P*np.cosh((L - Lp)/lbdD)*np.cosh((Lp - x)/lbdP) + gP*lbdP*v0D*np.sinh((L - Lp)/lbdD)*np.sinh(x/lbdP) + gP*lbdP*v0P*np.sinh(Lp/lbdP)*np.sinh((L - Lp)/lbdD) - gP*lbdP*v0P*np.sinh((L - Lp)/lbdD)*np.sinh(x/lbdP) - gP*lbdP*v0P*np.sinh((L - Lp)/lbdD)*np.sinh((Lp - x)/lbdP) + lbdD*v0P*np.sinh(Lp/lbdP)*np.cosh((L - Lp)/lbdD) + lbdP*v0D*np.sinh((L - Lp)/lbdD)*np.cosh(x/lbdP) + lbdP*v0P*np.sinh((L - Lp)/lbdD)*np.cosh(Lp/lbdP) - lbdP*v0P*np.sinh((L - Lp)/lbdD)*np.cosh(x/lbdP))/(gP*lbdD*np.cosh(Lp/lbdP)*np.cosh((L - Lp)/lbdD) + gP*lbdP*np.sinh(Lp/lbdP)*np.sinh((L - Lp)/lbdD) + lbdD*np.sinh(Lp/lbdP)*np.cosh((L - Lp)/lbdD) + lbdP*np.sinh((L - Lp)/lbdD)*np.cosh(Lp/lbdP)))\n",
      "muVD = lambda x,Lp,L,lbdD,lbdP,gP,v0D,v0P,V0: ((lbdD*(gP*(V0 - v0P)*(gP*np.sinh(Lp/lbdP) + np.cosh(Lp/lbdP))*np.cosh(Lp/lbdP) - (gP*np.cosh(Lp/lbdP) + np.sinh(Lp/lbdP))*(gP*(V0 - v0P)*np.sinh(Lp/lbdP) + v0D - v0P))*np.cosh((L - x)/lbdD) + v0D*(lbdD*(gP*np.cosh(Lp/lbdP) + np.sinh(Lp/lbdP))*np.cosh((L - Lp)/lbdD) + lbdP*(gP*np.sinh(Lp/lbdP) + np.cosh(Lp/lbdP))*np.sinh((L - Lp)/lbdD)))/(lbdD*(gP*np.cosh(Lp/lbdP) + np.sinh(Lp/lbdP))*np.cosh((L - Lp)/lbdD) + lbdP*(gP*np.sinh(Lp/lbdP) + np.cosh(Lp/lbdP))*np.sinh((L - Lp)/lbdD)))\n"
     ]
    }
   ],
   "source": [
    "# generate functions from this\n",
    "A = simplify(sol[a])\n",
    "B = simplify(sol[b])\n",
    "x = symbols('x')\n",
    "from sympy.utilities.lambdify import lambdastr\n",
    "print('muVP = '+lambdastr((x, Lp, L, lbdD, lbdP, gP, v0D, v0P, V0), simplify(v0P+A*cosh(x/lbdP)+gP*(v0P-V0+A)*sinh(x/lbdP))).replace('sinh', 'np.sinh').replace('cosh', 'np.cosh'))\n",
    "print('muVD = '+lambdastr((x, Lp, L, lbdD, lbdP, gP, v0D, v0P, V0), simplify(v0D+B*cosh((x-L)/lbdD))).replace('sinh', 'np.sinh').replace('cosh', 'np.cosh'))"
   ]
  },
  {
   "cell_type": "markdown",
   "metadata": {
    "ein.tags": [
     "worksheet-0"
    ],
    "slideshow": {
     "slide_type": "-"
    }
   },
   "source": [
    "## Equation for the variations around this mean response $d v(x,t)=v(x,t)-\\mu_v(x)$\n",
    "\n",
    "We write $v(x,t) = \\mu_v(x) + d v(x,t)$, what is the equation verified by $dv(x,t)$  as reponse to a synaptic input $i_{syn}(x,t) = \\langle i_{syn}(v) \\rangle + d i_{syn}(x,t)$ ?\n",
    "\n",
    "\\begin{equation}\n",
    "\\left\\{\n",
    "\\begin{split}\n",
    "& \\big(\\lambda(x)\\big)^2 \\frac{\\partial^2 d v}{\\partial x^2} = \\tau_m(x) \\, \\frac{\\partial d v}{\\partial t} + d v \n",
    "- r_m \\, d i_{syn}(x,t) \\\\\n",
    "& \\frac{\\partial d v(x,t)}{\\partial x}_{x=0} = \\frac{C_m \\, r_i}{\\tau_S} \n",
    "\\Big( \\tau_S \\frac{\\partial d v(0,t) }{\\partial t} +d v(0,t) \\Big) \\\\\n",
    "& \\frac{\\partial d v(x,t)}{\\partial x}_{x=L} = 0\\\\\n",
    "\\end{split}\n",
    "\\right.\n",
    "\\end{equation}\n",
    "\n",
    "where $\\lambda(x) = \\lambda^P + (\\lambda^D-\\lambda^P) \\, \\mathcal{H}(x-L_p)$ and $\\tau(x) = \\tau_m^P + (\\tau_m^D-\\tau_m^P) \\, \\mathcal{H}(x-L_p)$ and we have defined $\\tau_m^D = \\frac{r_m \\, c_m}{1+r_m \\, g_{e0}^d+r_m \\, g_{i0}^d}$ and $\\tau_m^P = \\frac{r_m \\, c_m}{1+r_m \\, g_{e0}^P+r_m \\, g_{i0}^P}$\n",
    "\n",
    "\n",
    "\n",
    "\n",
    "\n",
    "Within those hypothesis, the input sum linearly, we will be able to write the solution as a convolution of the response to all synaptic locations. To this purpose we need the response to a current density of the form $I \\, \\delta(x-X)$ ($I$ is a real current, [I]=[A]), the equation for this solution $ \\delta v(x,X,t)$ :\n",
    "\n",
    "\\begin{equation}\n",
    "\\left\\{\n",
    "\\begin{split}\n",
    "& \\big(\\lambda(x)\\big)^2 \\frac{\\partial^2 d v}{\\partial x^2} = \\tau_m(x) \\, \\frac{\\partial d v}{\\partial t} + d v \n",
    "- r_m \\, I \\, \\delta(x-X) \\\\\n",
    "& \\frac{\\partial d v(x,t)}{\\partial x}_{x=0} = \\frac{C_m \\, r_i}{\\tau_S} \n",
    "\\Big( \\tau_S \\frac{\\partial d v(0,t) }{\\partial t} +d v(0,t) \\Big) \\\\\n",
    "& \\frac{\\partial d v(x,t)}{\\partial x}_{x=L} = 0\\\\\n",
    "\\end{split}\n",
    "\\right.\n",
    "\\end{equation}\n",
    "\n",
    "We Fourier transform this equation:\n",
    " \n",
    "\\begin{equation}\n",
    "\\left\\{\n",
    "\\begin{split}\n",
    "& \\big(\\lambda(x)\\big)^2 \\frac{\\partial^2 d v}{\\partial x^2} = \\big(1+ 2 i \\pi \\tau_m(x) \\big) \\, \\delta \\hat{v} \n",
    "- r_m \\, I \\, \\delta(x-X) \\\\\n",
    "& \\frac{\\partial \\delta \\hat{v}(x,f)}{\\partial x}_{x=0} = \\frac{C_m \\, r_i \\, (1+2 i \\pi f \\, \\tau_S) }{\\tau_S} \\delta \\hat{v}(0,f)  \\\\\n",
    "& \\frac{\\partial \\delta \\hat{v}(x,f)}{\\partial x}_{x=L} = 0\\\\\n",
    "\\end{split}\n",
    "\\right.\n",
    "\\end{equation}\n",
    "\n",
    "Let's split the domain in $[0,L_p[$ and $[L_p, L]$ and define :\n",
    "\n",
    "- $ \\lambda_f^P = \\frac{\\lambda^P}{\\sqrt{1+2 i \\pi \\, f \\tau_m^P}}$ and $ \\lambda_f^D = \\frac{\\lambda^D}{\\sqrt{1+2 i \\pi \\, f \\tau_m^D}}$\n",
    "\n",
    "- $r_f^P = \\frac{r_m}{1+2 i \\pi \\, f \\tau_m^P}$ and $ r_f^D = \\frac{r_m}{1+2 i \\pi \\, f \\tau_m^D}$\n",
    "\n",
    "- $ \\gamma_f^P = \\frac{C_m \\, r_i \\lambda_f^P}{ \\tau_S \\, (1+2 i \\pi \\, f \\tau_S}$\n",
    "\n",
    "\n",
    "\\begin{equation}\n",
    "\\left\\{\n",
    "\\begin{split}\n",
    "& (\\lambda_f^P)^2 \\frac{\\partial^2 \\delta \\hat{v}}{\\partial x^2} =  \\delta \\hat{v} - r_f^P \\, I \\, \\delta(x-X) \\quad \\forall x \\in [0,L_p[ \\\\\n",
    "& (\\lambda_f^P)^D \\frac{\\partial^2 \\delta \\hat{v}}{\\partial x^2} =  \\delta \\hat{v} - r_f^D \\, I \\, \\delta(x-X) \\quad \\forall x \\in [L_p,L[ \\\\\n",
    "& \\frac{\\partial \\delta \\hat{v}(x,f)}{\\partial x}_{x=0} = \\frac{\\gamma_f^P}{\\lambda_f^P} \\, \\delta \\hat{v}(0,f)  \\\\\n",
    "& \\frac{\\partial \\delta \\hat{v}(x,f)}{\\partial x}_{x=L} = 0\\\\\n",
    "\\end{split}\n",
    "\\right.\n",
    "\\end{equation}"
   ]
  },
  {
   "cell_type": "code",
   "execution_count": 10,
   "metadata": {
    "autoscroll": "json-false",
    "collapsed": false,
    "ein.tags": [
     "worksheet-0"
    ],
    "slideshow": {
     "slide_type": "-"
    }
   },
   "outputs": [],
   "source": [
    "# Let's solve this with sympy --> FIRST CASE : X<=Lp\n",
    "\n",
    "\"\"\"\n",
    "we split the domain [0,L] into two domains [0,Lp] and [Lp,L], in each of the domain we have\n",
    "the standard cable equation (so solution in terms of constants + hyperbolic functions).\n",
    "With the boudary conditions, this gives :\n",
    "if X<=Lp\n",
    "  dv(x<X<=Lp) = A(X)*(cosh(x/lbdP)+gP*sinh(x/lbdP))\n",
    "  dv(X<x<=Lp) = B(X)*cosh((x-Lp)/lbdP)+C(X)*sinh((x-Lp)/lbdP)\n",
    "  dv(X<=Lp<x) = D(X)*cosh((x-L)/lbdD)\n",
    "if X>Lp\n",
    "  dv(x<=Lp<X) = A(X)*(cosh(x/lbdP)+gP*sinh(x/lbdP))\n",
    "  dv(Lp<x<X) = B(X)*cosh((x-Lp)/lbdP)+C(X)*sinh((x-Lp)/lbdP)\n",
    "  dv(Lp<X<x) = D(X)*cosh((x-L)/lbdD)\n",
    "  \n",
    "+ 2 conditions at Lp:\n",
    "- continuity of the potential\n",
    "- continuity of the derivative\n",
    "\n",
    "+ 2 conditions at X:\n",
    "- continuity of the potential\n",
    "- jump of the derivative of -rPf*I/lbdP or -rDf*I/lbdDf\n",
    "\"\"\"\n",
    "\n",
    "pretty_print = False # switch it, True for nice render and False -> for easy export to code (numpy)\n",
    "\n",
    "from sympy import Matrix, solve_linear_system_LU, symbols, exp, cosh, sinh, init_printing, pprint,\\\n",
    "    simplify, latex\n",
    "from sympy.abc import a,b, c, d\n",
    "if pretty_print:\n",
    "    # --- for pretty print\n",
    "    init_printing()\n",
    "    Lp, L, lbdDf, lbdPf, gPf, X, rPf, rDf = symbols('L_p L lambda^D_f lambda^P_f gamma^P_f X r_f^P r_f^D')\n",
    "else:\n",
    "    # --- for implementation into numpy (to use copy paste with the variables in your code)\n",
    "    Lp, L, lbdDf, lbdPf, gPf, X, rPf, rDf = symbols('Lp, L, lbdDf, lbdPf, gPf, X, rPf, rDf')\n",
    "\n",
    "M = Matrix((\n",
    "            (cosh(X/lbdPf)+gPf*sinh(X/lbdPf),-cosh((X-Lp)/lbdPf),-sinh((X-Lp)/lbdPf), 0, 0),\n",
    "            (-sinh(X/lbdPf)-gPf*cosh(X/lbdPf),sinh((X-Lp)/lbdPf),cosh((X-Lp)/lbdPf), 0, -rPf/lbdPf),\n",
    "            (0, 1, 0, -cosh((Lp-L)/lbdDf), 0),\n",
    "            (0, 0, 1, -sinh((Lp-L)/lbdDf)*lbdPf/lbdDf, 0)\n",
    "           ))\n",
    "\n",
    "sol = solve_linear_system_LU(M, [a, b, c, d])\n"
   ]
  },
  {
   "cell_type": "code",
   "execution_count": 12,
   "metadata": {
    "autoscroll": "json-false",
    "collapsed": false,
    "ein.tags": [
     "worksheet-0"
    ],
    "slideshow": {
     "slide_type": "-"
    }
   },
   "outputs": [
    {
     "name": "stdout",
     "output_type": "stream",
     "text": [
      "rf*cosh((L - X)/lbdf)/(lbdf*(gf*cosh(L/lbdf) + sinh(L/lbdf)))\n",
      "rf*(gf*sinh(X/lbdf) + cosh(X/lbdf))/(lbdf*(gf*cosh(L/lbdf) + sinh(L/lbdf)))\n"
     ]
    }
   ],
   "source": [
    "# let's check that we recover the right expression when Lp-> L\n",
    "print(simplify(sol[a].subs([(lbdPf,lbdf), (lbdDf,lbdf), (Lp,L), (rPf, rf), (gPf, gf), (rDf, rf)])))\n",
    "print(simplify(sol[d].subs([(lbdPf,lbdf), (lbdDf,lbdf), (Lp,L), (rPf, rf), (gPf, gf), (rDf, rf)])))"
   ]
  },
  {
   "cell_type": "code",
   "execution_count": 13,
   "metadata": {
    "autoscroll": "json-false",
    "collapsed": false,
    "ein.tags": [
     "worksheet-0"
    ],
    "slideshow": {
     "slide_type": "-"
    }
   },
   "outputs": [
    {
     "name": "stdout",
     "output_type": "stream",
     "text": [
      "dv_xXLp = lambda x,X,Lp,L,lbdDf,lbdPf,gPf,rPf,rDf: (rPf*(gPf*np.sinh(x/lbdPf) + np.cosh(x/lbdPf))*(lbdDf*np.cosh((L - Lp)/lbdDf)*np.cosh((Lp - X)/lbdPf) + lbdPf*np.sinh((L - Lp)/lbdDf)*np.sinh((Lp - X)/lbdPf))/(lbdPf*(lbdDf*((gPf*np.sinh(X/lbdPf) + np.cosh(X/lbdPf))*np.sinh((Lp - X)/lbdPf) + (gPf*np.cosh(X/lbdPf) + np.sinh(X/lbdPf))*np.cosh((Lp - X)/lbdPf))*np.cosh((L - Lp)/lbdDf) + lbdPf*((gPf*np.sinh(X/lbdPf) + np.cosh(X/lbdPf))*np.cosh((Lp - X)/lbdPf) + (gPf*np.cosh(X/lbdPf) + np.sinh(X/lbdPf))*np.sinh((Lp - X)/lbdPf))*np.sinh((L - Lp)/lbdDf))))\n",
      "dv_XxLp = lambda x,X,Lp,L,lbdDf,lbdPf,gPf,rPf,rDf: (rPf*(lbdDf*(gPf*np.sinh((X*lbdDf - lbdPf*(L - Lp))/(lbdDf*lbdPf)) + gPf*np.sinh((X*lbdDf + lbdPf*(L - Lp))/(lbdDf*lbdPf)) + np.cosh((X*lbdDf - lbdPf*(L - Lp))/(lbdDf*lbdPf)) + np.cosh((X*lbdDf + lbdPf*(L - Lp))/(lbdDf*lbdPf)))*np.cosh((Lp - x)/lbdPf) - lbdPf*(gPf*np.cosh((X*lbdDf - lbdPf*(L - Lp))/(lbdDf*lbdPf)) - gPf*np.cosh((X*lbdDf + lbdPf*(L - Lp))/(lbdDf*lbdPf)) + np.sinh((X*lbdDf - lbdPf*(L - Lp))/(lbdDf*lbdPf)) - np.sinh((X*lbdDf + lbdPf*(L - Lp))/(lbdDf*lbdPf)))*np.sinh((Lp - x)/lbdPf))/(lbdPf*(gPf*lbdDf*np.cosh((Lp*lbdDf - lbdPf*(L - Lp))/(lbdDf*lbdPf)) + gPf*lbdDf*np.cosh((Lp*lbdDf + lbdPf*(L - Lp))/(lbdDf*lbdPf)) - gPf*lbdPf*np.cosh((Lp*lbdDf - lbdPf*(L - Lp))/(lbdDf*lbdPf)) + gPf*lbdPf*np.cosh((Lp*lbdDf + lbdPf*(L - Lp))/(lbdDf*lbdPf)) + lbdDf*np.sinh((Lp*lbdDf - lbdPf*(L - Lp))/(lbdDf*lbdPf)) + lbdDf*np.sinh((Lp*lbdDf + lbdPf*(L - Lp))/(lbdDf*lbdPf)) - lbdPf*np.sinh((Lp*lbdDf - lbdPf*(L - Lp))/(lbdDf*lbdPf)) + lbdPf*np.sinh((Lp*lbdDf + lbdPf*(L - Lp))/(lbdDf*lbdPf)))))\n",
      "dv_XLpx = lambda x,X,Lp,L,lbdDf,lbdPf,gPf,rPf,rDf: (lbdDf*rPf*(gPf*np.sinh(X/lbdPf) + np.cosh(X/lbdPf))*np.cosh((L - x)/lbdDf)/(lbdPf*(gPf*lbdDf*np.cosh(Lp/lbdPf)*np.cosh((L - Lp)/lbdDf) + gPf*lbdPf*np.sinh(Lp/lbdPf)*np.sinh((L - Lp)/lbdDf) + lbdDf*np.sinh(Lp/lbdPf)*np.cosh((L - Lp)/lbdDf) + lbdPf*np.sinh((L - Lp)/lbdDf)*np.cosh(Lp/lbdPf))))\n"
     ]
    }
   ],
   "source": [
    "# generate functions from this\n",
    "A = simplify(sol[a])\n",
    "B = simplify(sol[b])\n",
    "C = simplify(sol[c])\n",
    "D = simplify(sol[d])\n",
    "x, X = symbols('x, X')\n",
    "\n",
    "from sympy.utilities.lambdify import lambdastr\n",
    "print('dv_xXLp = '+lambdastr((x, X, Lp, L, lbdDf, lbdPf, gPf, rPf, rDf), simplify(A*(cosh(x/lbdPf)+gPf*sinh(x/lbdPf)))).replace('sinh', 'np.sinh').replace('cosh', 'np.cosh'))\n",
    "print('dv_XxLp = '+lambdastr((x, X, Lp, L, lbdDf, lbdPf, gPf, rPf, rDf), simplify(B*cosh((x-Lp)/lbdPf)+C*sinh((x-Lp)/lbdPf))).replace('sinh', 'np.sinh').replace('cosh', 'np.cosh'))\n",
    "print('dv_XLpx = '+lambdastr((x, X, Lp, L, lbdDf, lbdPf, gPf, rPf, rDf), simplify(D*cosh((x-L)/lbdDf))).replace('sinh', 'np.sinh').replace('cosh', 'np.cosh'))"
   ]
  },
  {
   "cell_type": "code",
   "execution_count": 14,
   "metadata": {
    "autoscroll": "json-false",
    "collapsed": false,
    "ein.tags": [
     "worksheet-0"
    ],
    "slideshow": {
     "slide_type": "-"
    }
   },
   "outputs": [],
   "source": [
    "# Let's solve this with sympy --> SECOND CASE : X>Lp\n",
    "\n",
    "\"\"\"\n",
    "we split the domain [0,L] into two domains [0,Lp] and [Lp,L], in each of the domain we have\n",
    "the standard cable equation (so solution in terms of constants + hyperbolic functions).\n",
    "With the boudary conditions, this gives :\n",
    "if X<=Lp\n",
    "  dv(x<X<=Lp) = A(X)*(cosh(x/lbdP)+gP*sinh(x/lbdP))\n",
    "  dv(X<x<=Lp) = B(X)*cosh((x-Lp)/lbdP)+C(X)*sinh((x-Lp)/lbdP)\n",
    "  dv(X<=Lp<x) = D(X)*cosh((x-L)/lbdD)\n",
    "if X>Lp\n",
    "  dv(x<=Lp<X) = A(X)*(cosh(x/lbdP)+gP*sinh(x/lbdP))\n",
    "  dv(Lp<x<X) = B(X)*cosh((x-Lp)/lbdD)+C(X)*sinh((x-Lp)/lbdD)\n",
    "  dv(Lp<X<x) = D(X)*cosh((x-L)/lbdD)\n",
    "  \n",
    "+ 2 conditions at Lp:\n",
    "- continuity of the potential\n",
    "- continuity of the derivative\n",
    "\n",
    "+ 2 conditions at X:\n",
    "- continuity of the potential\n",
    "- jump of the derivative of -rPf*I/lbdP or -rDf*I/lbdDf\n",
    "\"\"\"\n",
    "\n",
    "pretty_print = False # switch it, True for nice render and False -> for easy export to code (numpy)\n",
    "\n",
    "from sympy import Matrix, solve_linear_system_LU, symbols, exp, cosh, sinh, init_printing, pprint,\\\n",
    "    simplify, latex\n",
    "from sympy.abc import a,b, c, d\n",
    "if pretty_print:\n",
    "    # --- for pretty print\n",
    "    init_printing()\n",
    "    Lp, L, lbdDf, lbdPf, gPf, X, rPf, rDf = symbols('L_p L lambda^D_f lambda^P_f gamma^P_f X r_f^P r_f^D')\n",
    "else:\n",
    "    # --- for implementation into numpy (to use copy paste with the variables in your code)\n",
    "    Lp, L, lbdDf, lbdPf, gPf, X, rPf, rDf = symbols('Lp, L, lbdDf, lbdPf, gPf, X, rPf, rDf')\n",
    "\n",
    "M = Matrix((\n",
    "            (cosh(Lp/lbdPf)+gPf*sinh(Lp/lbdPf),-1, 0, 0, 0),\n",
    "            ((sinh(Lp/lbdPf)+gPf*cosh(Lp/lbdPf))/lbdPf, 0, -1/lbdDf, 0, 0),\n",
    "            (0, cosh((X-Lp)/lbdDf), sinh((X-Lp)/lbdDf), -cosh((X-L)/lbdDf), 0),\n",
    "            (0, -cosh((X-Lp)/lbdDf), -sinh((X-Lp)/lbdDf), sinh((X-L)/lbdDf), -rDf/lbdDf)\n",
    "    ))\n",
    "\n",
    "sol = solve_linear_system_LU(M, [a, b, c, d])\n"
   ]
  },
  {
   "cell_type": "code",
   "execution_count": 15,
   "metadata": {
    "autoscroll": "json-false",
    "collapsed": false,
    "ein.tags": [
     "worksheet-0"
    ],
    "slideshow": {
     "slide_type": "-"
    }
   },
   "outputs": [
    {
     "name": "stdout",
     "output_type": "stream",
     "text": [
      "dv_xLpX = lambda x,X,Lp,L,lbdDf,lbdPf,gPf,rPf,rDf: (-lbdPf*rDf*(gPf*np.sinh(x/lbdPf) + np.cosh(x/lbdPf))*np.exp(-(L - X)/lbdDf)*np.cosh((L - X)/lbdDf)/(lbdDf*(lbdDf*(gPf*np.cosh(Lp/lbdPf) + np.sinh(Lp/lbdPf))*np.sinh((Lp - X)/lbdDf) - lbdPf*(gPf*np.sinh(Lp/lbdPf) + np.cosh(Lp/lbdPf))*np.cosh((Lp - X)/lbdDf))))\n",
      "dv_LpxX = lambda x,X,Lp,L,lbdDf,lbdPf,gPf,rPf,rDf: (rDf*(lbdDf*(gPf*np.cosh(Lp/lbdPf) + np.sinh(Lp/lbdPf))*np.sinh((Lp - x)/lbdDf) - lbdPf*(gPf*np.sinh(Lp/lbdPf) + np.cosh(Lp/lbdPf))*np.cosh((Lp - x)/lbdDf))*np.exp(-(L - X)/lbdDf)*np.cosh((L - X)/lbdDf)/(lbdDf*(lbdDf*(gPf*np.cosh(Lp/lbdPf) + np.sinh(Lp/lbdPf))*np.sinh((Lp - X)/lbdDf) - lbdPf*(gPf*np.sinh(Lp/lbdPf) + np.cosh(Lp/lbdPf))*np.cosh((Lp - X)/lbdDf))))\n",
      "dv_LpXx = lambda x,X,Lp,L,lbdDf,lbdPf,gPf,rPf,rDf: (rDf*np.exp(-(L - X)/lbdDf)*np.cosh((L - x)/lbdDf)/lbdDf)\n"
     ]
    }
   ],
   "source": [
    "# generate functions from this\n",
    "A = simplify(sol[a])\n",
    "B = simplify(sol[b])\n",
    "C = simplify(sol[c])\n",
    "D = simplify(sol[d])\n",
    "x, X = symbols('x, X')\n",
    "from sympy.utilities.lambdify import lambdastr\n",
    "print('dv_xLpX = '+lambdastr((x,X,Lp, L, lbdDf, lbdPf, gPf, rPf, rDf), simplify(A*(cosh(x/lbdPf)+gPf*sinh(x/lbdPf)))).replace('sinh', 'np.sinh').replace('cosh', 'np.cosh').replace('exp', 'np.exp'))\n",
    "print('dv_LpxX = '+lambdastr((x,X,Lp, L, lbdDf, lbdPf, gPf, rPf, rDf), simplify(B*cosh((x-Lp)/lbdDf)+C*sinh((x-Lp)/lbdDf))).replace('sinh', 'np.sinh').replace('cosh', 'np.cosh').replace('exp', 'np.exp'))\n",
    "print('dv_LpXx = '+lambdastr((x,X,Lp, L, lbdDf, lbdPf, gPf, rPf, rDf), simplify(D*cosh((x-L)/lbdDf))).replace('sinh', 'np.sinh').replace('cosh', 'np.cosh').replace('exp', 'np.exp'))"
   ]
  },
  {
   "cell_type": "code",
   "execution_count": 16,
   "metadata": {
    "autoscroll": "json-false",
    "collapsed": false,
    "ein.tags": [
     "worksheet-0"
    ],
    "slideshow": {
     "slide_type": "-"
    }
   },
   "outputs": [
    {
     "data": {
      "text/plain": [
       "-lbdPf*rDf*exp(-(L - X)/lbdDf)*cosh((L - X)/lbdDf)/(lbdDf*(lbdDf*(gPf*cosh(Lp/lbdPf) + sinh(Lp/lbdPf))*sinh((Lp - X)/lbdDf) - lbdPf*(gPf*sinh(Lp/lbdPf) + cosh(Lp/lbdPf))*cosh((Lp - X)/lbdDf)))"
      ]
     },
     "execution_count": 16,
     "metadata": {},
     "output_type": "execute_result"
    }
   ],
   "source": [
    "simplify(sol[a])"
   ]
  },
  {
   "cell_type": "code",
   "execution_count": 17,
   "metadata": {
    "autoscroll": "json-false",
    "collapsed": false,
    "ein.tags": [
     "worksheet-0"
    ],
    "slideshow": {
     "slide_type": "-"
    }
   },
   "outputs": [
    {
     "data": {
      "text/plain": [
       "-rDf*(gPf*cosh(Lp/lbdPf) + sinh(Lp/lbdPf))*exp(-(L - X)/lbdDf)*cosh((L - X)/lbdDf)/(lbdDf*(gPf*cosh(Lp/lbdPf) + sinh(Lp/lbdPf))*sinh((Lp - X)/lbdDf) - lbdPf*(gPf*sinh(Lp/lbdPf) + cosh(Lp/lbdPf))*cosh((Lp - X)/lbdDf))"
      ]
     },
     "execution_count": 17,
     "metadata": {},
     "output_type": "execute_result"
    }
   ],
   "source": [
    "simplify(sol[c])"
   ]
  },
  {
   "cell_type": "markdown",
   "metadata": {
    "ein.tags": [
     "worksheet-0"
    ],
    "slideshow": {
     "slide_type": "-"
    }
   },
   "source": [
    "## Post-synaptic membrane potential event\n",
    "\n",
    "The core of the method that we present here, rely on having an approximation of post-synaptic membrane potential events.\n",
    "\n",
    "So, we use the previous solution to compute the membrane potential response to a synaptic event at $X$ under the constant driving force approximation. The synaptic conductance time course is given by : $g_\\alpha(t)$. \n",
    "\n",
    "Therefore the current at $X$ is given, under the constant driving force approximation, by :\n",
    "\n",
    "$$\n",
    "I_\\alpha(X,t) = g_\\alpha(t) \\big( E_\\alpha - \\mu_v(X) \\big) =\n",
    "g_\\alpha(t)  \\, \\big( E_\\alpha - v_0 - v_1 \\cosh{(\\frac{X-L}{\\lambda})} \\big)\n",
    "$$\n",
    "\n",
    "So the post-synaptic response at $x$ for an event at $X$ is given by:\n",
    "\n",
    "\\begin{equation}\n",
    "PSP_\\alpha(x, X, t) = \n",
    "\\left\\{\n",
    "\\begin{split}\n",
    "& I_\\alpha(X,t) * \\delta v_-(x, X, t) = \n",
    " g_\\alpha(t) * \\delta v_-(x, X, t) \\,  \\big( E_\\alpha - v_0 - v_1 \\cosh{(\\frac{X-L}{\\lambda})} \\big) \\quad \n",
    "if :  x \\leq X \\\\\n",
    "& I_\\alpha(X,t) * \\delta v_+(x, X, t) =\n",
    " g_\\alpha(t) * \\delta v_+(x, X, t) \\,  \\big( E_\\alpha - v_0 - v_1 \\cosh{(\\frac{X-L}{\\lambda})} \\big) \\quad \n",
    "if :  x > X \n",
    "\\end{split}\n",
    "\\right.\n",
    "\\end{equation}\n",
    "\n",
    "where $*$ denotes the temporal convolution.\n",
    "\n",
    "We Fourier transform this expression, we obtain :\n",
    "\n",
    "\\begin{equation}\n",
    "\\hat{PSP_\\alpha}(x, X, f) = \n",
    "\\left\\{\n",
    "\\begin{split}\n",
    "& \\hat{g_\\alpha}(f) \\, \\hat{\\delta v_-}(x, X, f) \\,  \\big( E_\\alpha - v_0 - v_1 \\cosh{(\\frac{X-L}{\\lambda})} \\big) \\quad \n",
    "if :  x \\leq X \\\\\n",
    "& \\hat{g_\\alpha}(f), \\hat{\\delta v_+}(x, X, f) \\,  \\big( E_\\alpha - v_0 - v_1 \\cosh{(\\frac{X-L}{\\lambda})} \\big) \\quad \n",
    "if :  x > X \n",
    "\\end{split}\n",
    "\\right.\n",
    "\\end{equation}\n",
    "\n",
    "The temporal convolution has been transformed into a scalar product in the Fourier domain.\n",
    "\n",
    "Replacing $\\delta v$ by its expressions, this gives :\n",
    "\n",
    "\n",
    "\\begin{equation}\n",
    "\\hat{PSP_\\alpha}(x, X, f) = \n",
    "\\left\\{\n",
    "\\begin{split}\n",
    "& \\frac{ \\hat{g_\\alpha}(f) \\, \\tau_m  \\, \\big( E_\\alpha - v_0 - v_1 \\cosh{(\\frac{X-L}{\\lambda})} \\big) \\, \\big(\\cosh(\\frac{x}{\\lambda_f}) + B_f \\sinh(\\frac{x}{\\lambda_f}) \\big) \\, \\cosh(\\frac{X-L}{\\lambda_f})}{(1+2 i \\pi f \\, \\tau_m) \\, c_m \\, \\lambda_f \\big(\\sinh(\\frac{L}{\\lambda_f}) + B_f \\cosh(\\frac{L}{\\lambda_f}) \\big)}   \\quad \n",
    "if :  x \\leq X \\\\\n",
    "& \\frac{\\hat{g_\\alpha}(f) \\, \\tau_m  \\, \\big( E_\\alpha - v_0 - v_1 \\cosh{(\\frac{X-L}{\\lambda})} \\big) \\, \\cosh(\\frac{x-L}{\\lambda_f}) \\, \\big(\\cosh(\\frac{X}{\\lambda_f}) + B_f \\sinh(\\frac{X}{\\lambda_f}) \\big)}{(1+2 i \\pi f \\, \\tau_m) \\, c_m \\,\\lambda_f \\big(\\sinh(\\frac{L}{\\lambda_f}) + B_f \\cosh(\\frac{L}{\\lambda_f}) \\big)} \\quad \n",
    "if :  x > X \n",
    "\\end{split}\n",
    "\\right.\n",
    "\\end{equation}\n",
    "\n",
    "In this study we will actually need two quantities:\n",
    "\n",
    "- $\\int_{0}^{+\\infty} \\big( PSP_\\alpha(x, X, t) \\big)^2 dt$,  so we will use the identity : $\\int_{0}^{+\\infty} \\big( PSP_\\alpha(x, X, t) \\big)^2 dt = 2 \\int_{-\\infty}^{+\\infty} \\| \\hat{PSP_\\alpha}(x, X, f) \\|^2 df$\n",
    "\n",
    "- and $\\int_{0}^{+\\infty} PSP_\\alpha(x, X, t) dt = \\hat{PSP_\\alpha}(x, X, 0) $, because $PSP_\\alpha$ is zero for negative $t$.\n",
    "\n",
    "\n",
    "We split the two solutions with respect to whether the input $X$ is closer or further to the location of interest $x$ (with respect to the soma), as $PSP^+$ and $PSP^-$ respectively\n",
    "\n"
   ]
  },
  {
   "cell_type": "markdown",
   "metadata": {
    "ein.tags": [
     "worksheet-0"
    ],
    "slideshow": {
     "slide_type": "-"
    }
   },
   "source": [
    "## i) $\\| \\hat{PSP_\\alpha^+}(x, X, 0) \\| $\n",
    "\n",
    "\n",
    "$$\n",
    "| \\hat{PSP_\\alpha^+}(x, X, 0) \\| =\n",
    "\\frac{ \\| \\hat{g_\\alpha}(0) \\|  \\, \\tau_m  \\, \\big( E_\\alpha - v_0 - v_1 \\cosh{(\\frac{X-L}{\\lambda})} \\big) \\,\n",
    "\\big(\\cosh(\\frac{x}{\\lambda}) + B \\sinh(\\frac{x}{\\lambda}) \\big) \\, \\cosh(\\frac{X-L}{\\lambda})}{ c_m \\, \\lambda \\big(\\sinh(\\frac{L}{\\lambda}) + B \\cosh(\\frac{L}{\\lambda}) \\big)} \n",
    "$$\n",
    "\n",
    "where $B = \\frac{\\lambda \\, C_M \\, r_i }{\\tau_M}$\n"
   ]
  },
  {
   "cell_type": "markdown",
   "metadata": {
    "ein.tags": [
     "worksheet-0"
    ],
    "slideshow": {
     "slide_type": "-"
    }
   },
   "source": [
    "## ii) $\\| \\hat{PSP_\\alpha^-}(x, X, 0) \\| $\n",
    "\n",
    "\n",
    "$$\n",
    "\\| \\hat{PSP_\\alpha^-}(x, X, 0) \\| =\n",
    "\\frac{ \\| \\hat{g_\\alpha}(0) \\| \\, \\tau_m  \\, \\big( E_\\alpha - v_0 - v_1 \\cosh{(\\frac{X-L}{\\lambda})} \\big) \\, \\cosh(\\frac{x-L}{\\lambda}) \\, \\big(\\cosh(\\frac{X}{\\lambda}) + B \\sinh(\\frac{X}{\\lambda}) \\big)}{c_m \\,\\lambda \\big(\\sinh(\\frac{L}{\\lambda}) + B \\cosh(\\frac{L}{\\lambda}) \\big)} \n",
    "$$\n",
    "\n",
    "where $B = \\frac{\\lambda \\, C_M \\, r_i }{\\tau_M}$\n"
   ]
  },
  {
   "cell_type": "markdown",
   "metadata": {
    "ein.tags": [
     "worksheet-0"
    ],
    "slideshow": {
     "slide_type": "-"
    }
   },
   "source": [
    "## iii) $\\int_{-\\infty}^{+\\infty} \\| \\hat{PSP_\\alpha^+}(x, X, f) \\|^2 df$\n",
    "\n",
    "\n",
    "$$\n",
    "\\| \\hat{PSP_\\alpha^+}(x, X, f) \\|^2 = \n",
    "\\big( \\frac{\\tau_m \\, \\big( E_\\alpha - v_0 - v_1 \\cosh{(\\frac{X-L}{\\lambda})} \\big) }{c_m} \\big)^2 \\frac{ \\| \\hat{g_\\alpha}(f) \\|^2  \\, \\| \\cosh(\\frac{x}{\\lambda_f}) + B_f \\sinh(\\frac{x}{\\lambda_f}) \\|^2 \\, \\| \\cosh(\\frac{X-L}{\\lambda_f}) \\|^2}{\n",
    "\\big(1+ (2 \\pi f \\, \\tau_m)^2 \\big) \\, \\| \\lambda_f \\|^2 \\, \\| \\sinh(\\frac{L}{\\lambda_f}) + B_f \\cosh(\\frac{L}{\\lambda_f}) \\|^2 } \n",
    "$$\n",
    "\n",
    "First, $\\| \\lambda_f \\|^2  = \\| \\frac{\\lambda}{\\sqrt{1+2 i \\pi f \\tau}} \\|^2 =  \\frac{\\lambda^2}{\\sqrt{1+(2 \\pi f \\tau)^2}} $\n",
    "\n",
    "Then :\n",
    "\n",
    "$$\n",
    "\\| \\hat{PSP_\\alpha^+}(x, X, f) \\|^2  = \n",
    "\\big( \\frac{\\tau_m \\, \\big( E_\\alpha - v_0 - v_1 \\cosh{(\\frac{X-L}{\\lambda})} \\big)}{\\lambda \\, c_m} \\big)^2 \\frac{ \\| \\hat{g_\\alpha}(f) \\|^2 \\, \\| \\cosh(\\frac{x}{\\lambda_f}) + B_f \\sinh(\\frac{x}{\\lambda_f}) \\|^2 \\, \\| \\cosh(\\frac{X-L}{\\lambda_f}) \\|^2}{\n",
    "\\sqrt{1+ (2 \\pi f \\, \\tau_m)^2 } \\,  \\| \\sinh(\\frac{L}{\\lambda_f}) + B_f \\cosh(\\frac{L}{\\lambda_f}) \\|^2 } \n",
    "$$"
   ]
  },
  {
   "cell_type": "markdown",
   "metadata": {
    "ein.tags": [
     "worksheet-0"
    ],
    "slideshow": {
     "slide_type": "-"
    }
   },
   "source": [
    "### Let's introduce some relations and rewriting\n",
    "\n",
    "Let's use :\n",
    "\n",
    "\\begin{equation}\n",
    "\\left\\{\n",
    "\\begin{split}\n",
    "& \\sqrt{1+2i\\pi f \\tau} = a_f +i \\, b_f \\\\\n",
    "& a_f = \\sqrt{ \\frac{   \\sqrt{1+(2\\pi f\\tau)^2} +1 }{2} } \\\\\n",
    "& b_f = \\sqrt{ \\frac{   \\sqrt{1+(2\\pi f\\tau)^2} -1 }{2} }\n",
    "\\end{split}\n",
    "\\right.\n",
    "\\end{equation}\n"
   ]
  },
  {
   "cell_type": "markdown",
   "metadata": {
    "ein.tags": [
     "worksheet-0"
    ],
    "slideshow": {
     "slide_type": "-"
    }
   },
   "source": [
    "\n",
    "We will also need the modulus and the real and imaginary part of $B_f$, in terms of $a_f$ and $b_f$, we have\n",
    "\n",
    "\n",
    "\\begin{equation}\n",
    "B_f = \\frac{\\lambda_f \\, C_M \\, r_i \\, (a_f +i \\, b_f)}{\\tau_M}  = \\frac{\\lambda \\, C_M \\, r_i \\, \\sqrt{1+2 i \\pi \\, f \\tau_m} }{\\tau_M } =  = \\frac{\\lambda \\, C_M \\, r_i \\, (a_f + i \\, b_f) }{\\tau_M }\n",
    "\\end{equation}\n",
    "\n",
    "\\begin{equation}\n",
    "\\Re[B_f] = \\frac{\\lambda \\, C_M \\, r_i }{\\tau_M} a_f \n",
    "= \\frac{\\lambda \\, C_M \\, r_i }{\\tau_M}  \\sqrt{ \\frac{   \\sqrt{1+(2\\pi f\\tau)^2} +1 }{2} }\n",
    "\\end{equation}\n",
    "\n",
    "\\begin{equation}\n",
    "\\Im[B_f] = \\frac{\\lambda \\, C_M \\, r_i }{\\tau_M} b_f \n",
    "= \\frac{\\lambda \\, C_M \\, r_i }{\\tau_M}  \\sqrt{ \\frac{   \\sqrt{1+(2\\pi f\\tau)^2} -1 }{2} }\n",
    "\\end{equation}\n",
    "\n",
    "\n",
    "using that $a_f^2+b_f^2=\\sqrt{1+(2\\pi f\\tau)^2}$, we get:\n",
    "\n",
    "\\begin{equation}\n",
    "\\| B_f \\|^2 = \\Big( \\frac{\\lambda \\, C_M \\, r_i }{\\tau_M}  \n",
    " \\Big)^2 (a_f^2+b_f^2) = \\Big( \\frac{\\lambda \\, C_M \\, r_i }{\\tau_M}  \n",
    " \\Big)^2 \\, \\sqrt{1+(2\\pi f\\tau)^2}\n",
    "\\end{equation}"
   ]
  },
  {
   "cell_type": "markdown",
   "metadata": {
    "ein.tags": [
     "worksheet-0"
    ],
    "slideshow": {
     "slide_type": "-"
    }
   },
   "source": [
    "## Expression of the variance of the membrane potential\n",
    "\n",
    "At $x$, the variance will results from the contribution of all synaptic locations (weighted by the linear density of synapses), summing over the synaptic type, that have a time course $g_\\alpha(t)$ we get:\n",
    "\n",
    "$$\n",
    "\\sigma_v(x)^2 = \\sum_{\\alpha \\in {e,i}} \\nu_\\alpha \\, \\pi \\, D \\, d_\\alpha \\cdot \\Big( \\int_0^x \\big( \\int_0^\\infty (I_\\alpha(X,t)*\\delta v_+(x, X, t))^2 dt \\big) dX\n",
    "+ \\int_x^L \\big( \\int_0^\\infty (I_\\alpha(X,t) * \\delta v_-(x, X, t))^2 dt \\big) dX \\Big)\n",
    "$$\n",
    "\n",
    " where we have defined :\n",
    "$$\n",
    "I_\\alpha(X,t) = g_\\alpha(t) \\big( E_\\alpha - \\mu_v(X) \\big) =\n",
    "g_\\alpha(t)  \\, \\big( E_\\alpha - v_0 - v_1 \\cosh{(\\frac{X-L}{\\lambda})} \\big)\n",
    "$$\n",
    " \n",
    " and $*$ stands for the temporal convolution\n",
    " \n",
    " \n",
    "We use the identity:\n",
    "$$\n",
    "\\int_0^\\infty (a(t))^2 dt = 2 \\int_{-\\infty}^\\infty ||\\hat{a}(f)||^2 df \n",
    "$$\n",
    "\n",
    "where $||$ denotes the modulus of a complex number.\n",
    "\n",
    "\n",
    "So:\n",
    "\n",
    "$$\n",
    "\\sigma_v(x) = \\sum_\\alpha \\, \\nu_\\alpha d_\\alpha \\, \\,  2 \\pi \\, D \n",
    "\\Big( \\int_0^x \n",
    "\\Big( \\int_{-\\infty}^\\infty\n",
    "\\big|\\big|\\delta v_+(x, X, f) \\cdot \\hat{I}_\\alpha(X,f) \\big|\\big|^2 df\n",
    "\\Big) dX\n",
    "+ \\int_x^L \\Big( \\int_{-\\infty}^\\infty \n",
    "\\big|\\big|\\delta v_-(x, X, f) \\cdot \\hat{I}_\\alpha(X,f) \\big|\\big|^2 df \n",
    "\\Big) dX\n",
    "\\Big)\n",
    "$$\n",
    "\n",
    "We permute the integrals and explicit the formula:\n",
    "\n",
    "\\begin{equation}\n",
    "\\begin{split}\n",
    "\\sigma_v(x) =  \\int_{-\\infty}^\\infty df \n",
    "& \\, \\cdot \\,  \\sum_\\alpha \\nu_\\alpha \\, 2 \\pi \\, D \\, d_\\alpha \\,\n",
    " \\cdot \\Big|\\Big| \\frac{\\tau_m \\, \\hat{g}_\\alpha(f) }{ c_m \\,  \n",
    "\\lambda_f \\, \\big(\\sinh(\\frac{L}{\\lambda_f}) + B_f \\cosh(\\frac{L}{\\lambda_f}) \\big)}  \\Big| \\Big| ^2 \\cdot \\\\\n",
    "& \\Big[  \\, \\, \\Big| \\Big| \\cosh^2(\\frac{x-L}{\\lambda_f}) \\Big| \\Big|^2 \\, \\cdot \n",
    "\\int_0^x \\big( E_\\alpha - v_0 - v_1 \\cosh{(\\frac{X-L}{\\lambda})} \\big)^2 \\, \\, \n",
    "\\Big| \\Big|\\cosh(\\frac{X}{\\lambda_f}) + B_f \\sinh(\\frac{X}{\\lambda_f}) \\Big| \\Big|^2 \\,  \\, dX \\\\\n",
    "& + \\Big| \\Big| \\cosh(\\frac{x}{\\lambda_f}) + B_f \\sinh(\\frac{x}{\\lambda_f}) \\Big| \\Big|^2  \\,  \\cdot \n",
    " \\int_x^L \\, \\Big| \\Big|\\cosh({\\frac{X-L}{\\lambda_f}}) \\Big| \\Big| ^2 \\, \n",
    "\\, \\big( E_\\alpha - v_0 - v_1 \\cosh{(\\frac{X-L}{\\lambda})} \\big)^2 \\, dX \\, \\, \n",
    " \\Big] \n",
    "\\end{split}\n",
    "\\end{equation}\n",
    "\n",
    "We want to translate this in terms of real values before evaluating it"
   ]
  },
  {
   "cell_type": "markdown",
   "metadata": {
    "ein.tags": [
     "worksheet-0"
    ],
    "slideshow": {
     "slide_type": "-"
    }
   },
   "source": [
    "\n",
    "\\begin{equation}\n",
    "\\begin{split}\n",
    "\\sigma_v(x) =  \\int_{-\\infty}^\\infty df \n",
    "& \\, \\cdot \\,  \\sum_\\alpha \\nu_\\alpha 2 \\pi \\, D \\, d_\\alpha \\,\n",
    " \\cdot \\Big|\\Big| \\frac{\\tau_m \\, \\hat{g}_\\alpha(f) }{ c_m \\,  \n",
    "\\lambda_f \\, \\big(\\sinh(\\frac{L}{\\lambda_f}) + B_f \\cosh(\\frac{L}{\\lambda_f}) \\big)}  \\Big| \\Big| ^2 \\cdot \\\\\n",
    "& \\Big[  \\, \\, \\Big| \\Big| \\cosh^2(\\frac{x-L}{\\lambda_f}) \\Big| \\Big|^2 \\, \\cdot \n",
    "\\int_0^x \\big( E_\\alpha - v_0 - v_1 \\cosh{(\\frac{X-L}{\\lambda})} \\big)^2 \\, \\, \n",
    "\\Big| \\Big|\\cosh(\\frac{X}{\\lambda_f}) + B_f \\sinh(\\frac{X}{\\lambda_f}) \\Big| \\Big|^2 \\,  \\, dX \\\\\n",
    "& + \\Big| \\Big| \\cosh(\\frac{x}{\\lambda_f}) + B_f \\sinh(\\frac{x}{\\lambda_f}) \\Big| \\Big|^2  \\,  \\cdot \n",
    " \\int_x^L \\, \\Big| \\Big|\\cosh({\\frac{X-L}{\\lambda_f}}) \\Big| \\Big| ^2 \\, \n",
    "\\, \\big( E_\\alpha - v_0 - v_1 \\cosh{(\\frac{X-L}{\\lambda})} \\big)^2 \\, dX \\, \\, \n",
    " \\Big] \n",
    "\\end{split}\n",
    "\\end{equation}\n"
   ]
  },
  {
   "cell_type": "markdown",
   "metadata": {
    "ein.tags": [
     "worksheet-0"
    ],
    "slideshow": {
     "slide_type": "-"
    }
   },
   "source": [
    "We change variables in the integrals and we use the previous identities\n",
    "\n",
    "\\begin{equation}\n",
    "\\begin{split}\n",
    "\\sigma_v(x) =  \\int_{-\\infty}^\\infty df \n",
    "& \\, \\cdot \\,  \\sum_\\alpha  \\frac{ \\nu_\\alpha 2 \\pi \\, D \\, d_\\alpha \\,\n",
    " \\, (a_f^2 + b_f^2) \\, \\, (\\frac{\\tau_m}{c_m \\, \\lambda} )^2 \\, || \\hat{g}_\\alpha(f) ||^2 }{   \n",
    " (||B_f||^2+1) \\, \\cosh(2 a_f \\frac{L}{\\lambda})+2 \\, \\Re[B_f] \\,\\big( \\sinh(2 a_f \\frac{L}{\\lambda}) + \\sin(2 b_f \\frac{L}{\\lambda}) \\big) \n",
    "+(||B_f||^2-1) \\, \\cos(2 b_f \\frac{L}{\\lambda}) }\n",
    "\\cdot \\\\\n",
    "& \\Big[  \\quad \\, \n",
    "\\big(\\cosh(2 \\frac{x-L}{\\lambda} a_f) + \\cos(2 \\frac{x-L}{\\lambda} b_f) \\big) \\, \\times \\\\\n",
    "& \\,\n",
    "\\qquad \\frac{\\lambda}{2} \\int_{0}^{\\frac{x}{\\lambda}}\n",
    "\\big( E_\\alpha - v_0 - v_1 \\cosh{(u-\\frac{L}{\\lambda})} \\big)^2  \\, \n",
    "\\Big( (||B_f||^2+1) \\, \\cosh(2 a_f u)+2 \\, \\Re[B_f] \\,\\big( \\sinh(2 a_f u) + \\sin(2 b_f u) \\big) \n",
    "+(||B_f||^2-1) \\, \\cos(2 b_f u)  \\Big) \\, du \\\\\n",
    "& +\n",
    "\\Big( (||B_f||^2+1) \\, \\cosh(2 a_f \\frac{x}{\\lambda})+2 \\, \\Re[B_f] \\,\\big( \\sinh(2 a_f \\frac{x}{\\lambda}) + \\sin(2 b_f \\frac{x}{\\lambda}) \\big) \n",
    "+(||B_f||^2-1) \\, \\cos(2 b_f \\frac{x}{\\lambda})  \\Big) \\times   \\\\ \n",
    "&  \\frac{\\lambda}{2} \\int_{\\frac{x-L}{\\lambda}}^{0} \\, \n",
    "\\big(\\cosh(2 u a_f) + \\cos(2 u b_f) \\big)\n",
    "\\, \\big( E_\\alpha - v_0 - v_1 \\cosh{(u)} \\big)^2 \\, du \\, \\, \n",
    " \\Big] \n",
    "\\end{split}\n",
    "\\end{equation}"
   ]
  },
  {
   "cell_type": "markdown",
   "metadata": {
    "ein.tags": [
     "worksheet-0"
    ],
    "slideshow": {
     "slide_type": "-"
    }
   },
   "source": [
    "We change variables in the integrals and we use the previous identities\n",
    "\n",
    "\\begin{equation}\n",
    "\\begin{split}\n",
    "\\sigma_v(x) =  \\int_{-\\infty}^\\infty df \n",
    "& \\, \\cdot \\,  \\sum_\\alpha  \\frac{ \\nu_\\alpha  \\pi \\, D \\, d_\\alpha \\,\n",
    " \\, (a_f^2 + b_f^2) \\, \\, (\\tau_m/c_m)^2 \\, \\lambda^{-1}  \\, || \\hat{g}_\\alpha(f) ||^2 \\cdot v_1 }{   \n",
    " (||B_f||^2+1) \\, \\cosh(2 a_f \\frac{L}{\\lambda})+2 \\, \\Re[B_f] \\,\\big( \\sinh(2 a_f \\frac{L}{\\lambda}) + \\sin(2 b_f \\frac{L}{\\lambda}) \\big) \n",
    "+(||B_f||^2-1) \\, \\cos(2 b_f \\frac{L}{\\lambda}) }\n",
    "\\cdot \\\\\n",
    "& \\Big[  \\quad \\, \n",
    "\\big(\\cosh(2 \\frac{x-L}{\\lambda} a_f) + \\cos(2 \\frac{x-L}{\\lambda} b_f) \\big) \\, \\times \\\\\n",
    "& \\,\n",
    "\\qquad \\int_{0}^{\\frac{x}{\\lambda}}\n",
    "\\big( \\frac{E_\\alpha - v_0}{v_1} - \\cosh{(u-\\frac{L}{\\lambda})} \\big)^2  \\, \n",
    "\\Big( (||B_f||^2+1) \\, \\cosh(2 a_f u)+2 \\, \\Re[B_f] \\,\\big( \\sinh(2 a_f u) + \\sin(2 b_f u) \\big) \n",
    "+(||B_f||^2-1) \\, \\cos(2 b_f u)  \\Big) \\, du \\\\\n",
    "& +\n",
    "\\Big( (||B_f||^2+1) \\, \\cosh(2 a_f \\frac{x}{\\lambda})+2 \\, \\Re[B_f] \\,\\big( \\sinh(2 a_f \\frac{x}{\\lambda}) + \\sin(2 b_f \\frac{x}{\\lambda}) \\big) \n",
    "+(||B_f||^2-1) \\, \\cos(2 b_f \\frac{x}{\\lambda})  \\Big) \\times   \\\\ \n",
    "&  \\int_{\\frac{x-L}{\\lambda}}^{0} \\, \n",
    "\\big(\\cosh(2 u a_f) + \\cos(2 u b_f) \\big)\n",
    "\\, \\big(  \\frac{E_\\alpha - v_0}{v_1} -\\cosh{(u)} \\big)^2 \\, du \\, \\, \n",
    " \\Big] \n",
    "\\end{split}\n",
    "\\end{equation}"
   ]
  },
  {
   "cell_type": "markdown",
   "metadata": {
    "ein.tags": [
     "worksheet-0"
    ],
    "slideshow": {
     "slide_type": "-"
    }
   },
   "source": [
    "we introduce:\n",
    "\n",
    "\\begin{equation}\n",
    "A_\\alpha = \\frac{E_\\alpha - v_0}{v_1}\n",
    "\\end{equation}\n",
    "\n",
    "\\begin{equation}\n",
    "C_f = ||B_f||^2+1\n",
    "\\end{equation}\n",
    "\n",
    "\\begin{equation}\n",
    "D_f = 2 \\Re[B_f]\n",
    "\\end{equation}\n",
    "\n",
    "\\begin{equation}\n",
    "E_f = ||B_f||^2-1\n",
    "\\end{equation}\n"
   ]
  },
  {
   "cell_type": "markdown",
   "metadata": {
    "ein.tags": [
     "worksheet-0"
    ],
    "slideshow": {
     "slide_type": "-"
    }
   },
   "source": [
    "\\begin{equation}\n",
    "\\begin{split}\n",
    "\\sigma_v(x) =  \\int_{-\\infty}^\\infty df \n",
    "& \\, \\cdot \\,  \\sum_\\alpha  \\frac{ \\nu_\\alpha \\pi \\, D \\, d_\\alpha \\,\n",
    " \\, (a_f^2 + b_f^2) \\, \\, (\\tau_m/c_m)^2 \\, \\lambda^{-1}  \\, || \\hat{g}_\\alpha(f) ||^2 \\cdot v_1 }{   \n",
    " C_f \\, \\cosh(2 a_f \\frac{L}{\\lambda})+ D_f \\, \\sinh(2 a_f \\frac{L}{\\lambda}) + D_f \\,  \\sin(2 b_f \\frac{L}{\\lambda}) \n",
    "+ E_f \\, \\cos(2 b_f \\frac{L}{\\lambda}) }\n",
    "\\cdot \\\\\n",
    "& \\Big[  \\quad \\, \n",
    "\\big(\\cosh(2 \\frac{x-L}{\\lambda} a_f) + \\cos(2 \\frac{x-L}{\\lambda} b_f) \\big) \\, \\times \\\\\n",
    "& \\,\n",
    "\\qquad \\int_{0}^{\\frac{x}{\\lambda}}\n",
    "\\big( A_\\alpha - \\cosh{(u-\\frac{L}{\\lambda})} \\big)^2  \\, \n",
    "\\Big( C_f \\, \\cosh(2 a_f u)+ D_f \\, \\sinh(2 a_f u) + D_f \\, \\sin(2 b_f u) \n",
    "+ E_f \\, \\cos(2 b_f u)  \\Big) \\, du \\\\\n",
    "& +\n",
    "\\Big( C_f \\, \\cosh(2 a_f \\frac{x}{\\lambda})+ D_f \\,\\sinh(2 a_f \\frac{x}{\\lambda}) + D_f \\, \\sin(2 b_f \\frac{x}{\\lambda}) \n",
    "+ E_f \\, \\cos(2 b_f \\frac{x}{\\lambda})  \\Big) \\times   \\\\ \n",
    "&  \\int_{\\frac{x-L}{\\lambda}}^{0} \\, \n",
    "\\big(\\cosh(2 u a_f) + \\cos(2 u b_f) \\big)\n",
    "\\, \\big( A_\\alpha  -\\cosh{(u)} \\big)^2 \\, du \\, \\, \n",
    " \\Big] \n",
    "\\end{split}\n",
    "\\end{equation}"
   ]
  },
  {
   "cell_type": "markdown",
   "metadata": {
    "ein.tags": [
     "worksheet-0"
    ],
    "slideshow": {
     "slide_type": "-"
    }
   },
   "source": [
    "## Expression of the speed of the fluctuation (global autocorrelation time constant)\n",
    "\n",
    "\\begin{equation}\n",
    "PSP_{syn}(x, X, t) = \n",
    "\\left\\{\n",
    "\\begin{split}\n",
    "I_{syn}(X,t)*\\delta v_+(x, X, t) \\, \\, \\, if  \\, x \\leq X \\\\\n",
    "I_{syn}(X,t)*\\delta v_-(x, X, t) \\, \\, \\, if  \\, x > X \\\\\n",
    "\\end{split}\n",
    "\\right.\n",
    "\\end{equation}\n",
    "\n",
    "$$\n",
    "\\sigma_v(x)^2 = \\sum_{syn} \\nu_{syn} \\, 2\\,  \\pi \\, D \\, d_{syn} \\cdot \\Big( \\int_0^L   dX \\, \\big( \\int_\\mathbb{R} \\| \\hat{PSP}_{syn}(x, X, f)\\|^2 df \\big) \\,  \\Big)\n",
    "$$\n",
    "\n",
    "$$\n",
    "\\tau_v(x) = \\frac{1}{\\sum_{syn} \\int_0^L  W_{syn}(x, X) \\, dX } \\cdot \\sum_{syn} \\int_0^L   dX \\, W_{syn}(x, X) \\frac{ \\| \\hat{PSP}_{syn}(x, X, 0)\\|^2}{2  \\int_\\mathbb{R} \\| \\hat{PSP}_{syn}(x, X, f)\\|^2 df }\n",
    "$$\n",
    "\n",
    "$$\n",
    "W_{syn}(x, X)  = \\| \\hat{PSP}_{syn}(x, X, 0) \\|\n",
    "$$\n",
    "\n",
    "$$\n",
    "R_{in}(x) = \\mu_G(x)^{-1}= \\mathbb{1}*\\delta v_+(x, x, t) \n",
    "$$\n",
    "\n",
    "\n",
    "$$\n",
    "R_{TF}(x) =\\mathbb{1}*\\delta v_+(0, x, t) \n",
    "$$"
   ]
  },
  {
   "cell_type": "markdown",
   "metadata": {
    "ein.tags": [
     "worksheet-0"
    ],
    "slideshow": {
     "slide_type": "-"
    }
   },
   "source": [
    "$\\mu_V \\rightarrow$ determined from the static conductances\n",
    "\n",
    "$\\sigma_V = \\sum_{syn} \\nu_{syn} \\int_0^\\infty PSP_{syn}(t) \\, dt$  \n",
    "\n",
    "$\\tau_V = \\frac{1}{\\sum_{syn} W_{syn}} \\cdot \\sum_{syn} W_{syn} \\frac{\\big( \\int_0^\\infty PSP_{syn}(t) dt \\big)^2 }{2 \\int_0^\\infty \\big( PSP_{syn}(t) \\big)^2 dt}$ with $W_{syn} = \\| \\int_0^\\infty PSP_{syn}(t) dt \\| $\n",
    "\n",
    "$\\mu_G$ input conductance\n"
   ]
  }
 ],
 "metadata": {
  "kernelspec": {
   "display_name": "Python [Root]",
   "language": "python",
   "name": "Python [Root]"
  },
  "language_info": {
   "codemirror_mode": {
    "name": "ipython",
    "version": 3
   },
   "file_extension": ".py",
   "mimetype": "text/x-python",
   "name": "python",
   "nbconvert_exporter": "python",
   "pygments_lexer": "ipython3",
   "version": "3.5.2"
  },
  "name": "Zerlaut_and_Destexhe_PlosCompBiol_2017.ipynb"
 },
 "nbformat": 4,
 "nbformat_minor": 0
}
