{
 "cells": [
  {
   "cell_type": "markdown",
   "metadata": {},
   "source": [
    "# Fitting transfer function of FS cell"
   ]
  },
  {
   "cell_type": "code",
   "execution_count": 1,
   "metadata": {},
   "outputs": [],
   "source": [
    "import numpy as np\n",
    "from scipy.optimize import minimize\n",
    "from scipy.special import erfc, erfcinv"
   ]
  },
  {
   "cell_type": "code",
   "execution_count": 8,
   "id": "8c8b0586",
   "metadata": {},
   "outputs": [
    {
     "name": "stdout",
     "output_type": "stream",
     "text": [
      "rate exc = 1\n",
      "rate exc = 2\n",
      "rate exc = 3\n",
      "rate exc = 4\n"
     ]
    }
   ],
   "source": [
    "range_exc = np.arange(1, 5,1)\n",
    "range_inh = np.arange(5, 10,1)\n",
    "FRout_exc =[]\n",
    "i=0\n",
    "for rate_exc in range_exc:\n",
    "    print(\"rate exc =\", rate_exc)\n",
    "    FRout_exc.append([])\n",
    "    for rate_inh in range_inh:\n",
    "        FRout_exc[i].append(rate_exc+rate_inh)\n",
    "\n",
    "    i+=1\n",
    "\t\t"
   ]
  },
  {
   "cell_type": "code",
   "execution_count": 12,
   "id": "15342777",
   "metadata": {},
   "outputs": [
    {
     "data": {
      "text/plain": [
       "(4, 5)"
      ]
     },
     "execution_count": 12,
     "metadata": {},
     "output_type": "execute_result"
    }
   ],
   "source": [
    "np.array(FRout_exc).shape"
   ]
  },
  {
   "cell_type": "code",
   "execution_count": 5,
   "metadata": {},
   "outputs": [],
   "source": [
    "\n",
    "tau_e = 5.75 * 1e-3\n",
    "Q_e = 0.5 * 1e-9\n",
    "K_e = 1300\n",
    "\n",
    "tau_i = 3.75 * 1e-3\n",
    "\n",
    "tau_i1 = tau_i\n",
    "Q_i1 = 0.24 * 0 * 1e-9\n",
    "K_i1 = 0\n",
    "\n",
    "tau_i2 = tau_i\n",
    "Q_i2 = 1.1 * 1e-9\n",
    "K_i2 = 25\n",
    "\n",
    "g_L = 23.08 * 1e-9   # 30.0  /1.3\n",
    "C_m = 255.45 * 1e-12  # 281.0 /1.1\n",
    "E_L = -70.6 * 1e-3\n",
    "E_e = 0.0\n",
    "E_i = -85.0 * 1e-3\n",
    "E_i1 = E_i2 = E_i\n",
    "\n",
    "mu_0 = -60.0 * 1e-3\n",
    "mu_d = 0.001\n",
    "sig_0 = 0.004\n",
    "sig_d = 0.006\n",
    "tau_0 = 0.5\n",
    "tau_d = 1.0"
   ]
  },
  {
   "cell_type": "code",
   "execution_count": null,
   "id": "afb2d255",
   "metadata": {},
   "outputs": [],
   "source": [
    "#maria\n",
    "ntot = 10000\n",
    "gei = 0.2\n",
    "\n",
    "tau_e = 5. * 1e-3\n",
    "Q_e = 1.5 * 1e-9\n",
    "K_e = (1-gei)*ntot\n",
    "\n",
    "tau_i = 5. * 1e-3\n",
    "\n",
    "tau_i1 = tau_i\n",
    "Q_i1 = 0.24 * 0 * 1e-9\n",
    "K_i1 = 0\n",
    "\n",
    "tau_i2 = tau_i\n",
    "Q_i2 = 1.5 * 1e-9\n",
    "K_i2 = gei*ntot\n",
    "\n",
    "g_L = 10 * 1e-9   # 30.0  /1.3\n",
    "C_m = 200 * 1e-12  # 281.0 /1.1\n",
    "E_L = -64 * 1e-3\n",
    "E_e = 0.0\n",
    "E_i = -80.0 * 1e-3\n",
    "E_i1 = E_i2 = E_i\n",
    "\n",
    "mu_0 = -60.0 * 1e-3\n",
    "mu_d = 0.01\n",
    "sig_0 = 0.004\n",
    "sig_d = 0.006\n",
    "tau_0 = 0.5\n",
    "tau_d = 1.0"
   ]
  },
  {
   "cell_type": "code",
   "execution_count": 6,
   "metadata": {},
   "outputs": [],
   "source": [
    "data0 = np.loadtxt('tf-na-fs.dat')\n",
    "xdata0 = data0[:, 0:4]\n",
    "xdata0[:, 0:3] += 1e-9  # to avoid 0/0 in tau_V\n",
    "xdata0[:, 3] *= 1e-12  # TBC\n",
    "ydata0 = data0[:, 4]\n",
    "ydata0 += 1e-9"
   ]
  },
  {
   "cell_type": "code",
   "execution_count": null,
   "id": "79f34d30",
   "metadata": {},
   "outputs": [],
   "source": [
    "feSim, fiSim, params = np.load(param_file,allow_pickle=True) \n"
   ]
  },
  {
   "cell_type": "code",
   "execution_count": null,
   "id": "e741697b",
   "metadata": {},
   "outputs": [],
   "source": [
    "#maria\n",
    "feSim, fiSim, params = np.load(param_file,allow_pickle=True) \n",
    "\n",
    "f_e = xdata[:, 0]\n",
    "f_i1 = xdata[:, 1]\n",
    "f_i2 = xdata[:, 2]\n",
    "w_ad = xdata[:, 3]\n",
    "\n",
    "data0 = np.loadtxt('tf-na-fs.dat')\n",
    "xdata0 = data0[:, 0:4]\n",
    "xdata0[:, 0:3] += 1e-9  # to avoid 0/0 in tau_V\n",
    "xdata0[:, 3] *= 1e-12  # TBC\n",
    "ydata0 = data0[:, 4]\n",
    "ydata0 += 1e-9"
   ]
  },
  {
   "cell_type": "code",
   "execution_count": 2,
   "metadata": {},
   "outputs": [],
   "source": [
    "def eff_thresh(mu_V, sig_V, tauN_V, params):\n",
    "    P_0, P_mu, P_sig, P_tau, P_mu2, P_sig2, P_tau2, P_mu_sig, P_mu_tau, P_sig_tau = params\n",
    "    V0 = P_0\n",
    "    V1 = (P_mu * (mu_V - mu_0) / mu_d +\n",
    "          P_sig * (sig_V - sig_0) / sig_d +\n",
    "          P_tau * (tauN_V - tau_0) / tau_d)\n",
    "    V2 = (P_mu2 * ((mu_V - mu_0) / mu_d)**2 +\n",
    "          P_sig2 * ((sig_V - sig_0) / sig_d)**2 +\n",
    "          P_tau2 * ((tauN_V - tau_0) / tau_d)**2 +\n",
    "          P_mu_sig * ((mu_V - mu_0) / mu_d) * ((sig_V - sig_0) / sig_d) +\n",
    "          P_mu_tau * ((mu_V - mu_0) / mu_d) * ((tauN_V - tau_0) / tau_d) +\n",
    "          P_sig_tau * ((sig_V - sig_0) / sig_d) * ((tauN_V - tau_0) / tau_d))\n",
    "    return V0 + V1 + V2"
   ]
  },
  {
   "cell_type": "code",
   "execution_count": 8,
   "metadata": {},
   "outputs": [],
   "source": [
    "def mu_sig_tau_func(xdata):\n",
    "    f_e = xdata[:, 0]\n",
    "    f_i1 = xdata[:, 1]\n",
    "    f_i2 = xdata[:, 2]\n",
    "    w_ad = xdata[:, 3]\n",
    "    \n",
    "    mu_Ge = f_e * K_e * tau_e * Q_e\n",
    "    sig_Ge = np.sqrt(0.5 * f_e * K_e * tau_e) * Q_e\n",
    "    \n",
    "    mu_Gi1 = f_i1 * K_i1 * tau_i1 * Q_i1\n",
    "    sig_Gi1 = np.sqrt(0.5 * f_i1 * K_i1 * tau_i1) * Q_i1\n",
    "    \n",
    "    mu_Gi2 = f_i2 * K_i2 * tau_i2 * Q_i2\n",
    "    sig_Gi1 = np.sqrt(0.5 * f_i2 * K_i2 * tau_i2) * Q_i2\n",
    "    \n",
    "    mu_G = mu_Ge + mu_Gi1 + mu_Gi2 + g_L\n",
    "    tau_eff = C_m / mu_G\n",
    "    \n",
    "    mu_V = (mu_Ge * E_e + mu_Gi1 * E_i1 + mu_Gi2 * E_i2 + g_L * E_L - w_ad) / mu_G\n",
    "    \n",
    "    U_e = Q_e / mu_G * (E_e - mu_V)\n",
    "    U_i1 = Q_i1 / mu_G * (E_i1 - mu_V)\n",
    "    U_i2 = Q_i2 / mu_G * (E_i2 - mu_V)\n",
    "    \n",
    "    sig_V = np.sqrt(\n",
    "        K_e * f_e * (U_e * tau_e)**2 / (2 * (tau_eff + tau_e)) +\n",
    "        K_i1 * f_i1 * (U_i1 * tau_i1)**2 / (2 * (tau_eff + tau_i1)) +\n",
    "        K_i2 * f_i2 * (U_i2 * tau_i2)**2 / (2 * (tau_eff + tau_i2))\n",
    "    )\n",
    "    \n",
    "    tau_V = (\n",
    "        (K_e * f_e * (U_e * tau_e)**2 +\n",
    "         K_i1 * f_i1 * (U_i1 * tau_i1)**2 +\n",
    "         K_i2 * f_i2 * (U_i2 * tau_i2)**2\n",
    "        ) / \n",
    "        (K_e * f_e * (U_e * tau_e)**2 / (tau_eff + tau_e) +\n",
    "         K_i1 * f_i1 * (U_i1 * tau_i1)**2 / (tau_eff + tau_i1) +\n",
    "         K_i2 * f_i2 * (U_i2 * tau_i2)**2 / (tau_eff + tau_i2)\n",
    "        )\n",
    "    )\n",
    "\n",
    "    return mu_V, sig_V, tau_V"
   ]
  },
  {
   "cell_type": "code",
   "execution_count": 9,
   "metadata": {},
   "outputs": [],
   "source": [
    "def output_rate(params):\n",
    "    f_out = erfc((eff_thresh(mu_V, sig_V, tauN_V, params) - mu_V) / (np.sqrt(2) * sig_V)) / (2 * tau_V)\n",
    "    return f_out"
   ]
  },
  {
   "cell_type": "code",
   "execution_count": 10,
   "metadata": {},
   "outputs": [],
   "source": [
    "def eff_thresh_estimate(ydata):\n",
    "    Veff_thresh = mu_V + np.sqrt(2) * sig_V * erfcinv(ydata * 2 * tau_V)\n",
    "    return Veff_thresh"
   ]
  },
  {
   "cell_type": "code",
   "execution_count": 11,
   "metadata": {},
   "outputs": [],
   "source": [
    "def res_func(params):\n",
    "    vthresh = eff_thresh(mu_V, sig_V, tauN_V, params)\n",
    "    res = np.mean((Veff_thresh - vthresh)**2)\n",
    "    return res"
   ]
  },
  {
   "cell_type": "code",
   "execution_count": 12,
   "metadata": {},
   "outputs": [],
   "source": [
    "def res2_func(params):\n",
    "    res2 = np.mean((output_rate(params) - ydata2)**2)\n",
    "    return res2"
   ]
  },
  {
   "cell_type": "code",
   "execution_count": 13,
   "metadata": {},
   "outputs": [],
   "source": [
    "# set globals\n",
    "mu_V, sig_V, tau_V = mu_sig_tau_func(xdata0)\n",
    "tauN_V = tau_V * g_L / C_m"
   ]
  },
  {
   "cell_type": "code",
   "execution_count": 14,
   "metadata": {
    "scrolled": true
   },
   "outputs": [
    {
     "data": {
      "text/plain": [
       "array([-0.07059964, -0.063523  , -0.05977302, -0.05673716, -0.05413129,\n",
       "       -0.05183326, -0.0497739 , -0.04790819, -0.04620424, -0.05061258,\n",
       "       -0.05060666, -0.05031859, -0.04988699, -0.04937025, -0.04881838,\n",
       "       -0.04832413, -0.04794484, -0.04800534,        -inf,        -inf,\n",
       "              -inf,        -inf,        -inf,        -inf,        -inf,\n",
       "              -inf,        -inf,        -inf,        -inf,        -inf,\n",
       "              -inf,        -inf,        -inf,        -inf,        -inf,\n",
       "              -inf,        -inf,        -inf,        -inf,        -inf,\n",
       "              -inf, -0.06984229, -0.06376792, -0.06007193, -0.05706395,\n",
       "       -0.05447446, -0.05218584, -0.05013113, -0.04826661, -0.04656126,\n",
       "       -0.05069502, -0.05084705, -0.05043504, -0.05008606, -0.04959529,\n",
       "       -0.04906264, -0.04858734, -0.04814511, -0.04788599, -0.04874419,\n",
       "              -inf,        -inf,        -inf,        -inf,        -inf,\n",
       "              -inf,        -inf,        -inf,        -inf,        -inf,\n",
       "              -inf,        -inf,        -inf,        -inf,        -inf,\n",
       "              -inf,        -inf,        -inf,        -inf,        -inf,\n",
       "              -inf,        -inf, -0.06975129, -0.0640188 , -0.06037301,\n",
       "       -0.05739228, -0.05481947, -0.052541  , -0.05049192, -0.04862969,\n",
       "       -0.04692409, -0.05112737, -0.05011331, -0.05053434, -0.0502064 ,\n",
       "       -0.04976079, -0.04932592, -0.04887484, -0.04835272, -0.04798046,\n",
       "       -0.04791804,        -inf,        -inf,        -inf,        -inf,\n",
       "              -inf,        -inf,        -inf,        -inf,        -inf,\n",
       "              -inf,        -inf,        -inf,        -inf,        -inf,\n",
       "              -inf,        -inf,        -inf,        -inf,        -inf,\n",
       "              -inf,        -inf,        -inf, -0.06977101, -0.06427312,\n",
       "       -0.06067452, -0.05772053, -0.05516467, -0.052897  , -0.05085438,\n",
       "       -0.04899539, -0.04729058, -0.04571781, -0.05017316, -0.05050261,\n",
       "       -0.05018335, -0.04991325, -0.0495362 , -0.0491274 , -0.04859515,\n",
       "       -0.04819234, -0.04793869, -0.04832135,        -inf,        -inf,\n",
       "              -inf,        -inf,        -inf,        -inf,        -inf,\n",
       "              -inf,        -inf,        -inf,        -inf,        -inf,\n",
       "              -inf,        -inf,        -inf,        -inf,        -inf,\n",
       "              -inf,        -inf,        -inf,        -inf, -0.06984559,\n",
       "       -0.06452901, -0.06097514, -0.05804745, -0.05550878, -0.05325246,\n",
       "       -0.05121704, -0.04936213, -0.04765899, -0.04608601, -0.04462629,\n",
       "       -0.05048398, -0.05022068, -0.05002585, -0.04970053, -0.04931081,\n",
       "       -0.0488101 , -0.04839938, -0.0480691 , -0.0479359 , -0.05007607,\n",
       "              -inf,        -inf,        -inf,        -inf,        -inf,\n",
       "              -inf,        -inf,        -inf,        -inf,        -inf,\n",
       "              -inf,        -inf,        -inf,        -inf,        -inf,\n",
       "              -inf,        -inf,        -inf,        -inf,        -inf,\n",
       "       -0.06995276, -0.06478502, -0.06127385, -0.05837207, -0.05585079,\n",
       "       -0.0536063 , -0.05157871, -0.04972861, -0.04802794, -0.04645556,\n",
       "       -0.04499497, -0.05010133, -0.05011895, -0.05007697, -0.04979929,\n",
       "       -0.04945376, -0.04905432, -0.04860242, -0.04822233, -0.04794724,\n",
       "       -0.04815994,        -inf,        -inf,        -inf,        -inf,\n",
       "              -inf,        -inf,        -inf,        -inf,        -inf,\n",
       "              -inf,        -inf,        -inf,        -inf,        -inf,\n",
       "              -inf,        -inf,        -inf,        -inf,        -inf,\n",
       "              -inf, -0.07008091, -0.06504005, -0.06156983, -0.05869364,\n",
       "       -0.05618989, -0.05395765, -0.05193844, -0.05009381, -0.0483963 ,\n",
       "       -0.04682525, -0.04536453, -0.05013004, -0.05012033, -0.05015332,\n",
       "       -0.04988143, -0.04963128, -0.04921774, -0.04882461, -0.04841593,\n",
       "       -0.04813626, -0.04800113, -0.04846914,        -inf,        -inf,\n",
       "              -inf,        -inf,        -inf,        -inf,        -inf,\n",
       "              -inf,        -inf,        -inf,        -inf,        -inf,\n",
       "              -inf,        -inf,        -inf,        -inf,        -inf,\n",
       "              -inf,        -inf, -0.07022307, -0.06529326, -0.06186249,\n",
       "       -0.05901155, -0.05652548, -0.05430582, -0.0522955 , -0.05045689,\n",
       "       -0.04876316, -0.04719411, -0.0457339 , -0.05053555, -0.05010602,\n",
       "       -0.050195  , -0.04995888, -0.04970185, -0.04940299, -0.04904354,\n",
       "       -0.04860318, -0.04830064, -0.04799145, -0.04808069,        -inf,\n",
       "              -inf,        -inf,        -inf,        -inf,        -inf,\n",
       "              -inf,        -inf,        -inf,        -inf,        -inf,\n",
       "              -inf,        -inf,        -inf,        -inf,        -inf,\n",
       "              -inf,        -inf,        -inf, -0.07037472, -0.065544  ,\n",
       "       -0.06215136, -0.05932537, -0.05685705, -0.05465029, -0.05264927,\n",
       "       -0.05081719, -0.0491278 , -0.04756131, -0.04610223, -0.0447381 ,\n",
       "       -0.05035028, -0.05007127, -0.05006922, -0.04980984, -0.04949709,\n",
       "       -0.04924867, -0.04878952, -0.04848408, -0.04813734, -0.04801527,\n",
       "       -0.04819026,        -inf,        -inf,        -inf,        -inf,\n",
       "              -inf,        -inf,        -inf,        -inf,        -inf,\n",
       "              -inf,        -inf,        -inf,        -inf,        -inf,\n",
       "              -inf,        -inf,        -inf,        -inf, -0.07053276,\n",
       "       -0.06579176, -0.06243608, -0.05963475, -0.05718425, -0.05499063,\n",
       "       -0.05299928, -0.05117418, -0.04948961, -0.0479262 , -0.04646879,\n",
       "       -0.04510514, -0.04382519, -0.05001529, -0.05015632, -0.04989685,\n",
       "       -0.04958331, -0.04931266, -0.04901104, -0.04860399, -0.04828326,\n",
       "       -0.04807795, -0.04796265, -0.04893859,        -inf,        -inf,\n",
       "              -inf,        -inf,        -inf,        -inf,        -inf,\n",
       "              -inf,        -inf,        -inf,        -inf,        -inf,\n",
       "              -inf,        -inf,        -inf,        -inf,        -inf,\n",
       "       -0.07069495, -0.06603618, -0.06271639, -0.05993944, -0.05750678,\n",
       "       -0.05532651, -0.05334515, -0.05152741, -0.04984811, -0.04828826,\n",
       "       -0.04683299, -0.04547032, -0.04419038, -0.04999415, -0.04999368,\n",
       "       -0.04990708, -0.0497003 , -0.04950349, -0.04913652, -0.04873196,\n",
       "       -0.04847085, -0.04816934, -0.04798913, -0.04825081,        -inf,\n",
       "              -inf,        -inf,        -inf,        -inf,        -inf,\n",
       "              -inf,        -inf,        -inf,        -inf,        -inf,\n",
       "              -inf,        -inf,        -inf,        -inf,        -inf,\n",
       "              -inf, -0.07085969, -0.06627696, -0.0629921 , -0.06023923,\n",
       "       -0.05782443, -0.05565769, -0.05368659, -0.05187657, -0.05020292,\n",
       "       -0.04864704, -0.04719435, -0.04583312, -0.04455364, -0.05038071,\n",
       "       -0.05005238, -0.05004258, -0.04975689, -0.04957414, -0.04922322,\n",
       "       -0.04896963, -0.0486363 , -0.04833409, -0.04811037, -0.0480198 ,\n",
       "       -0.04857405,        -inf,        -inf,        -inf,        -inf,\n",
       "              -inf,        -inf,        -inf,        -inf,        -inf,\n",
       "              -inf,        -inf,        -inf,        -inf,        -inf,\n",
       "              -inf,        -inf, -0.07102573, -0.0665139 , -0.06326308,\n",
       "       -0.06053402, -0.05813705, -0.05598398, -0.05402339, -0.05222137,\n",
       "       -0.05055372, -0.04900219, -0.04755249, -0.04619309, -0.04491448,\n",
       "       -0.05051733, -0.04997526, -0.0499089 , -0.04991173, -0.04971313,\n",
       "       -0.04940622, -0.04912583, -0.04875742, -0.04847069, -0.04827877,\n",
       "       -0.04806605, -0.04817308,        -inf,        -inf,        -inf,\n",
       "              -inf,        -inf,        -inf,        -inf,        -inf,\n",
       "              -inf,        -inf,        -inf,        -inf,        -inf,\n",
       "              -inf,        -inf,        -inf, -0.07119217, -0.06674685,\n",
       "       -0.06352924, -0.0608237 , -0.05844454, -0.05630524, -0.05435535,\n",
       "       -0.05256162, -0.05090028, -0.04935344, -0.04790707, -0.04654988,\n",
       "       -0.04527252, -0.05048616, -0.05005099, -0.04996712, -0.04994103,\n",
       "       -0.04971919, -0.04947917, -0.04923652, -0.04891349, -0.0486552 ,\n",
       "       -0.04838905, -0.0481268 , -0.04804653, -0.04837145,        -inf,\n",
       "              -inf,        -inf,        -inf,        -inf,        -inf,\n",
       "              -inf,        -inf,        -inf,        -inf,        -inf,\n",
       "              -inf,        -inf,        -inf,        -inf, -0.07135828,\n",
       "       -0.06697571, -0.06379053, -0.06110824, -0.05874683, -0.05662138,\n",
       "       -0.05468238, -0.05289715, -0.0512424 , -0.04970055, -0.04825785,\n",
       "       -0.04690319, -0.04562744, -0.04442289, -0.04328301, -0.05000423,\n",
       "       -0.0498564 , -0.04977964, -0.04957887, -0.04933931, -0.04908775,\n",
       "       -0.04884329, -0.04854511, -0.04820101, -0.04807009, -0.04808413,\n",
       "       -0.05084967,        -inf,        -inf,        -inf,        -inf,\n",
       "              -inf,        -inf,        -inf,        -inf,        -inf,\n",
       "              -inf,        -inf,        -inf,        -inf,        -inf,\n",
       "       -0.07152352, -0.06720041, -0.06404694, -0.06138761, -0.05904389,\n",
       "       -0.05693236, -0.05500437, -0.05322786, -0.05157993, -0.05004335,\n",
       "       -0.04860461, -0.04725281, -0.04597896, -0.04477553, -0.04363607,\n",
       "       -0.05028471, -0.04997013, -0.04983024, -0.04964177, -0.04946781,\n",
       "       -0.04924014, -0.04898181, -0.0486561 , -0.04839526, -0.04817343,\n",
       "       -0.04802928, -0.04843914,        -inf,        -inf,        -inf,\n",
       "              -inf,        -inf,        -inf,        -inf,        -inf,\n",
       "              -inf,        -inf,        -inf,        -inf,        -inf,\n",
       "              -inf, -0.07168747, -0.06742093, -0.06429847, -0.06166183,\n",
       "       -0.05933571, -0.05723813, -0.05532128, -0.05355366, -0.05191278,\n",
       "       -0.05038171, -0.04894719, -0.04759852, -0.04632688, -0.04512484,\n",
       "       -0.0439861 , -0.05011246, -0.04997319, -0.0498568 , -0.04976155,\n",
       "       -0.04956825, -0.04943419, -0.04907869, -0.04879103, -0.04851879,\n",
       "       -0.04824879, -0.04810951, -0.0481859 , -0.0486536 ,        -inf,\n",
       "              -inf,        -inf,        -inf,        -inf,        -inf,\n",
       "              -inf,        -inf,        -inf,        -inf,        -inf,\n",
       "              -inf,        -inf, -0.07184979, -0.06763725, -0.06454516,\n",
       "       -0.06193092, -0.05962231, -0.05753869, -0.05563308, -0.0538745 ,\n",
       "       -0.05224086, -0.05071552, -0.04928547, -0.04794018, -0.04667101,\n",
       "       -0.04547065, -0.0443329 , -0.05021745, -0.04978976, -0.04990871,\n",
       "       -0.0497318 , -0.04966062, -0.04956003, -0.04921518, -0.04893705,\n",
       "       -0.04865175, -0.04833936, -0.04822546, -0.04811335, -0.04821968,\n",
       "              -inf,        -inf,        -inf,        -inf,        -inf,\n",
       "              -inf,        -inf,        -inf,        -inf,        -inf,\n",
       "              -inf,        -inf,        -inf, -0.07201022, -0.06784939,\n",
       "       -0.06478704, -0.06219493, -0.05990371, -0.05783407, -0.05593977,\n",
       "       -0.05419036, -0.05256413, -0.05104472, -0.04961935, -0.04827768,\n",
       "       -0.04701121, -0.04581278, -0.04467628, -0.05015314, -0.04958458,\n",
       "       -0.05005905, -0.04979465, -0.04981772, -0.04959582, -0.04935162,\n",
       "       -0.04898652, -0.048777  , -0.04849996, -0.04836757, -0.04808622,\n",
       "       -0.04807981, -0.04866992,        -inf,        -inf,        -inf,\n",
       "              -inf,        -inf,        -inf,        -inf,        -inf,\n",
       "              -inf,        -inf,        -inf,        -inf, -0.07216858,\n",
       "       -0.06805738, -0.06502417, -0.06245391, -0.06017997, -0.05812429,\n",
       "       -0.05624136, -0.05450123, -0.05288255, -0.05136925, -0.04994876,\n",
       "       -0.04861093, -0.04734739, -0.04615111, -0.04501609, -0.04393716,\n",
       "       -0.0495146 , -0.04954679, -0.04996428, -0.04983741, -0.04962896,\n",
       "       -0.04948054, -0.04909078, -0.04886544, -0.04865365, -0.0484142 ,\n",
       "       -0.04821861, -0.04807034, -0.04817528, -0.05072066,        -inf,\n",
       "              -inf,        -inf,        -inf,        -inf,        -inf,\n",
       "              -inf,        -inf,        -inf,        -inf,        -inf,\n",
       "       -0.07232471, -0.06826126, -0.06525662, -0.06270793, -0.06045115,\n",
       "       -0.05840939, -0.05653787, -0.05480712, -0.05319612, -0.05168908,\n",
       "       -0.05027365, -0.04893985, -0.04767945, -0.04648554, -0.04535222,\n",
       "       -0.0442744 , -0.04324763, -0.04988662, -0.04985005, -0.04986002,\n",
       "       -0.04969373, -0.04950845, -0.04926864, -0.04900249, -0.048764  ,\n",
       "       -0.04851667, -0.04833858, -0.04817113, -0.04814073, -0.0485647 ,\n",
       "              -inf,        -inf,        -inf,        -inf,        -inf,\n",
       "              -inf,        -inf,        -inf,        -inf,        -inf,\n",
       "              -inf])"
      ]
     },
     "execution_count": 14,
     "metadata": {},
     "output_type": "execute_result"
    }
   ],
   "source": [
    "Veff_thresh = eff_thresh_estimate(ydata0)\n",
    "Veff_thresh"
   ]
  },
  {
   "cell_type": "code",
   "execution_count": 18,
   "metadata": {},
   "outputs": [],
   "source": [
    "selnan = np.where(np.isnan(Veff_thresh))\n",
    "data2 = np.delete(data0, selnan, axis=0)\n",
    "\n",
    "selnan = np.where(np.isinf(Veff_thresh))\n",
    "data2 = np.delete(data2, selnan, axis=0)"
   ]
  },
  {
   "cell_type": "code",
   "execution_count": 19,
   "metadata": {},
   "outputs": [],
   "source": [
    "xdata2 = data2[:, 0:4]\n",
    "ydata2 = data2[:, 4]"
   ]
  },
  {
   "cell_type": "code",
   "execution_count": 20,
   "metadata": {},
   "outputs": [
    {
     "data": {
      "text/plain": [
       "array([-0.07059964, -0.063523  , -0.05977302, -0.05673716, -0.05413129,\n",
       "       -0.05183326, -0.0497739 , -0.04790819, -0.04620424, -0.05061258,\n",
       "       -0.05060666, -0.05031859, -0.04988699, -0.04937025, -0.04881838,\n",
       "       -0.04832413, -0.04794484, -0.04800534, -0.06984229, -0.06376792,\n",
       "       -0.06007193, -0.05706395, -0.05447446, -0.05218584, -0.05013113,\n",
       "       -0.04826661, -0.04656126, -0.05069502, -0.05084705, -0.05043504,\n",
       "       -0.05008606, -0.04959529, -0.04906264, -0.04858734, -0.04814511,\n",
       "       -0.04788599, -0.04874419, -0.06975129, -0.0640188 , -0.06037301,\n",
       "       -0.05739228, -0.05481947, -0.052541  , -0.05049192, -0.04862969,\n",
       "       -0.04692409, -0.05112737, -0.05011331, -0.05053434, -0.0502064 ,\n",
       "       -0.04976079, -0.04932592, -0.04887484, -0.04835272, -0.04798046,\n",
       "       -0.04791804, -0.06977101, -0.06427312, -0.06067452, -0.05772053,\n",
       "       -0.05516467, -0.052897  , -0.05085438, -0.04899539, -0.04729058,\n",
       "       -0.04571781, -0.05017316, -0.05050261, -0.05018335, -0.04991325,\n",
       "       -0.0495362 , -0.0491274 , -0.04859515, -0.04819234, -0.04793869,\n",
       "       -0.04832135, -0.06984559, -0.06452901, -0.06097514, -0.05804745,\n",
       "       -0.05550878, -0.05325246, -0.05121704, -0.04936213, -0.04765899,\n",
       "       -0.04608601, -0.04462629, -0.05048398, -0.05022068, -0.05002585,\n",
       "       -0.04970053, -0.04931081, -0.0488101 , -0.04839938, -0.0480691 ,\n",
       "       -0.0479359 , -0.05007607, -0.06995276, -0.06478502, -0.06127385,\n",
       "       -0.05837207, -0.05585079, -0.0536063 , -0.05157871, -0.04972861,\n",
       "       -0.04802794, -0.04645556, -0.04499497, -0.05010133, -0.05011895,\n",
       "       -0.05007697, -0.04979929, -0.04945376, -0.04905432, -0.04860242,\n",
       "       -0.04822233, -0.04794724, -0.04815994, -0.07008091, -0.06504005,\n",
       "       -0.06156983, -0.05869364, -0.05618989, -0.05395765, -0.05193844,\n",
       "       -0.05009381, -0.0483963 , -0.04682525, -0.04536453, -0.05013004,\n",
       "       -0.05012033, -0.05015332, -0.04988143, -0.04963128, -0.04921774,\n",
       "       -0.04882461, -0.04841593, -0.04813626, -0.04800113, -0.04846914,\n",
       "       -0.07022307, -0.06529326, -0.06186249, -0.05901155, -0.05652548,\n",
       "       -0.05430582, -0.0522955 , -0.05045689, -0.04876316, -0.04719411,\n",
       "       -0.0457339 , -0.05053555, -0.05010602, -0.050195  , -0.04995888,\n",
       "       -0.04970185, -0.04940299, -0.04904354, -0.04860318, -0.04830064,\n",
       "       -0.04799145, -0.04808069, -0.07037472, -0.065544  , -0.06215136,\n",
       "       -0.05932537, -0.05685705, -0.05465029, -0.05264927, -0.05081719,\n",
       "       -0.0491278 , -0.04756131, -0.04610223, -0.0447381 , -0.05035028,\n",
       "       -0.05007127, -0.05006922, -0.04980984, -0.04949709, -0.04924867,\n",
       "       -0.04878952, -0.04848408, -0.04813734, -0.04801527, -0.04819026,\n",
       "       -0.07053276, -0.06579176, -0.06243608, -0.05963475, -0.05718425,\n",
       "       -0.05499063, -0.05299928, -0.05117418, -0.04948961, -0.0479262 ,\n",
       "       -0.04646879, -0.04510514, -0.04382519, -0.05001529, -0.05015632,\n",
       "       -0.04989685, -0.04958331, -0.04931266, -0.04901104, -0.04860399,\n",
       "       -0.04828326, -0.04807795, -0.04796265, -0.04893859, -0.07069495,\n",
       "       -0.06603618, -0.06271639, -0.05993944, -0.05750678, -0.05532651,\n",
       "       -0.05334515, -0.05152741, -0.04984811, -0.04828826, -0.04683299,\n",
       "       -0.04547032, -0.04419038, -0.04999415, -0.04999368, -0.04990708,\n",
       "       -0.0497003 , -0.04950349, -0.04913652, -0.04873196, -0.04847085,\n",
       "       -0.04816934, -0.04798913, -0.04825081, -0.07085969, -0.06627696,\n",
       "       -0.0629921 , -0.06023923, -0.05782443, -0.05565769, -0.05368659,\n",
       "       -0.05187657, -0.05020292, -0.04864704, -0.04719435, -0.04583312,\n",
       "       -0.04455364, -0.05038071, -0.05005238, -0.05004258, -0.04975689,\n",
       "       -0.04957414, -0.04922322, -0.04896963, -0.0486363 , -0.04833409,\n",
       "       -0.04811037, -0.0480198 , -0.04857405, -0.07102573, -0.0665139 ,\n",
       "       -0.06326308, -0.06053402, -0.05813705, -0.05598398, -0.05402339,\n",
       "       -0.05222137, -0.05055372, -0.04900219, -0.04755249, -0.04619309,\n",
       "       -0.04491448, -0.05051733, -0.04997526, -0.0499089 , -0.04991173,\n",
       "       -0.04971313, -0.04940622, -0.04912583, -0.04875742, -0.04847069,\n",
       "       -0.04827877, -0.04806605, -0.04817308, -0.07119217, -0.06674685,\n",
       "       -0.06352924, -0.0608237 , -0.05844454, -0.05630524, -0.05435535,\n",
       "       -0.05256162, -0.05090028, -0.04935344, -0.04790707, -0.04654988,\n",
       "       -0.04527252, -0.05048616, -0.05005099, -0.04996712, -0.04994103,\n",
       "       -0.04971919, -0.04947917, -0.04923652, -0.04891349, -0.0486552 ,\n",
       "       -0.04838905, -0.0481268 , -0.04804653, -0.04837145, -0.07135828,\n",
       "       -0.06697571, -0.06379053, -0.06110824, -0.05874683, -0.05662138,\n",
       "       -0.05468238, -0.05289715, -0.0512424 , -0.04970055, -0.04825785,\n",
       "       -0.04690319, -0.04562744, -0.04442289, -0.04328301, -0.05000423,\n",
       "       -0.0498564 , -0.04977964, -0.04957887, -0.04933931, -0.04908775,\n",
       "       -0.04884329, -0.04854511, -0.04820101, -0.04807009, -0.04808413,\n",
       "       -0.05084967, -0.07152352, -0.06720041, -0.06404694, -0.06138761,\n",
       "       -0.05904389, -0.05693236, -0.05500437, -0.05322786, -0.05157993,\n",
       "       -0.05004335, -0.04860461, -0.04725281, -0.04597896, -0.04477553,\n",
       "       -0.04363607, -0.05028471, -0.04997013, -0.04983024, -0.04964177,\n",
       "       -0.04946781, -0.04924014, -0.04898181, -0.0486561 , -0.04839526,\n",
       "       -0.04817343, -0.04802928, -0.04843914, -0.07168747, -0.06742093,\n",
       "       -0.06429847, -0.06166183, -0.05933571, -0.05723813, -0.05532128,\n",
       "       -0.05355366, -0.05191278, -0.05038171, -0.04894719, -0.04759852,\n",
       "       -0.04632688, -0.04512484, -0.0439861 , -0.05011246, -0.04997319,\n",
       "       -0.0498568 , -0.04976155, -0.04956825, -0.04943419, -0.04907869,\n",
       "       -0.04879103, -0.04851879, -0.04824879, -0.04810951, -0.0481859 ,\n",
       "       -0.0486536 , -0.07184979, -0.06763725, -0.06454516, -0.06193092,\n",
       "       -0.05962231, -0.05753869, -0.05563308, -0.0538745 , -0.05224086,\n",
       "       -0.05071552, -0.04928547, -0.04794018, -0.04667101, -0.04547065,\n",
       "       -0.0443329 , -0.05021745, -0.04978976, -0.04990871, -0.0497318 ,\n",
       "       -0.04966062, -0.04956003, -0.04921518, -0.04893705, -0.04865175,\n",
       "       -0.04833936, -0.04822546, -0.04811335, -0.04821968, -0.07201022,\n",
       "       -0.06784939, -0.06478704, -0.06219493, -0.05990371, -0.05783407,\n",
       "       -0.05593977, -0.05419036, -0.05256413, -0.05104472, -0.04961935,\n",
       "       -0.04827768, -0.04701121, -0.04581278, -0.04467628, -0.05015314,\n",
       "       -0.04958458, -0.05005905, -0.04979465, -0.04981772, -0.04959582,\n",
       "       -0.04935162, -0.04898652, -0.048777  , -0.04849996, -0.04836757,\n",
       "       -0.04808622, -0.04807981, -0.04866992, -0.07216858, -0.06805738,\n",
       "       -0.06502417, -0.06245391, -0.06017997, -0.05812429, -0.05624136,\n",
       "       -0.05450123, -0.05288255, -0.05136925, -0.04994876, -0.04861093,\n",
       "       -0.04734739, -0.04615111, -0.04501609, -0.04393716, -0.0495146 ,\n",
       "       -0.04954679, -0.04996428, -0.04983741, -0.04962896, -0.04948054,\n",
       "       -0.04909078, -0.04886544, -0.04865365, -0.0484142 , -0.04821861,\n",
       "       -0.04807034, -0.04817528, -0.05072066, -0.07232471, -0.06826126,\n",
       "       -0.06525662, -0.06270793, -0.06045115, -0.05840939, -0.05653787,\n",
       "       -0.05480712, -0.05319612, -0.05168908, -0.05027365, -0.04893985,\n",
       "       -0.04767945, -0.04648554, -0.04535222, -0.0442744 , -0.04324763,\n",
       "       -0.04988662, -0.04985005, -0.04986002, -0.04969373, -0.04950845,\n",
       "       -0.04926864, -0.04900249, -0.048764  , -0.04851667, -0.04833858,\n",
       "       -0.04817113, -0.04814073, -0.0485647 ])"
      ]
     },
     "execution_count": 20,
     "metadata": {},
     "output_type": "execute_result"
    }
   ],
   "source": [
    "# reset globals\n",
    "mu_V, sig_V, tau_V = mu_sig_tau_func(xdata2)\n",
    "tauN_V = tau_V * g_L / C_m\n",
    "Veff_thresh = eff_thresh_estimate(ydata2)\n",
    "Veff_thresh"
   ]
  },
  {
   "cell_type": "code",
   "execution_count": 21,
   "metadata": {},
   "outputs": [],
   "source": [
    "params_init = np.ones(10) * 1e-3\n",
    "#params_init[0] = Veff_thresh.mean()"
   ]
  },
  {
   "cell_type": "code",
   "execution_count": 22,
   "metadata": {},
   "outputs": [
    {
     "name": "stdout",
     "output_type": "stream",
     "text": [
      "Optimization terminated successfully.    (Exit mode 0)\n",
      "            Current function value: 2.0659038611088636e-06\n",
      "            Iterations: 74\n",
      "            Function evaluations: 907\n",
      "            Gradient evaluations: 74\n"
     ]
    }
   ],
   "source": [
    "fit = minimize(res_func, params_init, \n",
    "               method='SLSQP', options={'ftol': 1e-17, 'disp': True, 'maxiter':3000})"
   ]
  },
  {
   "cell_type": "code",
   "execution_count": 23,
   "metadata": {},
   "outputs": [
    {
     "data": {
      "text/plain": [
       "array([ 7.37469893e-02, -2.48481066e-03,  5.90565565e-01,  6.30976996e-02,\n",
       "        1.02802482e-05,  6.75653199e-01,  1.91807742e-02, -6.86230341e-03,\n",
       "       -4.73261252e-04,  1.71568181e-01])"
      ]
     },
     "execution_count": 23,
     "metadata": {},
     "output_type": "execute_result"
    }
   ],
   "source": [
    "fit['x']"
   ]
  },
  {
   "cell_type": "code",
   "execution_count": 24,
   "metadata": {},
   "outputs": [
    {
     "data": {
      "text/plain": [
       "26.85681382611659"
      ]
     },
     "execution_count": 24,
     "metadata": {},
     "output_type": "execute_result"
    }
   ],
   "source": [
    "params_init2 = fit['x']\n",
    "res2_func(params_init2)"
   ]
  },
  {
   "cell_type": "code",
   "execution_count": 25,
   "metadata": {},
   "outputs": [
    {
     "name": "stdout",
     "output_type": "stream",
     "text": [
      "Optimization terminated successfully.\n",
      "         Current function value: 1.976420\n",
      "         Iterations: 690\n",
      "         Function evaluations: 1033\n"
     ]
    }
   ],
   "source": [
    "fit2 = minimize(res2_func, params_init2, \n",
    "                method='nelder-mead', options={'disp': True, 'maxiter':10000})"
   ]
  },
  {
   "cell_type": "code",
   "execution_count": 26,
   "metadata": {},
   "outputs": [
    {
     "data": {
      "text/plain": [
       "array([ 4.94629972e-02, -2.01089333e-03,  5.63358778e-01,  6.89641764e-02,\n",
       "       -5.29502701e-06,  7.65033822e-01,  1.28431238e-02, -7.61864096e-03,\n",
       "       -8.37159405e-04,  1.94583339e-01])"
      ]
     },
     "execution_count": 26,
     "metadata": {},
     "output_type": "execute_result"
    }
   ],
   "source": [
    "fit2['x']"
   ]
  },
  {
   "cell_type": "code",
   "execution_count": 27,
   "metadata": {},
   "outputs": [
    {
     "data": {
      "text/plain": [
       "1.9764203499172295"
      ]
     },
     "execution_count": 27,
     "metadata": {},
     "output_type": "execute_result"
    }
   ],
   "source": [
    "params = fit2['x']\n",
    "res2_func(params)"
   ]
  },
  {
   "cell_type": "code",
   "execution_count": 28,
   "metadata": {},
   "outputs": [
    {
     "data": {
      "text/plain": [
       "0.7451313197533288"
      ]
     },
     "execution_count": 28,
     "metadata": {},
     "output_type": "execute_result"
    }
   ],
   "source": [
    "mean_error = np.mean(np.sqrt((data2[:, 4] - output_rate(params))**2))\n",
    "mean_error"
   ]
  },
  {
   "cell_type": "code",
   "execution_count": 23,
   "metadata": {},
   "outputs": [],
   "source": [
    "#np.savetxt('fit-na-fs-params.dat', params)"
   ]
  },
  {
   "cell_type": "code",
   "execution_count": 29,
   "metadata": {},
   "outputs": [],
   "source": [
    "import matplotlib.pyplot as plt\n",
    "import matplotlib.colors as mcolors\n",
    "import matplotlib.cm as cm"
   ]
  },
  {
   "cell_type": "code",
   "execution_count": 25,
   "metadata": {
    "scrolled": false
   },
   "outputs": [
    {
     "data": {
      "image/png": "[encoded data removed]",
      "text/plain": [
       "<Figure size 640x480 with 1 Axes>"
      ]
     },
     "metadata": {},
     "output_type": "display_data"
    }
   ],
   "source": [
    "fig, ax = plt.subplots()\n",
    "ax.set_title('Transfer function of FS cell')\n",
    "ax.set_ylabel('Output rate (Hz)')\n",
    "ax.set_xlabel('Excitatory input (Hz)')\n",
    "    \n",
    "inp_exc = data2[:, 0]\n",
    "out_rate = data2[:, 4]\n",
    "fit_rate = output_rate(params)\n",
    "ax.plot(inp_exc, out_rate, 'ro', label='data')\n",
    "ax.plot(inp_exc, fit_rate, 'k.', label='fit')\n",
    "\n",
    "ax.text(0.5, 0.95, f'dev: {mean_error:.2f} Hz', transform=ax.transAxes, ha='center')\n",
    "ax.legend();"
   ]
  },
  {
   "cell_type": "code",
   "execution_count": 103,
   "metadata": {},
   "outputs": [
    {
     "data": {
      "image/png": "[encoded data removed]",
      "text/plain": [
       "<Figure size 432x288 with 2 Axes>"
      ]
     },
     "metadata": {
      "needs_background": "light"
     },
     "output_type": "display_data"
    }
   ],
   "source": [
    "plt.rcParams.update({'font.size': 20})\n",
    "\n",
    "\n",
    "fig, ax = plt.subplots()\n",
    "ax.set_title('FS cell')\n",
    "ax.set_ylabel('Output rate (Hz)')\n",
    "ax.set_xlabel('Excitatory input (Hz)')\n",
    "    \n",
    "\n",
    "fs=[20,40,55,75,90,0]\n",
    "#fs=np.ones(9)\n",
    "#fs2=np.ones(11)*0.5\n",
    "\n",
    "normalize = mcolors.Normalize(vmin=0, vmax=90)\n",
    "colormap = cm.jet\n",
    "\n",
    "    \n",
    "inp_exc = data2[:, 0]\n",
    "out_rate = data2[:, 4]\n",
    "fit_rate = output_rate(params)\n",
    "\n",
    "ax.scatter(inp_exc[0:17], out_rate[0:17], color=colormap(normalize(fs[5])), s=100)\n",
    "ax.scatter(inp_exc[77:95], out_rate[77:95], color=colormap(normalize(fs[0])),s=100 )#'ro', label='data')\n",
    "ax.plot(inp_exc[0:17], fit_rate[0:17], 'k',  linewidth=3.0, label='fit')\n",
    "ax.plot(inp_exc[77:95], fit_rate[77:95], 'k',linewidth=3.0, label='fit')\n",
    "\n",
    "ax.scatter(inp_exc[165:183], out_rate[165:183], color=colormap(normalize(fs[1])),s=100)# 'ro')\n",
    "ax.plot(inp_exc[165:183], fit_rate[165:183], 'k',linewidth=3.0)\n",
    "\n",
    "\n",
    "ax.scatter(inp_exc[245:256], out_rate[245:256], color=colormap(normalize(fs[2])),s=100)# 'ro')\n",
    "ax.plot(inp_exc[245:256], fit_rate[245:256], 'k',linewidth=3.0)\n",
    "ax.scatter(inp_exc[350:361], out_rate[350:361], color=colormap(normalize(fs[3])),s=100)# 'ro')\n",
    "ax.plot(inp_exc[350:361], fit_rate[350:361], 'k',linewidth=3.0)\n",
    "ax.scatter(inp_exc[430:445], out_rate[430:445], color=colormap(normalize(fs[4])),s=100)#'ro')\n",
    "ax.plot(inp_exc[430:445], fit_rate[430:445], 'k',linewidth=3.0)\n",
    "\n",
    "'''\n",
    "#ax.plot(inp_exc[87:105], out_rate[87:105], 'ro')\n",
    "#ax.plot(inp_exc[87:105], fit_rate[87:105], '-k.')\n",
    "'''\n",
    "ax.set_xlim(1.7,5)\n",
    "\n",
    "scalarmappaple = cm.ScalarMappable(norm=normalize, cmap=colormap)\n",
    "scalarmappaple.set_array(fs)\n",
    "plt.colorbar(scalarmappaple, label='FS input (Hz)')\n",
    "\n",
    "\n",
    "#plt.rcParams.update({'font.size': 22})\n",
    "plt.rcParams['axes.linewidth'] = 3\n"
   ]
  },
  {
   "cell_type": "code",
   "execution_count": 102,
   "metadata": {},
   "outputs": [
    {
     "data": {
      "text/plain": [
       "20.000000001"
      ]
     },
     "execution_count": 102,
     "metadata": {},
     "output_type": "execute_result"
    }
   ],
   "source": [
    "data2[80,2]"
   ]
  },
  {
   "cell_type": "code",
   "execution_count": 26,
   "metadata": {
    "scrolled": false
   },
   "outputs": [
    {
     "data": {
      "image/png": "[encoded data removed]",
      "text/plain": [
       "<Figure size 640x480 with 1 Axes>"
      ]
     },
     "metadata": {},
     "output_type": "display_data"
    }
   ],
   "source": [
    "fig, ax = plt.subplots()\n",
    "ax.set_title('Transfer function of FS cell')\n",
    "ax.set_ylabel('Output rate (Hz)')\n",
    "ax.set_xlabel('Excitatory input (Hz)')\n",
    "\n",
    "inp_rej = data0[:, 0]\n",
    "out_rej = data0[:, 4]\n",
    "ax.plot(inp_rej, out_rej, 'o', color='lightgrey', label='rejected')\n",
    "    \n",
    "inp_exc = data2[:, 0]\n",
    "out_rate = data2[:, 4]\n",
    "fit_rate = output_rate(params)\n",
    "ax.plot(inp_exc, out_rate, 'ro', label='data')\n",
    "ax.plot(inp_exc, fit_rate, 'k.', label='fit')\n",
    "\n",
    "# reset globals\n",
    "mu_V, sig_V, tau_V = mu_sig_tau_func(xdata0)\n",
    "tauN_V = tau_V * g_L / C_m\n",
    "Veff_thresh = eff_thresh_estimate(ydata0)\n",
    "\n",
    "inp_exc = data0[:, 0]\n",
    "fit_rate = output_rate(params)\n",
    "ax.plot(inp_exc, fit_rate, 'k.')\n",
    "ax.legend();"
   ]
  },
  {
   "cell_type": "code",
   "execution_count": null,
   "metadata": {},
   "outputs": [],
   "source": []
  }
 ],
 "metadata": {
  "kernelspec": {
   "display_name": "Python 3",
   "language": "python",
   "name": "python3"
  },
  "language_info": {
   "codemirror_mode": {
    "name": "ipython",
    "version": 3
   },
   "file_extension": ".py",
   "mimetype": "text/x-python",
   "name": "python",
   "nbconvert_exporter": "python",
   "pygments_lexer": "ipython3",
   "version": "3.9.13"
  }
 },
 "nbformat": 4,
 "nbformat_minor": 5
}
