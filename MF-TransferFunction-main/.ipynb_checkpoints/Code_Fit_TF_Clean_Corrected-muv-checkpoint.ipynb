{
 "cells": [
  {
   "cell_type": "code",
   "execution_count": 1,
   "metadata": {},
   "outputs": [],
   "source": [
    "import matplotlib.pyplot as plt\n",
    "import numpy as np\n",
    "#import math as mt\n",
    "from mpmath import *\n",
    "from scipy.optimize import curve_fit, minimize\n",
    "import scipy.special as sp_spec"
   ]
  },
  {
   "cell_type": "markdown",
   "metadata": {},
   "source": [
    "# Fit of Transfer Function"
   ]
  },
  {
   "cell_type": "code",
   "execution_count": 241,
   "metadata": {},
   "outputs": [
    {
     "data": {
      "text/plain": [
       "\"\\ndef tauv(ne,ni):\\n    \\n    ne=ne+1e-9\\n    ni=ni+1e-9\\n    muge=Qe*ne*tause*Ke\\n    mugi=Qi*ni*tause*Ki\\n    #mug=muge+mugi+giz\\n    ui=0\\n    #ue=0\\n    ue=0.5*d_adap*ne**tau_adap/a_adap\\n    muve=((2*giz*Eiz+muge+mugi+b_adap)-np.sqrt((2*giz*Eiz+muge+mugi+b_adap)**2-4*giz*(giz*Eiz**2+muge*Ee+mugi*Ei-ue)))/(2*giz)\\n    muvi=((2*gizi*Eizi+muge+mugi)-np.sqrt((2*gizi*Eizi+muge+mugi)**2-4*gizi*(gizi*Eizi**2+muge*Ee+mugi*Ei-ui)))/(2*gizi)\\n\\n    \\n    ae=giz*(muve-Eiz)**2\\n    ai=gizi*(muvi-Eizi)**2\\n    be=Qe*(Ee-muve)\\n    bi=Qi*(Ei-muvi)\\n    ce=tause\\n    ci=tausi\\n    \\n    svv2=Ke*ne*(2*ae*be*ce**3/tauize**2+ce**3*be**2/(8*tauize)+be**2*ce**3/(8*tauize**2)) + Ki*ni*(2*ai*bi*ci**3/tauizi**2+ci**3*bi**2/(8*tauizi)+bi**2*ci**3/(8*tauizi**2))\\n    \\n    tauv=0.5*(Ke*ne*(be**2*ce**4/(2*np.pi*tauize**2))+Ki*ni*(bi**2*ci**4/(2*np.pi*tauizi**2)))/(svv2+1e-9)\\n    \\n    #print('tauv=',tauv)\\n    return tauv\\n    \\n\""
      ]
     },
     "execution_count": 241,
     "metadata": {},
     "output_type": "execute_result"
    }
   ],
   "source": [
    "gizi=0.04 \n",
    "giz=0.01\n",
    "Eiz=-65.\n",
    "Eizi=-60.\n",
    "Ee=0.0\n",
    "Ei=-80.0\n",
    "Qi=5.0\n",
    "Qe=1.5\n",
    "tauize=1\n",
    "tauizi=1\n",
    "tau_adap=1\n",
    "a_adap=1\n",
    "d_adap=15\n",
    "b_adap=0\n",
    "tause=5e-3\n",
    "tausi=5e-3\n",
    "Ke=8000*0.05\n",
    "Ki=2000*0.05\n",
    "ue=0\n",
    "\n",
    "\n",
    "\n",
    "def sv(ne,ni,ue,giz,Eiz):\n",
    "    muge=Qe*ne*tause*Ke\n",
    "    mugi=Qi*ni*tause*Ki\n",
    "\n",
    "    ui=0\n",
    "    #ue=0\n",
    "    #ue=ue\n",
    "    #ue=d_adap*ne*tau_adap/a_adap\n",
    "\n",
    "    muv=((2*giz*Eiz+muge+mugi+b_adap)-np.sqrt((2*giz*Eiz+muge+mugi+b_adap)**2-4*giz*(giz*Eiz**2+muge*Ee+mugi*Ei-ue)))/(2*giz)\n",
    "    #muvi=((2*gizi*Eizi+muge+mugi)-np.sqrt((2*gizi*Eizi+muge+mugi)**2-4*gizi*(gizi*Eizi**2+muge*Ee+mugi*Ei-ui)))/(2*gizi)\n",
    "\n",
    "\n",
    "    ae=giz*(muv-Eiz)**2\n",
    "    ai=giz*(muv-Eiz)**2\n",
    " \n",
    "    be=Qe*(Ee-muv)#/mug  Note that we are not using mug!!!\n",
    "    bi=Qi*(Ei-muv)#/mug\n",
    "    ce=tause\n",
    "    ci=tausi\n",
    "    \n",
    "    argsv=Ke*ne*(2*ae*be*ce**3/tauize**2+ce**3*be**2/(8*tauize)+be**2*ce**3/(8*tauize**2)) + Ki*ni*(2*ai*bi*ci**3/tauizi**2+ci**3*bi**2/(8*tauizi)   +bi**2*ci**3/(8*tauizi**2))\n",
    "\n",
    "    #if argsv>0:\n",
    "    sv=np.sqrt(Ke*ne*(2*ae*be*ce**3/tauize**2+ce**3*be**2/(8*tauize)+be**2*ce**3/(8*tauize**2)) + Ki*ni*(2*ai*bi*ci**3/tauizi**2+ci**3*bi**2/(8*tauizi)+bi**2*ci**3/(8*tauizi**2)))\n",
    "\n",
    "    #else:\n",
    "    #\tsv=1e-9\n",
    "    \n",
    "    #print('sv=',sv)\n",
    "    return sv\n",
    "   \n",
    "\n",
    "'''\n",
    "def sv(ne,ni):\n",
    "    muge=Qe*ne*tause*Ke\n",
    "    mugi=Qi*ni*tause*Ki\n",
    "    \n",
    "    ui=0\n",
    "    #ue=0\n",
    "    ue=0.5*d_adap*ne*tau_adap/a_adap    #   du/dt=(a*(b*v-u)) + nu*d /Tu\n",
    "   \n",
    "    muve=((2*giz*Eiz+muge+mugi+b_adap)-np.sqrt((2*giz*Eiz+muge+mugi+b_adap)**2-4*giz*(giz*Eiz**2+muge*Ee+mugi*Ei-ue)))/(2*giz)\n",
    "    muvi=((2*gizi*Eizi+muge+mugi)-np.sqrt((2*gizi*Eizi+muge+mugi)**2-4*gizi*(gizi*Eizi**2+muge*Ee+mugi*Ei-ui)))/(2*gizi)\n",
    "   \n",
    "    ae=giz*(muve-Eiz)**2\n",
    "    ai=gizi*(muvi-Eizi)**2\n",
    " \n",
    "    be=Qe*(Ee-muve)\n",
    "    bi=Qi*(Ei-muvi)\n",
    "    ce=tause\n",
    "    ci=tausi\n",
    "    \n",
    "    sv=np.sqrt(Ke*ne*(2*ae*be*ce**3/tauize**2+ce**3*be**2/(8*tauize)+be**2*ce**3/(8*tauize**2)) + Ki*ni*(2*ai*bi*ci**3/tauizi**2+ci**3*bi**2/(8*tauizi)+bi**2*ci**3/(8*tauizi**2)))\n",
    "    \n",
    "    #print('sv=',sv)\n",
    "    return sv\n",
    "    \n",
    "'''\n",
    "def tauv(ne,ni,ue,giz,Eiz):\n",
    "    \n",
    "    ne=ne+1e-9\n",
    "    ni=ni+1e-9\n",
    "    muge=Qe*ne*tause*Ke\n",
    "    mugi=Qi*ni*tause*Ki\n",
    "    ui=0\n",
    "    #ue=ue\n",
    "    #ue=d_adap*ne*tau_adap/a_adap\n",
    "    \n",
    "    muv=((2*giz*Eiz+muge+mugi+b_adap)-np.sqrt((2*giz*Eiz+muge+mugi+b_adap)**2-4*giz*(giz*Eiz**2+muge*Ee+mugi*Ei-ue)))/(2*giz)\n",
    "    #muvi=((2*gizi*Eizi+muge+mugi)-np.sqrt((2*gizi*Eizi+muge+mugi)**2-4*gizi*(gizi*Eizi**2+muge*Ee+mugi*Ei-ui)))/(2*gizi)\n",
    "    #print('muv',muv)\n",
    "\n",
    "    ae=giz*(muv-Eiz)**2\n",
    "    ai=giz*(muv-Eiz)**2\n",
    "    be=Qe*(Ee-muv)\n",
    "    bi=Qi*(Ei-muv)\n",
    "    ce=tause\n",
    "    ci=tausi\n",
    "  \n",
    "    \n",
    "    argv=Ke*ne*(2*ae*be*ce**3/tauize**2+ce**3*be**2/(8*tauize)+be**2*ce**3/(8*tauize**2)) + Ki*ni*(2*ai*bi*ci**3/tauizi**2+ci**3*bi**2/(8*tauizi)+bi**2*ci**3/(8*tauizi**2))\n",
    "    #if argv >0:\n",
    "    svv2=Ke*ne*(2*ae*be*ce**3/tauize**2+ce**3*be**2/(8*tauize)+be**2*ce**3/(8*tauize**2)) + Ki*ni*(2*ai*bi*ci**3/tauizi**2+ci**3*bi**2/(8*tauizi)+bi**2*ci**3/(8*tauizi**2))\n",
    "    \n",
    "    tauv=0.5*(Ke*ne*(be**2*ce**4/(2*np.pi*tauize**2))+Ki*ni*(bi**2*ci**4/(2*np.pi*tauizi**2)))/(svv2+1e-9)\n",
    "        \n",
    "    #else:\n",
    "    #  tauv=1\n",
    "      #print('tauv=',tauv)\n",
    "    return tauv\n",
    "\n",
    "\n",
    "'''\n",
    "def tauv(ne,ni):\n",
    "    \n",
    "    ne=ne+1e-9\n",
    "    ni=ni+1e-9\n",
    "    muge=Qe*ne*tause*Ke\n",
    "    mugi=Qi*ni*tause*Ki\n",
    "    #mug=muge+mugi+giz\n",
    "    ui=0\n",
    "    #ue=0\n",
    "    ue=0.5*d_adap*ne**tau_adap/a_adap\n",
    "    muve=((2*giz*Eiz+muge+mugi+b_adap)-np.sqrt((2*giz*Eiz+muge+mugi+b_adap)**2-4*giz*(giz*Eiz**2+muge*Ee+mugi*Ei-ue)))/(2*giz)\n",
    "    muvi=((2*gizi*Eizi+muge+mugi)-np.sqrt((2*gizi*Eizi+muge+mugi)**2-4*gizi*(gizi*Eizi**2+muge*Ee+mugi*Ei-ui)))/(2*gizi)\n",
    "\n",
    "    \n",
    "    ae=giz*(muve-Eiz)**2\n",
    "    ai=gizi*(muvi-Eizi)**2\n",
    "    be=Qe*(Ee-muve)\n",
    "    bi=Qi*(Ei-muvi)\n",
    "    ce=tause\n",
    "    ci=tausi\n",
    "    \n",
    "    svv2=Ke*ne*(2*ae*be*ce**3/tauize**2+ce**3*be**2/(8*tauize)+be**2*ce**3/(8*tauize**2)) + Ki*ni*(2*ai*bi*ci**3/tauizi**2+ci**3*bi**2/(8*tauizi)+bi**2*ci**3/(8*tauizi**2))\n",
    "    \n",
    "    tauv=0.5*(Ke*ne*(be**2*ce**4/(2*np.pi*tauize**2))+Ki*ni*(bi**2*ci**4/(2*np.pi*tauizi**2)))/(svv2+1e-9)\n",
    "    \n",
    "    #print('tauv=',tauv)\n",
    "    return tauv\n",
    "    \n",
    "'''"
   ]
  },
  {
   "cell_type": "code",
   "execution_count": 242,
   "metadata": {},
   "outputs": [],
   "source": [
    "\n",
    "def TF(nu,Po,Pmuv,Psv,Ptauv,Pvsv,Pvtauv,Psvtauv,Pvv,Ptt,Pss,giz,Eiz,ue):\n",
    "\n",
    "    ne,ni=nu\n",
    "    muge=Qe*ne*tause*Ke\n",
    "    mugi=Qi*ni*tause*Ki\n",
    "    mug=muge+mugi+giz\n",
    "    ui=0\n",
    "\n",
    "    #ue=d_adap*ne*tau_adap/a_adap  #u_st=(b*nu+a*b*v)*tau/a#du/dt=(a*(b*v-u))/Tu\n",
    "    \n",
    "    muvo=-30#5\n",
    "    dmuvo=20#25\n",
    "    svo=0.7\n",
    "    dsvo=1\n",
    "    tauvo=0.0015\n",
    "    dtauvo=0.003\n",
    "    \n",
    "    muv=((2*giz*Eiz+muge+mugi+b_adap)-np.sqrt((2*giz*Eiz+muge+mugi+b_adap)**2-4*giz*(giz*Eiz**2+muge*Ee+mugi*Ei-ue)))/(2*giz)\n",
    "    \n",
    "    Pscale=1.\n",
    "    noutf=Pscale*(sp_spec.erfc(((Po + Pmuv*(muv-muvo)/dmuvo + Psv*(sv(ne,ni,ue,giz,Eiz)-svo)/dsvo + Ptauv*(tauv(ne,ni,ue,giz,Eiz)-tauvo)/dtauvo \\\n",
    "            +Pvsv*(muv-muvo)*(sv(ne,ni,ue,giz,Eiz)-svo)/(dsvo*dmuvo) + Pvtauv*(muv-muvo)*(tauv(ne,ni,ue,giz,Eiz)-tauvo)/(dtauvo*dmuvo)\\\n",
    "            +Psvtauv*(sv(ne,ni,ue,giz,Eiz)-svo)*(tauv(ne,ni,ue,giz,Eiz)-tauvo)/(dtauvo*dsvo) + Pvv*(muv-muvo)**2/(dmuvo*dmuvo) \\\n",
    "            +Ptt*(tauv(ne,ni,ue,giz,Eiz)-tauvo)**2/(dtauvo*dtauvo) + Pss*(sv(ne,ni,ue,giz,Eiz)-svo)**2/(dsvo*dsvo))-muv)/(np.sqrt(2)*sv(ne,ni,ue,giz,Eiz)) ))/(2*tauv(ne,ni,ue,giz,Eiz))\n",
    "\n",
    "        \n",
    "    return noutf"
   ]
  },
  {
   "cell_type": "code",
   "execution_count": 243,
   "metadata": {},
   "outputs": [
    {
     "data": {
      "text/plain": [
       "0.001588104888718358"
      ]
     },
     "execution_count": 243,
     "metadata": {},
     "output_type": "execute_result"
    }
   ],
   "source": [
    "tauv(3,6,15,giz,Eiz)"
   ]
  },
  {
   "cell_type": "code",
   "execution_count": 244,
   "metadata": {},
   "outputs": [],
   "source": [
    "def Tresh_func(nu,Po,Pmuv,Psv,Ptauv,Pvsv,Pvtauv,Psvtauv,Pvv,Ptt,Pss,giz,Eiz,ue):\n",
    "    ne,ni=nu\n",
    "\n",
    "    muge=Qe*ne*tause*Ke\n",
    "    mugi=Qi*ni*tause*Ki\n",
    "    mug=muge+mugi+giz\n",
    "    ui=0\n",
    "   \n",
    "    #ue=d_adap*ne*tau_adap/a_adap #u_st=(b*nu+a*b*v)*tau/a#du/dt=(a*(b*v-u))/Tu\n",
    "\n",
    "    \n",
    "    muvo=-30\n",
    "    dmuvo=20#20#25\n",
    "    svo=0.7\n",
    "    dsvo=1\n",
    "    tauvo=0.0015\n",
    "    dtauvo=0.003\n",
    "    \n",
    "    muv=((2*giz*Eiz+muge+mugi+b_adap)-np.sqrt((2*giz*Eiz+muge+mugi+b_adap)**2-4*giz*(giz*Eiz**2+muge*Ee+mugi*Ei-ue)))/(2*giz)\n",
    "\n",
    "\n",
    "    Vteff2=(Po + Pmuv*(muv-muvo)/dmuvo + Psv*(sv(ne,ni,ue,giz,Eiz)-svo)/dsvo + Ptauv*(tauv(ne,ni,ue,giz,Eiz)-tauvo)/dtauvo \\\n",
    "            +Pvsv*(muv-muvo)*(sv(ne,ni,ue,giz,Eiz)-svo)/(dsvo*dmuvo) + Pvtauv*(muv-muvo)*(tauv(ne,ni,ue,giz,Eiz)-tauvo)/(dtauvo*dmuvo)\\\n",
    "            +Psvtauv*(sv(ne,ni,ue,giz,Eiz)-svo)*(tauv(ne,ni,ue,giz,Eiz)-tauvo)/(dtauvo*dsvo) + Pvv*(muv-muvo)**2/(dmuvo*dmuvo) \\\n",
    "            +Ptt*(tauv(ne,ni,ue,giz,Eiz)-tauvo)**2/(dtauvo*dtauvo) + Pss*(sv(ne,ni,ue,giz,Eiz)-svo)**2/(dsvo*dsvo))\n",
    "    \n",
    "    return Vteff2"
   ]
  },
  {
   "cell_type": "code",
   "execution_count": 245,
   "metadata": {},
   "outputs": [],
   "source": [
    "def effective_Vthre(ne,ni,Fout,giz,Eiz,ue):\n",
    "    \n",
    "    Y=Fout\n",
    "    muge=Qe*ne*tause*Ke\n",
    "    mugi=Qi*ni*tause*Ki\n",
    "    mug=muge+mugi+giz\n",
    "    ui=0\n",
    "    \n",
    "    #ue=d_adap*ne*tau_adap/a_adap#u_st=(b*nu+a*b*v)*tau/a#du/dt=(a*(b*v-u))/Tu\n",
    "    \n",
    "    \n",
    "    muv=((2*giz*Eiz+muge+mugi+b_adap)-np.sqrt((2*giz*Eiz+muge+mugi+b_adap)**2-4*giz*(giz*Eiz**2+muge*Ee+mugi*Ei-ue)))/(2*giz)\n",
    "\n",
    "    \n",
    "    Vthre_eff = muv+np.sqrt(2)*sv(ne,ni,ue,giz,Eiz)*sp_spec.erfcinv(\\\n",
    "                    Y*2.*tauv(ne,ni,ue,giz,Eiz)) # effective threshold\n",
    "    return Vthre_eff\n"
   ]
  },
  {
   "cell_type": "code",
   "execution_count": 246,
   "metadata": {},
   "outputs": [],
   "source": [
    "\n",
    "#P=np.ones(10)*1e-1#np.array([-2.19840587e+05, -8.63334589e+04,  1.07805996e+05,  1.06227624e+05,2.39650033e+04,  2.35507810e+04, -1.02726656e+03, -8.33094033e+03,5.19218481e+03,  3.81483637e+01])#np.ones(10)*1e-3\n",
    "#Fout=noutexpe2\n",
    "\n",
    "def Res(P):\n",
    "    \n",
    "    if sec_ord==True:\n",
    "        Po,Pmuv,Psv,Ptauv,Pvsv,Pvtauv,Psvtauv,Pvv,Ptt,Pss=P\n",
    "    else:\n",
    "        Po,Pmuv,Psv,Ptauv=P\n",
    "        Pvsv,Pvtauv,Psvtauv,Pvv,Ptt,Pss=np.zeros(6)\n",
    "        \n",
    "   # print(P)\n",
    "    \n",
    "    Vthre_eff=effective_Vthre(nue2,nui2,Fout,giz,Eiz,adapexpe2)\n",
    "    vthre=Tresh_func((nue2,nui2),Po,Pmuv,Psv,Ptauv,Pvsv,Pvtauv,Psvtauv,Pvv,Ptt,Pss,giz,Eiz,adapexpe2)\n",
    "    \n",
    "    res=np.mean((Vthre_eff-vthre)**2)\n",
    "    \n",
    "    return res"
   ]
  },
  {
   "cell_type": "code",
   "execution_count": 247,
   "metadata": {},
   "outputs": [],
   "source": [
    "def Res2(P):\n",
    "    \n",
    " #   Po,Pmuv,Psv,Ptauv,Pvsv,Pvtauv,Psvtauv,Pvv,Ptt,Pss=P\n",
    "    #print(P)\n",
    "    if sec_ord==True:\n",
    "        Po,Pmuv,Psv,Ptauv,Pvsv,Pvtauv,Psvtauv,Pvv,Ptt,Pss=P\n",
    "    else:\n",
    "        Po,Pmuv,Psv,Ptauv=P\n",
    "        Pvsv,Pvtauv,Psvtauv,Pvv,Ptt,Pss=np.zeros(6)\n",
    " \n",
    "    \n",
    "    res=np.mean((TF((nue2,nui2),Po,Pmuv,Psv,Ptauv,Pvsv,Pvtauv,Psvtauv,Pvv,Ptt,Pss,giz,Eiz,adapexpe2) - Fout)**2)\n",
    "    \n",
    "    return res"
   ]
  },
  {
   "cell_type": "code",
   "execution_count": 248,
   "metadata": {},
   "outputs": [],
   "source": [
    "\n",
    "def Resin(P):\n",
    "    \n",
    "    #Po,Pmuv,Psv,Ptauv,Pvsv,Pvtauv,Psvtauv,Pvv,Ptt,Pss=P\n",
    "   # print(P)\n",
    "    if sec_ord==True:\n",
    "        Po,Pmuv,Psv,Ptauv,Pvsv,Pvtauv,Psvtauv,Pvv,Ptt,Pss=P\n",
    "    else:\n",
    "        Po,Pmuv,Psv,Ptauv=P\n",
    "        Pvsv,Pvtauv,Psvtauv,Pvv,Ptt,Pss=np.zeros(6)\n",
    " \n",
    "    \n",
    "    Vthre_eff=effective_Vthre(nue2,nui2,Fout,gizi,Eizi,0)\n",
    "    vthre=Tresh_func((nue2,nui2),Po,Pmuv,Psv,Ptauv,Pvsv,Pvtauv,Psvtauv,Pvv,Ptt,Pss,gizi,Eizi,0)\n",
    "    \n",
    "    res=np.mean((Vthre_eff-vthre)**2)\n",
    "    \n",
    "    return res\n",
    "\n",
    "def Res2in(P):\n",
    "    \n",
    "    #Po,Pmuv,Psv,Ptauv,Pvsv,Pvtauv,Psvtauv,Pvv,Ptt,Pss=P\n",
    "    #print(P)\n",
    "    if sec_ord==True:\n",
    "        Po,Pmuv,Psv,Ptauv,Pvsv,Pvtauv,Psvtauv,Pvv,Ptt,Pss=P\n",
    "    else:\n",
    "        Po,Pmuv,Psv,Ptauv=P\n",
    "        Pvsv,Pvtauv,Psvtauv,Pvv,Ptt,Pss=np.zeros(6)\n",
    " \n",
    "    \n",
    "    res=np.mean((TF((nue2,nui2),Po,Pmuv,Psv,Ptauv,Pvsv,Pvtauv,Psvtauv,Pvv,Ptt,Pss,gizi,Eizi,0) - Fout)**2)\n",
    "    \n",
    "    return res"
   ]
  },
  {
   "cell_type": "markdown",
   "metadata": {},
   "source": [
    "## Fit for the Excitatory neuron"
   ]
  },
  {
   "cell_type": "code",
   "execution_count": 322,
   "metadata": {},
   "outputs": [],
   "source": [
    "############################### Fit for the excitatory neuron\n",
    "\n",
    "# Define the nue, nui arrays according to the single neuron simulation (pairs of values used)\n",
    "\n",
    "Npts=1  #Resolution of the measured TF\n",
    "Npts2=1\n",
    "nue=np.arange(0.0000002,60, Npts)\n",
    "nui=np.arange(0.0000002,60, Npts2)\n",
    "#noute=np.arange(0.1,201, Npts)\n",
    "\n",
    "dim=len(nue)*len(nui)\n",
    "\n",
    "    \n",
    "nue2=np.ones(dim)        \n",
    "#nui2=np.ones(dim)\n",
    "counter=0        \n",
    "for i in nue:\n",
    "    for j in range(0,len(nui)):  \n",
    "        nue2[counter]=i\n",
    "        \n",
    "        counter=counter+1\n",
    "        \n",
    "nui2=[]        \n",
    "for j in range(0,len(nue)):\n",
    "    nui2=np.concatenate((nui2, nui), axis=None)\n",
    "\n",
    "# Load the simulations from the single neuron\n",
    "noutexpe=np.load('ExpTF_exc_Nstp-60_Nstp2-60_new-params_new-mean_threshold-30_28.npy')#('ExpTF_exc_Nstp-60_Nstp2-60_new-params_new-mean_threshold-30_28.npy')#('ExpTF_exc_Nstp-60_Nstp2-60_new-params_new-mean_threshold-32.npy')#('ExpTF_exc_Nstp-60_Nstp2-60_new-params_noad_0-60_new-mean_t.npy')#('ExpTF_exc_Nstp-60_Nstp2-60_new-params_noad_0-100_new-mean.npy')#('ExpTF_exc_Nstp-100_Nstp2-100_new-params_0-100.npy')#('ExpTF_exc_Nstp100_new_noad_0-200.npy')\n",
    "adapexpe=np.load('ExpTF_Adapt_Nstp-60_Nstp2-60_new-params_new-mean_threshold-30_28.npy')#('ExpTF_Adapt_Nstp-60_Nstp2-60_new-params_new-mean_threshold-30_28.npy')#('ExpTF_Adapt_Nstp-60_Nstp2-60_new-params_new-mean_threshold-32.npy')#('ExpTF_Adapt_Nstp-60_Nstp2-60_new-params_noad_0-60_new-mean_t.npy')#('ExpTF_exc_Nstp-60_Nstp2-60_new-params_noad_0-100_new-mean.npy')#('ExpTF_exc_Nstp-100_Nstp2-100_new-params_0-100.npy')#('ExpTF_exc_Nstp100_new_noad_0-200.npy')\n",
    "\n",
    "\n",
    "# Re-write the output of the simulation as an array for the pairs (nue,nui)\n",
    "noutexpe2=np.ones(dim)\n",
    "adapexpe2=np.ones(dim)\n",
    "\n",
    "counter=0\n",
    "\n",
    "for j in range(0,len(nue)):\n",
    "    for i in range(0,len(nui)):\n",
    "        noutexpe2[counter]=noutexpe[j,i]\n",
    "        adapexpe2[counter]=adapexpe[j,i]\n",
    "        counter=counter+1\n",
    "\n",
    "\n",
    "#noutexpe"
   ]
  },
  {
   "cell_type": "code",
   "execution_count": 323,
   "metadata": {},
   "outputs": [
    {
     "data": {
      "text/plain": [
       "array([ 0.        ,  0.35714286,  2.5       ,  5.35714286,  8.57142857,\n",
       "       10.71428571, 13.21428571, 15.35714286, 17.85714286, 20.        ,\n",
       "       21.78571429, 23.92857143, 26.42857143, 28.92857143, 30.        ,\n",
       "       32.85714286, 35.        , 36.42857143, 38.92857143, 40.35714286,\n",
       "       42.5       , 44.28571429, 45.71428571, 48.21428571, 48.92857143,\n",
       "       50.71428571, 53.21428571, 54.64285714, 56.07142857, 57.5       ,\n",
       "       58.92857143, 61.07142857, 62.5       , 63.57142857, 65.35714286,\n",
       "       67.5       , 67.85714286, 69.28571429, 70.71428571, 72.5       ,\n",
       "       73.57142857, 74.28571429, 76.07142857, 77.85714286, 78.21428571,\n",
       "       80.        , 81.07142857, 81.78571429, 82.85714286, 83.57142857,\n",
       "       85.35714286, 86.78571429, 87.14285714, 88.57142857, 90.        ,\n",
       "       90.71428571, 91.42857143, 92.5       , 93.92857143, 94.28571429])"
      ]
     },
     "execution_count": 323,
     "metadata": {},
     "output_type": "execute_result"
    }
   ],
   "source": [
    "noutexpe[:,1]"
   ]
  },
  {
   "cell_type": "code",
   "execution_count": 324,
   "metadata": {},
   "outputs": [
    {
     "name": "stderr",
     "output_type": "stream",
     "text": [
      "/home/ftesler/anaconda3/lib/python3.7/site-packages/ipykernel_launcher.py:32: RuntimeWarning: invalid value encountered in sqrt\n",
      "/home/ftesler/anaconda3/lib/python3.7/site-packages/ipykernel_launcher.py:47: RuntimeWarning: invalid value encountered in sqrt\n",
      "/home/ftesler/anaconda3/lib/python3.7/site-packages/ipykernel_launcher.py:92: RuntimeWarning: invalid value encountered in sqrt\n"
     ]
    }
   ],
   "source": [
    "# Remove all the problematic points (nans, etc.) to make the fit\n",
    "\n",
    "svout=sv(nue2,nui2,adapexpe2,giz,Eiz)\n",
    "tvout=tauv(nue2,nui2,adapexpe2,giz,Eiz)\n",
    "\n",
    "#svout=sv(nue2,nui2)\n",
    "#tvout=tauv(nue2,nui2)\n",
    "\n",
    "jjindex=np.where(np.isnan(svout))\n",
    "\n",
    "\n",
    "nue2=np.delete(nue2,jjindex)\n",
    "nui2=np.delete(nui2,jjindex)\n",
    "noutexpe2=np.delete(noutexpe2,jjindex)\n",
    "adapexpe2=np.delete(adapexpe2,jjindex)\n",
    "\n",
    "tvout=tauv(nue2,nui2,adapexpe2,giz,Eiz)\n",
    "\n",
    "jjindex=np.where(np.isnan(tvout))\n",
    "\n",
    "nue2=np.delete(nue2,jjindex)\n",
    "nui2=np.delete(nui2,jjindex)\n",
    "noutexpe2=np.delete(noutexpe2,jjindex)\n",
    "adapexpe2=np.delete(adapexpe2,jjindex)\n",
    "\n",
    "jjindex=np.where(noutexpe2>0.)\n",
    "\n",
    "nue2=nue2[jjindex]#,jjindex)\n",
    "nui2=nui2[jjindex]\n",
    "noutexpe2=noutexpe2[jjindex]\n",
    "adapexpe2=adapexpe2[jjindex]\n",
    "\n",
    "ijn=np.where(noutexpe2>10)\n",
    "nue2=np.delete(nue2,ijn)\n",
    "nui2=np.delete(nui2,ijn)\n",
    "noutexpe2=np.delete(noutexpe2,ijn)\n",
    "adapexpe2=np.delete(adapexpe2,ijn)\n",
    "\n",
    "\n",
    "Fout=noutexpe2\n",
    "Vthre_eff=effective_Vthre(nue2,nui2,Fout,giz,Eiz,adapexpe2)\n",
    "ijn=np.where(np.isinf(Vthre_eff))\n",
    "nue2=np.delete(nue2,ijn)\n",
    "nui2=np.delete(nui2,ijn)\n",
    "noutexpe2=np.delete(noutexpe2,ijn)\n",
    "adapexpe2=np.delete(adapexpe2,ijn)"
   ]
  },
  {
   "cell_type": "code",
   "execution_count": 325,
   "metadata": {},
   "outputs": [
    {
     "name": "stdout",
     "output_type": "stream",
     "text": [
      "Optimization terminated successfully.    (Exit mode 0)\n",
      "            Current function value: 0.10392337021656281\n",
      "            Iterations: 103\n",
      "            Function evaluations: 1318\n",
      "            Gradient evaluations: 103\n"
     ]
    }
   ],
   "source": [
    "# Fit on Veff_threshold\n",
    "\n",
    "\n",
    "Fout=noutexpe2\n",
    "sec_ord=True\n",
    "if sec_ord==True:\n",
    "    P=np.ones(10)*1e-3#random.random_sample(10)-2.5#ones(10)*3e-1\n",
    "else:\n",
    "    P=np.ones(4)*1e-3\n",
    "    \n",
    "P[0]=-30#Vthre_eff.mean()\n",
    "\n",
    "plsq = minimize(Res, P, method='SLSQP',options={'ftol': 1e-17, 'disp': True, 'maxiter':400})"
   ]
  },
  {
   "cell_type": "code",
   "execution_count": 326,
   "metadata": {},
   "outputs": [
    {
     "data": {
      "text/plain": [
       "     fun: 0.10392337021656281\n",
       "     jac: array([ 0.00000000e+00,  1.86264515e-09,  8.38190317e-09, -2.79396772e-09,\n",
       "        1.86264515e-09, -1.86264515e-09,  4.65661287e-09,  4.65661287e-09,\n",
       "       -2.79396772e-09,  0.00000000e+00])\n",
       " message: 'Optimization terminated successfully.'\n",
       "    nfev: 1318\n",
       "     nit: 103\n",
       "    njev: 103\n",
       "  status: 0\n",
       " success: True\n",
       "       x: array([-27.37756094,  17.23566865,  -0.14542541, -19.57595898,\n",
       "        -5.56121005,  26.39391226,  36.19936695,  -5.06047919,\n",
       "        15.51128266,   0.24665258])"
      ]
     },
     "execution_count": 326,
     "metadata": {},
     "output_type": "execute_result"
    }
   ],
   "source": [
    "plsq"
   ]
  },
  {
   "cell_type": "code",
   "execution_count": 327,
   "metadata": {},
   "outputs": [],
   "source": [
    "Pn=plsq.x"
   ]
  },
  {
   "cell_type": "code",
   "execution_count": 328,
   "metadata": {},
   "outputs": [
    {
     "name": "stdout",
     "output_type": "stream",
     "text": [
      "666.9167019730711\n"
     ]
    }
   ],
   "source": [
    "res=Res2(Pn)\n",
    "print(res)"
   ]
  },
  {
   "cell_type": "code",
   "execution_count": 329,
   "metadata": {},
   "outputs": [
    {
     "name": "stdout",
     "output_type": "stream",
     "text": [
      "Optimization terminated successfully.\n",
      "         Current function value: 0.972865\n",
      "         Iterations: 2616\n",
      "         Function evaluations: 3726\n"
     ]
    }
   ],
   "source": [
    "# Fit on TF\n",
    "\n",
    "\n",
    "plsq2 = minimize(Res2, Pn,method='nelder-mead', options={'xtol': 1e-5, 'disp': True, 'maxiter':10000}) #method='SLSQP',options={'ftol': 1e-17, 'disp': True, 'maxiter':400})# method='TNC' )#'nelder-mead', options={'xtol': 1e-5, 'disp': True, 'maxiter':10000})"
   ]
  },
  {
   "cell_type": "code",
   "execution_count": 330,
   "metadata": {},
   "outputs": [
    {
     "data": {
      "text/plain": [
       " final_simplex: (array([[-28.13738716,  21.70804201,   1.41181758,  15.44807369,\n",
       "         -5.89416531,  42.39081412, -13.1133698 ,   6.18873371,\n",
       "         87.24423999,   0.15888759],\n",
       "       [-28.13738711,  21.70804222,   1.41181753,  15.44807229,\n",
       "         -5.89416549,  42.39081428, -13.11336716,   6.18873317,\n",
       "         87.24423675,   0.15888757],\n",
       "       [-28.13738697,  21.70804115,   1.41181731,  15.4480685 ,\n",
       "         -5.89416469,  42.39081439, -13.11336572,   6.18873316,\n",
       "         87.2442336 ,   0.15888766],\n",
       "       [-28.13738701,  21.70804092,   1.4118174 ,  15.44807124,\n",
       "         -5.89416453,  42.39081684, -13.113369  ,   6.18873525,\n",
       "         87.24423806,   0.15888764],\n",
       "       [-28.13738711,  21.70804156,   1.41181746,  15.44807213,\n",
       "         -5.89416442,  42.39080994, -13.11336744,   6.1887329 ,\n",
       "         87.24423309,   0.15888765],\n",
       "       [-28.13738712,  21.70804178,   1.41181755,  15.44807457,\n",
       "         -5.89416428,  42.39081284, -13.11337014,   6.18873464,\n",
       "         87.24423707,   0.15888763],\n",
       "       [-28.13738709,  21.70804156,   1.41181746,  15.448072  ,\n",
       "         -5.89416445,  42.39081273, -13.113367  ,   6.18873381,\n",
       "         87.24423392,   0.15888766],\n",
       "       [-28.13738712,  21.70804139,   1.41181749,  15.44807205,\n",
       "         -5.89416519,  42.39082359, -13.11337263,   6.1887365 ,\n",
       "         87.24424839,   0.15888765],\n",
       "       [-28.13738693,  21.70804046,   1.41181722,  15.44806639,\n",
       "         -5.89416519,  42.39081843, -13.11336418,   6.18873417,\n",
       "         87.24423426,   0.15888763],\n",
       "       [-28.13738703,  21.70804081,   1.41181724,  15.44806679,\n",
       "         -5.89416483,  42.39081807, -13.11336429,   6.18873397,\n",
       "         87.24423427,   0.15888769],\n",
       "       [-28.13738716,  21.70804187,   1.41181757,  15.44807425,\n",
       "         -5.89416504,  42.39081899, -13.11337238,   6.18873575,\n",
       "         87.24424462,   0.15888759]]), array([0.97286534, 0.97286534, 0.97286534, 0.97286534, 0.97286534,\n",
       "       0.97286534, 0.97286534, 0.97286534, 0.97286534, 0.97286534,\n",
       "       0.97286534]))\n",
       "           fun: 0.9728653366447467\n",
       "       message: 'Optimization terminated successfully.'\n",
       "          nfev: 3726\n",
       "           nit: 2616\n",
       "        status: 0\n",
       "       success: True\n",
       "             x: array([-28.13738716,  21.70804201,   1.41181758,  15.44807369,\n",
       "        -5.89416531,  42.39081412, -13.1133698 ,   6.18873371,\n",
       "        87.24423999,   0.15888759])"
      ]
     },
     "execution_count": 330,
     "metadata": {},
     "output_type": "execute_result"
    }
   ],
   "source": [
    "plsq2"
   ]
  },
  {
   "cell_type": "code",
   "execution_count": 331,
   "metadata": {},
   "outputs": [],
   "source": [
    "Pn2=plsq2.x"
   ]
  },
  {
   "cell_type": "code",
   "execution_count": 332,
   "metadata": {},
   "outputs": [
    {
     "name": "stdout",
     "output_type": "stream",
     "text": [
      "[-28.13738716  21.70804201   1.41181758  15.44807369  -5.89416531\n",
      "  42.39081412 -13.1133698    6.18873371  87.24423999   0.15888759]\n"
     ]
    }
   ],
   "source": [
    "# Parameters to use for the transfer function\n",
    "\n",
    "print(Pn2)"
   ]
  },
  {
   "cell_type": "code",
   "execution_count": 333,
   "metadata": {},
   "outputs": [],
   "source": [
    "Name2='RS_fit_new_thr30-28_3.txt'\n",
    "f1 = open(Name2, 'w')\n",
    "for i in range (0,len(Pn2)):\n",
    "    f1.write(str(Pn2[i]) + \"\\n\")\n",
    "    \n",
    "f1.close()"
   ]
  },
  {
   "cell_type": "markdown",
   "metadata": {},
   "source": [
    "## Fit for the Inhibitory neuron"
   ]
  },
  {
   "cell_type": "code",
   "execution_count": 312,
   "metadata": {},
   "outputs": [],
   "source": [
    "############# Fit for the inhibitory neuron\n",
    "\n",
    "Npts=1  #Resolution of the measured TF\n",
    "Npts2=1\n",
    "nue=np.arange(0.0000002,60, Npts)\n",
    "nui=np.arange(0.0000002,60, Npts2)\n",
    "#noute=np.arange(0.1,201, Npts)\n",
    "\n",
    "dim=len(nue)*len(nui)\n",
    "\n",
    "    \n",
    "nue2=np.ones(dim)        \n",
    "counter=0        \n",
    "for i in nue:\n",
    "    for j in range(0,len(nui)):  \n",
    "        nue2[counter]=i\n",
    "        counter=counter+1\n",
    "        \n",
    "nui2=nui        \n",
    "for j in range(0,len(nue)-1):\n",
    "    nui2=np.concatenate((nui2, nui), axis=None)\n",
    "\n",
    "noutexpe=np.load('ExpTF_inh_Nstp-60_Nstp2-60_new-params_new-mean_threshold-30_28.npy')#('ExpTF_inh_Nstp-60_Nstp2-60_new-params_new-mean_threshold-30_28.npy')#('ExpTF_inh_Nstp-60_Nstp2-60_new-params_new-mean_threshold-32.npy')#('ExpTF_inh_Nstp-60_Nstp2-60_new-params_noad_0-60_new-mean_t.npy')\n",
    "\n",
    "noutexpe2=np.ones(dim)\n",
    "adapexpe2=np.zeros(dim)\n",
    "counter=0\n",
    "\n",
    "for j in range(0,len(nue)):\n",
    "    for i in range(0,len(nui)):\n",
    "        noutexpe2[counter]=noutexpe[j,i]\n",
    "        #adapexpe2[counter]=adapexpe[j,i]\n",
    "        counter=counter+1\n",
    "\n",
    "\n",
    "#noutexpe"
   ]
  },
  {
   "cell_type": "code",
   "execution_count": 313,
   "metadata": {},
   "outputs": [
    {
     "name": "stderr",
     "output_type": "stream",
     "text": [
      "/home/ftesler/anaconda3/lib/python3.7/site-packages/ipykernel_launcher.py:32: RuntimeWarning: invalid value encountered in sqrt\n",
      "/home/ftesler/anaconda3/lib/python3.7/site-packages/ipykernel_launcher.py:47: RuntimeWarning: invalid value encountered in sqrt\n",
      "/home/ftesler/anaconda3/lib/python3.7/site-packages/ipykernel_launcher.py:92: RuntimeWarning: invalid value encountered in sqrt\n"
     ]
    }
   ],
   "source": [
    "# Remove all the problematic points (nans, etc.) to make the fit\n",
    "\n",
    "\n",
    "svout=sv(nue2,nui2,0,gizi,Eizi)\n",
    "tvout=tauv(nue2,nui2,0,gizi,Eizi)\n",
    "\n",
    "\n",
    "jjindex=np.where(np.isnan(svout))\n",
    "\n",
    "\n",
    "nue2=np.delete(nue2,jjindex)\n",
    "nui2=np.delete(nui2,jjindex)\n",
    "noutexpe2=np.delete(noutexpe2,jjindex)\n",
    "\n",
    "tvout=tauv(nue2,nui2,0,gizi,Eizi)\n",
    "\n",
    "jjindex=np.where(np.isnan(tvout))\n",
    "\n",
    "nue2=np.delete(nue2,jjindex)\n",
    "nui2=np.delete(nui2,jjindex)\n",
    "noutexpe2=np.delete(noutexpe2,jjindex)\n",
    "\n",
    "\n",
    "jjindex=np.where(noutexpe2>0.)\n",
    "\n",
    "nue2=nue2[jjindex]\n",
    "nui2=nui2[jjindex]\n",
    "noutexpe2=noutexpe2[jjindex]\n",
    "\n",
    "\n",
    "Fout=noutexpe2\n",
    "Vthre_eff=effective_Vthre(nue2,nui2,Fout,gizi,Eizi,0)\n",
    "ijn=np.where(np.isinf(Vthre_eff))\n",
    "nue2=np.delete(nue2,ijn)\n",
    "nui2=np.delete(nui2,ijn)\n",
    "noutexpe2=np.delete(noutexpe2,ijn)\n",
    "ijn=np.where(noutexpe2>20)\n",
    "nue2=np.delete(nue2,ijn)\n",
    "nui2=np.delete(nui2,ijn)\n",
    "noutexpe2=np.delete(noutexpe2,ijn)\n",
    "\n",
    "Fout=noutexpe2"
   ]
  },
  {
   "cell_type": "code",
   "execution_count": 314,
   "metadata": {},
   "outputs": [
    {
     "name": "stdout",
     "output_type": "stream",
     "text": [
      "Optimization terminated successfully.    (Exit mode 0)\n",
      "            Current function value: 0.12763744598124613\n",
      "            Iterations: 106\n",
      "            Function evaluations: 1367\n",
      "            Gradient evaluations: 106\n"
     ]
    }
   ],
   "source": [
    "# Fit on Veff_threshold\n",
    "\n",
    "\n",
    "Fout=noutexpe2\n",
    "\n",
    "#P=np.ones(10)*3e-1\n",
    "if sec_ord==True:\n",
    "    P=np.ones(10)*1e-3#np.random.random_sample(10)-0.5#np.ones(10)*3e-1##ones(10)*3e-1\n",
    "else:\n",
    "    P=np.ones(4)*1e-3\n",
    "\n",
    "P[0]=-30\n",
    "\n",
    "plsq = minimize(Resin, P, method='SLSQP',options={'ftol': 1e-17, 'disp': True, 'maxiter':400})\n"
   ]
  },
  {
   "cell_type": "code",
   "execution_count": 315,
   "metadata": {},
   "outputs": [
    {
     "name": "stdout",
     "output_type": "stream",
     "text": [
      "7.87410332763811\n"
     ]
    }
   ],
   "source": [
    "#plsq\n",
    "\n",
    "Pn=plsq.x\n",
    "\n",
    "res=Res2in(Pn)\n",
    "print(res)"
   ]
  },
  {
   "cell_type": "code",
   "execution_count": 316,
   "metadata": {},
   "outputs": [
    {
     "name": "stdout",
     "output_type": "stream",
     "text": [
      "Optimization terminated successfully.\n",
      "         Current function value: 1.331169\n",
      "         Iterations: 4378\n",
      "         Function evaluations: 6101\n"
     ]
    }
   ],
   "source": [
    "# Fit on TF\n",
    "\n",
    "plsq2 = minimize(Res2in, Pn, method='nelder-mead', options={'xtol': 1e-5, 'disp': True, 'maxiter':10000})"
   ]
  },
  {
   "cell_type": "code",
   "execution_count": 317,
   "metadata": {
    "scrolled": true
   },
   "outputs": [
    {
     "data": {
      "text/plain": [
       " final_simplex: (array([[ -22.98559855,   28.14448835,    2.95259604,  -53.43756888,\n",
       "          -6.92645707,   15.36494256, -115.41136847,    8.38495057,\n",
       "          -5.54714707,    0.26971914],\n",
       "       [ -22.98559876,   28.14448805,    2.95259589,  -53.43756685,\n",
       "          -6.92645706,   15.36494178, -115.41136191,    8.38495011,\n",
       "          -5.54714603,    0.26971913],\n",
       "       [ -22.98559853,   28.14448868,    2.95259618,  -53.43756951,\n",
       "          -6.92645705,   15.36493984, -115.41137132,    8.38495115,\n",
       "          -5.54714464,    0.26971912],\n",
       "       [ -22.98559832,   28.14448864,    2.95259608,  -53.43757123,\n",
       "          -6.92645718,   15.36494481, -115.41137298,    8.3849507 ,\n",
       "          -5.54714864,    0.26971916],\n",
       "       [ -22.98559852,   28.14448844,    2.95259601,  -53.43756908,\n",
       "          -6.92645718,   15.36494274, -115.41136816,    8.38495034,\n",
       "          -5.54714682,    0.26971914],\n",
       "       [ -22.98559856,   28.14448838,    2.95259603,  -53.43756881,\n",
       "          -6.92645702,   15.36494247, -115.41136843,    8.38495053,\n",
       "          -5.54714699,    0.26971915],\n",
       "       [ -22.98559844,   28.14448854,    2.95259602,  -53.43757006,\n",
       "          -6.92645714,   15.36494255, -115.4113699 ,    8.38495075,\n",
       "          -5.54714642,    0.26971915],\n",
       "       [ -22.98559856,   28.14448827,    2.95259601,  -53.43756876,\n",
       "          -6.92645705,   15.36494306, -115.41136749,    8.38495036,\n",
       "          -5.54714712,    0.26971914],\n",
       "       [ -22.98559835,   28.14448857,    2.95259608,  -53.43757096,\n",
       "          -6.9264572 ,   15.36494468, -115.41137231,    8.3849507 ,\n",
       "          -5.54714852,    0.26971915],\n",
       "       [ -22.98559825,   28.1444888 ,    2.95259618,  -53.43757191,\n",
       "          -6.92645715,   15.36494437, -115.41137586,    8.38495089,\n",
       "          -5.54714829,    0.26971915],\n",
       "       [ -22.98559833,   28.14448861,    2.95259608,  -53.437571  ,\n",
       "          -6.92645712,   15.36494396, -115.41137274,    8.38495079,\n",
       "          -5.54714784,    0.26971916]]), array([1.33116924, 1.33116924, 1.33116924, 1.33116924, 1.33116924,\n",
       "       1.33116924, 1.33116924, 1.33116924, 1.33116924, 1.33116924,\n",
       "       1.33116924]))\n",
       "           fun: 1.331169239295642\n",
       "       message: 'Optimization terminated successfully.'\n",
       "          nfev: 6101\n",
       "           nit: 4378\n",
       "        status: 0\n",
       "       success: True\n",
       "             x: array([ -22.98559855,   28.14448835,    2.95259604,  -53.43756888,\n",
       "         -6.92645707,   15.36494256, -115.41136847,    8.38495057,\n",
       "         -5.54714707,    0.26971914])"
      ]
     },
     "execution_count": 317,
     "metadata": {},
     "output_type": "execute_result"
    }
   ],
   "source": [
    "plsq2"
   ]
  },
  {
   "cell_type": "code",
   "execution_count": 318,
   "metadata": {},
   "outputs": [],
   "source": [
    "# Parameters to use for the TF (inhibitory)\n",
    "\n",
    "Pn2=plsq2.x"
   ]
  },
  {
   "cell_type": "code",
   "execution_count": 319,
   "metadata": {},
   "outputs": [],
   "source": [
    "Name2='FS_fit_new_thr30-28_3.txt'\n",
    "f1 = open(Name2, 'w')\n",
    "for i in range (0,len(Pn2)):\n",
    "    f1.write(str(Pn2[i]) + \"\\n\")\n",
    "    \n",
    "f1.close()"
   ]
  },
  {
   "cell_type": "code",
   "execution_count": null,
   "metadata": {},
   "outputs": [],
   "source": []
  },
  {
   "cell_type": "code",
   "execution_count": null,
   "metadata": {},
   "outputs": [],
   "source": []
  },
  {
   "cell_type": "code",
   "execution_count": null,
   "metadata": {},
   "outputs": [],
   "source": []
  },
  {
   "cell_type": "code",
   "execution_count": null,
   "metadata": {},
   "outputs": [],
   "source": []
  },
  {
   "cell_type": "code",
   "execution_count": null,
   "metadata": {},
   "outputs": [],
   "source": []
  },
  {
   "cell_type": "code",
   "execution_count": null,
   "metadata": {},
   "outputs": [],
   "source": []
  }
 ],
 "metadata": {
  "kernelspec": {
   "display_name": "Python 3 (ipykernel)",
   "language": "python",
   "name": "python3"
  },
  "language_info": {
   "codemirror_mode": {
    "name": "ipython",
    "version": 3
   },
   "file_extension": ".py",
   "mimetype": "text/x-python",
   "name": "python",
   "nbconvert_exporter": "python",
   "pygments_lexer": "ipython3",
   "version": "3.9.13"
  }
 },
 "nbformat": 4,
 "nbformat_minor": 2
}
