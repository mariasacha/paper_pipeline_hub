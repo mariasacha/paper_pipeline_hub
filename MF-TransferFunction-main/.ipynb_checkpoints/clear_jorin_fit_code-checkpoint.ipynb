{
 "cells": [
  {
   "cell_type": "code",
   "execution_count": null,
   "id": "20b356b0",
   "metadata": {},
   "outputs": [],
   "source": [
    "%matplotlib widget"
   ]
  },
  {
   "cell_type": "code",
   "execution_count": null,
   "id": "c42c9f81",
   "metadata": {},
   "outputs": [],
   "source": [
    "import numpy as np\n",
    "import matplotlib.pyplot as plt\n",
    "from scipy.special import erf, erfc, erfcinv\n",
    "from scipy.optimize import minimize\n",
    "\n",
    "from mpl_toolkits.mplot3d import Axes3D\n",
    "from cell_library import loadparams"
   ]
  },
  {
   "cell_type": "code",
   "execution_count": null,
   "id": "f03844c5",
   "metadata": {},
   "outputs": [],
   "source": [
    "FS=np.load(f'/DATA/Maria/fede_tau/data/ExpTF_inh_Nstp60_tau_e_4_b_30_vol2.npy').T\n",
    "RS=np.load(f'/DATA/Maria/fede_tau/data/ExpTF_exc_Nstp60_tau_e_4_b_30_vol2.npy').T\n",
    "\n",
    "FS2=np.load(f'/DATA/Maria/fede_tau/data/ExpTF_inh_Nstp60_tau_e_4_b_30_vol3.npy').T\n",
    "RS2=np.load(f'/DATA/Maria/fede_tau/data/ExpTF_exc_Nstp60_tau_e_4_b_30_vol3.npy').T\n",
    "\n",
    "ve = np.linspace(0, 40, 60)\n",
    "vi = np.linspace(0, 40, 60)\n",
    "\n",
    "vve, vvi = np.meshgrid(ve, vi)"
   ]
  },
  {
   "cell_type": "code",
   "execution_count": null,
   "id": "62c3ae36",
   "metadata": {},
   "outputs": [],
   "source": [
    "ve = np.linspace(0, 40, 60)\n",
    "ve2 = np.linspace(0.1,10, 30)\n",
    "ve3 = sorted(np.concatenate([ve,ve2]))\n",
    "\n",
    "ve=ve3\n",
    "vve, vvi = np.meshgrid(ve, vi)\n",
    "#take indices\n",
    "indix = []\n",
    "for i in ve2:\n",
    "    idx = np.where(ve3==i)\n",
    "    indix.append(idx[0][0])\n",
    "    "
   ]
  },
  {
   "cell_type": "code",
   "execution_count": null,
   "id": "d656f0fd",
   "metadata": {},
   "outputs": [],
   "source": [
    "# for FS\n",
    "nan_ar = np.empty((46,30))\n",
    "nan_ar[:] = np.nan\n",
    "print(nan_ar.shape)\n",
    "FS2_ = np.vstack([FS2, nan_ar])\n",
    " \n",
    "print(indix)\n",
    "FS_bet = FS\n",
    "for i in range(len(indix)):\n",
    "    FSfin = np.insert(FS_bet, indix[i], FS2_[:,i], axis=1)\n",
    "    FS_bet = FSfin\n",
    "#     print(np.shape(FS_bet))\n",
    "FS = FS_bet"
   ]
  },
  {
   "cell_type": "code",
   "execution_count": null,
   "id": "3dcf46c9",
   "metadata": {},
   "outputs": [],
   "source": [
    "# for RS\n",
    "nan_ar = np.empty((46,30))\n",
    "nan_ar[:] = np.nan\n",
    "print(nan_ar.shape)\n",
    "RS2_ = np.vstack([RS2, nan_ar])\n",
    "print(RS2_.shape)\n",
    "    \n",
    "RS_bet = RS\n",
    "for i in range(len(indix)):\n",
    "    RSfin = np.insert(RS_bet, indix[i], RS2_[:,i], axis=1)\n",
    "    RS_bet = RSfin\n",
    "#     print(np.shape(RS_bet))\n",
    "RS = RS_bet"
   ]
  },
  {
   "cell_type": "code",
   "execution_count": null,
   "id": "c3dd3b38",
   "metadata": {},
   "outputs": [],
   "source": [
    "i = 10 # choose inhibitory input\n",
    "fig = plt.figure()\n",
    "ax = fig.add_subplot(111)\n",
    "ax.plot(ve, FS[i], '-ob')\n",
    "ax.set_title(f'vi = {vi[i]:.2f} Hz')\n",
    "ax.set_xlabel('ve')\n",
    "ax.set_ylabel('vout TC')\n",
    "plt.xlim(0,10)"
   ]
  },
  {
   "cell_type": "code",
   "execution_count": null,
   "id": "0f7d37bb",
   "metadata": {},
   "outputs": [],
   "source": [
    "# Create a new figure\n",
    "fig = plt.figure()\n",
    "\n",
    "# Create axes for the 3D plot\n",
    "ax = fig.add_subplot(111, projection='3d')\n",
    "\n",
    "# Plot the data\n",
    "ax.plot3D(vvi.flatten(), vve.flatten(), FS.flatten(), 'ob', markersize=1, label='FS')\n",
    "ax.plot3D(vvi.flatten(), vve.flatten(), RS.flatten(), 'or', markersize=1, label='RS')\n",
    "\n",
    "# Set labels for the axes\n",
    "ax.set_xlabel('vi')\n",
    "ax.set_ylabel('ve')\n",
    "ax.set_zlabel('vout')\n",
    "\n",
    "# Add a legend\n",
    "ax.legend()\n",
    "\n",
    "# Display the plot\n",
    "plt.show()"
   ]
  },
  {
   "cell_type": "code",
   "execution_count": null,
   "id": "d0ea0702",
   "metadata": {},
   "outputs": [],
   "source": [
    "# Create a new figure\n",
    "fig = plt.figure()\n",
    "\n",
    "# Create axes for the plot\n",
    "ax1 = fig.add_subplot(111)\n",
    "\n",
    "# Plot the image and store the returned mappable object\n",
    "image = ax1.imshow(FS)\n",
    "\n",
    "# Add a colorbar using the mappable object\n",
    "plt.colorbar(image)\n",
    "\n",
    "# Display the plot\n",
    "plt.show()"
   ]
  },
  {
   "cell_type": "code",
   "execution_count": null,
   "id": "ba376ad6",
   "metadata": {},
   "outputs": [],
   "source": [
    "# params = loadparams('thalamus_ACh')\n",
    "params = loadparams('cortex_updown_maria_no_adapt')"
   ]
  },
  {
   "cell_type": "code",
   "execution_count": null,
   "id": "04282fa4",
   "metadata": {},
   "outputs": [],
   "source": [
    "params['FS']"
   ]
  },
  {
   "cell_type": "code",
   "execution_count": null,
   "id": "31df98d1",
   "metadata": {},
   "outputs": [],
   "source": [
    "params['RS']"
   ]
  },
  {
   "cell_type": "code",
   "execution_count": null,
   "id": "d615fc00",
   "metadata": {},
   "outputs": [],
   "source": [
    "def MPF(typ,fexc,finh,fout):\n",
    "\n",
    "    p = params[ typ ]\n",
    "    P,Nexc,Ninh,Qe,Qi,Cm,El = p.P,p.Nexc,p.Ninh,p.Qe,p.Qi,p.Cm,p.El\n",
    "    a,b,Tw,Gl,Te,Ti,Ee,Ei = p.a,p.b,p.Tw,p.Gl,p.Te,p.Ti,p.Ee,p.Ei\n",
    "\n",
    "    fexc[fexc<1e-9]=1e-9\n",
    "    fe = fexc*Nexc\n",
    "    finh[finh<1e-9]=1e-9\n",
    "    fi = finh*Ninh\n",
    "\n",
    "\n",
    "    muGi = Qi*Ti*fi\n",
    "    muGe = Qe*Te*fe\n",
    "    muG = Gl+muGe+muGi\n",
    "    muV = (muGe*Ee+muGi*Ei+Gl*El - fout*Tw*b + a*El)/(muG+a)\n",
    "    \n",
    "    \n",
    "    muGn = muG/Gl\n",
    "    Tm = Cm/muG\n",
    "    \n",
    "    Ue =  Qe/muG*(Ee-muV)\n",
    "    Ui = Qi/muG*(Ei-muV)\n",
    "\n",
    "    sV = np.sqrt(fe*(Ue*Te)*(Ue*Te)/2./(Te+Tm)+fi*(Ui*Ti)*(Ui*Ti)/2./(Ti+Tm))\n",
    "\n",
    "    Tv = ( fe*(Ue*Te)*(Ue*Te) + fi*(Qi*Ui)*(Qi*Ui)) /( fe*(Ue*Te)*(Ue*Te)/(Te+Tm) + fi*(Qi*Ui)*(Qi*Ui)/(Ti+Tm) )\n",
    "    TvN = Tv*Gl/Cm\n",
    "\n",
    "    return muV, sV, Tv, TvN"
   ]
  },
  {
   "cell_type": "code",
   "execution_count": null,
   "id": "73f8ffcb",
   "metadata": {},
   "outputs": [],
   "source": [
    "#====== calculate MPF for TC/RE =======\n",
    "\n",
    "#-choose here the neuron typ:\n",
    "typ = 'RS'\n",
    "\n",
    "exec(f'FF={typ}')\n",
    "muV, sV, Tv, TvN = MPF(typ, vve, vvi, FF)"
   ]
  },
  {
   "cell_type": "code",
   "execution_count": null,
   "id": "f020511c",
   "metadata": {},
   "outputs": [],
   "source": [
    "for i in range(30):\n",
    "    plt.plot(ve, muV[i]*1e3,marker = '.',label=f'vi={vi[i]:.2f}Hz' )\n",
    "\n",
    "plt.xlabel('ve [Hz]')\n",
    "plt.ylabel('muV [mV]')\n",
    "# plt.legend();"
   ]
  },
  {
   "cell_type": "code",
   "execution_count": null,
   "id": "f065ab4e",
   "metadata": {},
   "outputs": [],
   "source": [
    "def pheV(fout, muV, sV, Tv):\n",
    "    fout[fout<0]=1e-9\n",
    "    Tv[Tv<0]=1e-9\n",
    "    return np.sqrt(2)*sV * erfcinv( 2*Tv*fout ) + muV # Zerlaut 2017\n",
    "    # return np.sqrt(2)*sV * erfcinv( Tv*fout ) + muV # to widen the definition range"
   ]
  },
  {
   "cell_type": "code",
   "execution_count": null,
   "id": "b04d3c20",
   "metadata": {},
   "outputs": [],
   "source": [
    "#====== calculate phenomenological V_thr^eff ======\n",
    "Veff = pheV(FF, muV, sV, Tv)\n",
    "\n",
    "for i in range(len(vi)):\n",
    "    plt.plot(ve, Veff[i]*1e3,label=f'vi={vi[i]:.2f}Hz')\n",
    "\n",
    "plt.xlabel('ve [Hz]')\n",
    "plt.ylabel('Veff [mV]')\n",
    "# plt.legend(loc=(1.2,-1.2));"
   ]
  },
  {
   "cell_type": "code",
   "execution_count": null,
   "id": "46e55597",
   "metadata": {},
   "outputs": [],
   "source": [
    "#====== calculate phenomenological V_thr^eff ======\n",
    "Veff = pheV(FF, muV, sV, Tv)\n",
    "\n",
    "fig = plt.figure()\n",
    "ax = fig.add_subplot(111)\n",
    "for i in range(len(vi)):\n",
    "    ax.plot(ve, Veff[i]*1e3,label=f'vi={vi[i]:.2f}Hz')\n",
    "\n",
    "ax.set_xlabel('ve [Hz]')\n",
    "ax.set_ylabel('Veff [mV]')\n",
    "# plt.legend(loc=(1.2,-1.2));"
   ]
  },
  {
   "cell_type": "code",
   "execution_count": null,
   "id": "35c64bc8",
   "metadata": {},
   "outputs": [],
   "source": [
    "#====== calculate phenomenological V_thr^eff ======\n",
    "Veff = pheV(FF, muV, sV, Tv)\n",
    "\n",
    "fig = plt.figure()\n",
    "ax = fig.add_subplot(111)\n",
    "for i in range(len(vi)):\n",
    "    ax.plot(ve, Veff[i]*1e3,label=f'vi={vi[i]:.2f}Hz')\n",
    "\n",
    "ax.set_xlabel('ve [Hz]')\n",
    "ax.set_ylabel('Veff [mV]')\n",
    "# plt.legend(loc=(1.2,-1.2));"
   ]
  },
  {
   "cell_type": "code",
   "execution_count": null,
   "id": "bb37e889",
   "metadata": {},
   "outputs": [],
   "source": [
    "plt.plot(Veff_fit.T);\n",
    "print(np.where(np.isnan(Veff_fit)))\n",
    "print(np.where(np.isinf(Veff_fit)))"
   ]
  },
  {
   "cell_type": "code",
   "execution_count": null,
   "id": "5971cd9f",
   "metadata": {},
   "outputs": [],
   "source": [
    "# calculating the effective threshold potential with a general second order polynomial of the membrane moments (mu,sigma,tau)\n",
    "\n",
    "def Vthre(P, muV, sV, TvN):\n",
    "    # normalizing moments:\n",
    "    muV0 = -60e-3;\n",
    "    DmuV0 = 10e-3;\n",
    "    sV0 = 4e-3;\n",
    "    DsV0 = 6e-3;\n",
    "    TvN0 = 0.5;\n",
    "    DTvN0 = 1.;\n",
    "    \n",
    "    # first order polynomial\n",
    "    Vo1 = P[0] + P[1]*(muV-muV0)/DmuV0 + P[2]*(sV-sV0)/DsV0 + P[3]*(TvN-TvN0)/DTvN0\n",
    "    # second order polynomial\n",
    "    Vo2 = P[4]*((muV-muV0)/DmuV0)*((muV-muV0)/DmuV0) + P[5]*(muV-muV0)/DmuV0*(sV-sV0)/DsV0 + P[6]*(muV-muV0)/DmuV0*(TvN-TvN0)/DTvN0 + P[7]*((sV-sV0)/DsV0)*((sV-sV0)/DsV0) + P[8]*(sV-sV0)/DsV0*(TvN-TvN0)/DTvN0  + P[9]*((TvN-TvN0)/DTvN0)*((TvN-TvN0)/DTvN0);\n",
    "\n",
    "    return Vo1 + Vo2\n",
    "    "
   ]
  },
  {
   "cell_type": "markdown",
   "id": "755fb4bf",
   "metadata": {},
   "source": [
    "p[0] : should be roughly the vthr of the sp.network (eg should not be positive)\n",
    "the other ps should be small"
   ]
  },
  {
   "cell_type": "code",
   "execution_count": null,
   "id": "b8fc692c",
   "metadata": {},
   "outputs": [],
   "source": [
    "# fitting first order Vthr on the phenomenological threshold space\n",
    "\n",
    "def Res(P): return np.mean( (Veff_fit - Vthre(np.concatenate([P,[0]*6]), muV_fit, sV_fit, TvN_fit))**2 )\n",
    "\n",
    "res = minimize(Res, [Veff_fit.mean(),1e-3,1e-3,1e-3], method='nelder-mead', tol=1e-20, options={'disp':True,'maxiter':20000})\n",
    "# res = minimize(Res, [Veff_fit.mean(),1e-3,1e-3,1e-3], method='SLSQP', tol=1e-32, options={'disp':True,'maxiter':20000})\n",
    "\n",
    "P1 = np.array(res.x)\n",
    "print(P1)"
   ]
  },
  {
   "cell_type": "code",
   "execution_count": null,
   "id": "7a0753d2",
   "metadata": {},
   "outputs": [],
   "source": [
    "# checking the fit...\n",
    "\n",
    "# choose vi:\n",
    "i=15\n",
    "\n",
    "plt.title(f'vi = {vi[i]:.2f} Hz')\n",
    "\n",
    "plt.plot(Veff_fit[i]*1e3, label='data')\n",
    "plt.plot(Vthre(np.concatenate([P1,[0]*6]), muV_fit, sV_fit, TvN_fit)[i]*1e3, label='fit')\n",
    "plt.xlabel('ve [Hz]')\n",
    "plt.ylabel('Vthr [mV]')\n",
    "plt.legend();\n"
   ]
  },
  {
   "cell_type": "code",
   "execution_count": null,
   "id": "709fa436",
   "metadata": {},
   "outputs": [],
   "source": [
    "# the transfer function\n",
    "def TF(P, muV, sV, Tv, TvN):\n",
    "    fout = 1/(2*Tv) * erfc( (Vthre(P, muV, sV, TvN) - muV)/(np.sqrt(2)*sV) )\n",
    "    \n",
    "    # fout = np.where(fout<0, 1e-9, fout)\n",
    "    fout[fout<0]=0\n",
    "    return fout"
   ]
  },
  {
   "cell_type": "code",
   "execution_count": null,
   "id": "1fc30e75",
   "metadata": {},
   "outputs": [],
   "source": [
    "def Res(P):\n",
    "    # return np.mean( (TC_fit - TF(P, muV_fit, sV_fit, Tv_fit, TvN_fit))**2 )\n",
    "    return np.mean( (FF[:14] - TF(P, muV[:14], sV[:14], Tv[:14], TvN[:14]))**2 )\n",
    "    # return np.mean( (FF[rid] - TF(P, muV[rid], sV[rid], Tv[rid], TvN[rid]))**2 )\n",
    "\n",
    "# res = minimize(Res, P, method='nelder-mead', tol=1e-20, options={'disp':True,'maxiter':40000})\n",
    "res = minimize(Res, np.concatenate([P1,[1e-6]*6]), method='nelder-mead', tol=1e-20, options={'disp':True,'maxiter':20000})\n",
    "# res = minimize(Res, P, method='SLSQP', options={'ftol':1e-20,'disp':True,'maxiter':40000})\n",
    "\n",
    "PP = np.array(res.x)\n",
    "print(PP)"
   ]
  },
  {
   "cell_type": "code",
   "execution_count": null,
   "id": "a008bf30",
   "metadata": {},
   "outputs": [],
   "source": [
    "# compare fit\n",
    "\n",
    "# choose vi...\n",
    "i =10\n",
    "\n",
    "print(f'vi = {vi[i]:.2f}Hz')\n",
    "\n",
    "fig = plt.figure()\n",
    "ax = fig.add_subplot(111)\n",
    "ax.set_title(f'vi = {vi[i]:.2f}Hz')\n",
    "\n",
    "ax.plot(ve,FF[i], 'o', ms=3, label='data')\n",
    "ax.plot(ve,TF(PP, muV, sV, Tv, TvN)[i], label='fit')\n",
    "\n",
    "ax.set_xlabel('ve [Hz]')\n",
    "ax.set_ylabel('vout [Hz]')\n",
    "plt.legend();"
   ]
  },
  {
   "cell_type": "code",
   "execution_count": null,
   "id": "873269fe",
   "metadata": {},
   "outputs": [],
   "source": [
    "#===== SAVE fitted parameters ======\n",
    "\n",
    "np.save(f'./data/FITparams_{typ}_try_1.npy', PP)"
   ]
  },
  {
   "cell_type": "code",
   "execution_count": null,
   "id": "73469b66",
   "metadata": {},
   "outputs": [],
   "source": [
    "# Create a new figure\n",
    "fig = plt.figure()\n",
    "\n",
    "# Create axes for the 3D plot\n",
    "ax = fig.add_subplot(111, projection='3d')\n",
    "\n",
    "# Plot the data\n",
    "# ax.plot3D(vvi.flatten(), vve.flatten(), FS.flatten(), 'ob', markersize=1, label='FS')\n",
    "ax.plot3D(vvi.flatten(), vve.flatten(), FF.flatten(), 'or', markersize=1, label='data')\n",
    "ax.plot3D(vvi.flatten(), vve.flatten(), TF(PP, muV, sV, Tv, TvN).flatten(), 'ob', markersize=1, label='fit')\n",
    "\n",
    "# Set labels for the axes\n",
    "ax.set_xlabel('vi')\n",
    "ax.set_ylabel('ve')\n",
    "ax.set_zlabel('vout')\n",
    "\n",
    "ax.set_title(\"NO RANGE RS\")\n",
    "\n",
    "# Add a legend\n",
    "ax.legend()\n",
    "\n",
    "# Display the plot\n",
    "plt.show()"
   ]
  }
 ],
 "metadata": {
  "kernelspec": {
   "display_name": "Python 3 (ipykernel)",
   "language": "python",
   "name": "python3"
  },
  "language_info": {
   "codemirror_mode": {
    "name": "ipython",
    "version": 3
   },
   "file_extension": ".py",
   "mimetype": "text/x-python",
   "name": "python",
   "nbconvert_exporter": "python",
   "pygments_lexer": "ipython3",
   "version": "3.9.13"
  }
 },
 "nbformat": 4,
 "nbformat_minor": 5
}
